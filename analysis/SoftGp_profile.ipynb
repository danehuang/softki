{
 "cells": [
  {
   "cell_type": "code",
   "execution_count": 1,
   "metadata": {},
   "outputs": [
    {
     "name": "stderr",
     "output_type": "stream",
     "text": [
      "c:\\Users\\chris\\anaconda3\\envs\\softgp\\Lib\\site-packages\\tqdm\\auto.py:21: TqdmWarning: IProgress not found. Please update jupyter and ipywidgets. See https://ipywidgets.readthedocs.io/en/stable/user_install.html\n",
      "  from .autonotebook import tqdm as notebook_tqdm\n"
     ]
    }
   ],
   "source": [
    "import matplotlib.pyplot as plt \n",
    "import time \n",
    "from tqdm import tqdm \n",
    "import random \n",
    "import torch \n",
    "from torch.utils.data import random_split, DataLoader, Dataset\n",
    "import gpytorch\n",
    "from gpytorch.kernels import ScaleKernel, RBFKernel\n",
    "from sklearn.cluster import KMeans\n",
    "from linear_operator.settings import max_cholesky_size\n",
    "\n",
    "import sys \n",
    "sys.path.append(\"../\")\n",
    "from gp.util import dynamic_instantiation, flatten_dict, unflatten_dict, flatten_dataset, split_dataset, filter_param, heatmap\n",
    "\n",
    "# System/Library imports\n",
    "from typing import *\n",
    "\n",
    "# Common data science imports\n",
    "import numpy as np\n",
    "import torch\n",
    "\n",
    "# Gpytorch and linear_operator\n",
    "import gpytorch \n",
    "import gpytorch.constraints\n",
    "from gpytorch.kernels import ScaleKernel\n",
    "import linear_operator\n",
    "from linear_operator.operators.dense_linear_operator import DenseLinearOperator\n",
    "from linear_operator.utils.cholesky import psd_safe_cholesky\n",
    "\n",
    "# Our imports\n",
    "from gp.soft_gp.mll import HutchinsonPseudoLoss\n",
    "from linear_solver.cg import linear_cg\n",
    "\n"
   ]
  },
  {
   "cell_type": "markdown",
   "metadata": {},
   "source": [
    "### Soft GP testing profiling/tuning boilerplate\n",
    "its recommend to collapse all functions with Ctrl/Cmnd +k +0 "
   ]
  },
  {
   "cell_type": "markdown",
   "metadata": {},
   "source": [
    "### SoftGP baseline implementation \n",
    "---\n"
   ]
  },
  {
   "cell_type": "code",
   "execution_count": 2,
   "metadata": {},
   "outputs": [],
   "source": [
    "class SoftGP_baseline(torch.nn.Module):\n",
    "    def __init__(\n",
    "        self,\n",
    "        kernel: Callable,\n",
    "        inducing_points: torch.Tensor,\n",
    "        noise=1e-3,\n",
    "        learn_noise=False,\n",
    "        use_scale=False,\n",
    "        device=\"cpu\",\n",
    "        dtype=torch.float32,\n",
    "        solver=\"solve\",\n",
    "        max_cg_iter=50,\n",
    "        cg_tolerance=0.5,\n",
    "        mll_approx=\"hutchinson\",\n",
    "        fit_chunk_size=1024,\n",
    "        use_qr=False,\n",
    "    ) -> None:\n",
    "        # Argument checking \n",
    "        methods = [\"solve\", \"cholesky\", \"cg\"]\n",
    "        if not solver in methods:\n",
    "            raise ValueError(f\"Method {solver} should be in {methods} ...\")\n",
    "        \n",
    "        # Check devices\n",
    "        devices = [\"cpu\"]\n",
    "        if torch.cuda.is_available():\n",
    "            devices += [\"cuda\"]\n",
    "            for i in range(torch.cuda.device_count()):\n",
    "                devices += [f\"cuda:{i}\"]\n",
    "        if not device in devices:\n",
    "            raise ValueError(f\"Device {device} should be in {devices} ...\")\n",
    "\n",
    "        # Create torch module\n",
    "        super(SoftGP_baseline, self).__init__()\n",
    "\n",
    "        # Misc\n",
    "        self.device = device\n",
    "        self.dtype = dtype\n",
    "        \n",
    "        # Mll approximation settings\n",
    "        self.solve_method = solver\n",
    "        self.mll_approx = mll_approx\n",
    "\n",
    "        # Fit settings\n",
    "        self.use_qr = use_qr\n",
    "        self.fit_chunk_size = fit_chunk_size\n",
    "\n",
    "        # Noise\n",
    "        self.noise_constraint = gpytorch.constraints.Positive()\n",
    "        noise = torch.tensor([noise], dtype=self.dtype, device=self.device)\n",
    "        noise = self.noise_constraint.inverse_transform(noise)\n",
    "        if learn_noise:\n",
    "            self.register_parameter(\"raw_noise\", torch.nn.Parameter(noise))\n",
    "        else:\n",
    "            self.raw_noise = noise\n",
    "\n",
    "        # Kernel\n",
    "        self.use_scale = use_scale\n",
    "        if use_scale:\n",
    "            self.kernel = ScaleKernel(kernel).to(self.device)\n",
    "        else:\n",
    "            self.kernel = kernel.to(self.device)\n",
    "\n",
    "        # Inducing points\n",
    "        self.register_parameter(\"inducing_points\", torch.nn.Parameter(inducing_points))\n",
    "\n",
    "        # Interpolation\n",
    "        def softmax_interp(X: torch.Tensor, sigma_values: torch.Tensor) -> torch.Tensor:\n",
    "            distances = torch.linalg.vector_norm(X - sigma_values, ord=2, dim=-1)\n",
    "            softmax_distances = torch.softmax(-distances, dim=-1)\n",
    "            return softmax_distances\n",
    "        self.interp = softmax_interp\n",
    "        \n",
    "        # Fit artifacts\n",
    "        self.alpha = None\n",
    "        self.K_zz_alpha = None\n",
    "\n",
    "        # CG solver params\n",
    "        self.max_cg_iter = max_cg_iter\n",
    "        self.cg_tol = cg_tolerance\n",
    "        self.x0 = None\n",
    "        \n",
    "    # -----------------------------------------------------\n",
    "    # Soft GP Helpers\n",
    "    # -----------------------------------------------------\n",
    "    \n",
    "    @property\n",
    "    def noise(self):\n",
    "        return self.noise_constraint.transform(self.raw_noise)\n",
    "\n",
    "    def get_lengthscale(self) -> float:\n",
    "        if self.use_scale:\n",
    "            return self.kernel.base_kernel.lengthscale.cpu()\n",
    "        else:\n",
    "            return self.kernel.lengthscale.cpu()\n",
    "        \n",
    "    def get_outputscale(self) -> float:\n",
    "        if self.use_scale:\n",
    "            return self.kernel.outputscale.cpu()\n",
    "        else:\n",
    "            return 1.\n",
    "\n",
    "    def _mk_cov(self, z: torch.Tensor) -> torch.Tensor:\n",
    "        return self.kernel(z, z).evaluate()\n",
    "    \n",
    "    def _interp(self, x: torch.Tensor) -> torch.Tensor:\n",
    "        x_expanded = x.unsqueeze(1).expand(-1, self.inducing_points.shape[0], -1)\n",
    "        W_xz = self.interp(x_expanded, self.inducing_points)\n",
    "        return W_xz\n",
    "\n",
    "    # -----------------------------------------------------\n",
    "    # Linear solver\n",
    "    # -----------------------------------------------------\n",
    "\n",
    "    def _solve_system(\n",
    "        self,\n",
    "        kxx: linear_operator.operators.LinearOperator,\n",
    "        full_rhs: torch.Tensor,\n",
    "        x0: torch.Tensor = None,\n",
    "        forwards_matmul: Callable = None,\n",
    "        precond: torch.Tensor = None,\n",
    "        return_pinv: bool = False,\n",
    "    ) -> torch.Tensor:\n",
    "        use_pinv = False\n",
    "        with torch.no_grad():\n",
    "            try:\n",
    "                if self.solve_method == \"solve\":\n",
    "                    solve = torch.linalg.solve(kxx, full_rhs)\n",
    "                elif self.solve_method == \"cholesky\":\n",
    "                    L = torch.linalg.cholesky(kxx)\n",
    "                    solve = torch.cholesky_solve(full_rhs, L)\n",
    "                elif self.solve_method == \"cg\":\n",
    "                    # Source: https://github.com/AndPotap/halfpres_gps/blob/main/mlls/mixedpresmll.py\n",
    "                    solve = linear_cg(\n",
    "                        forwards_matmul,\n",
    "                        full_rhs,\n",
    "                        max_iter=self.max_cg_iter,\n",
    "                        tolerance=self.cg_tol,\n",
    "                        initial_guess=x0,\n",
    "                        preconditioner=precond,\n",
    "                    )\n",
    "                else:\n",
    "                    raise ValueError(f\"Unknown method: {self.solve_method}\")\n",
    "            except RuntimeError as e:\n",
    "                print(\"Fallback to pseudoinverse: \", str(e))\n",
    "                solve = torch.linalg.pinv(kxx.evaluate()) @ full_rhs\n",
    "                use_pinv = True\n",
    "\n",
    "        # Apply torch.nan_to_num to handle NaNs from percision limits \n",
    "        solve = torch.nan_to_num(solve)\n",
    "        return (solve, use_pinv) if return_pinv else solve\n",
    "\n",
    "    # -----------------------------------------------------\n",
    "    # Marginal Log Likelihood\n",
    "    # -----------------------------------------------------\n",
    "\n",
    "    def mll(self, X: torch.Tensor, y: torch.Tensor) -> torch.Tensor:\n",
    "        \"\"\"Compute the marginal log likelihood of a soft GP:\n",
    "            \n",
    "            log p(y) = log N(y | mu_x, Q_xx)\n",
    "\n",
    "            where\n",
    "                mu_X: mean of soft GP\n",
    "                Q_XX = W_xz K_zz W_zx\n",
    "\n",
    "        Args:\n",
    "            X (torch.Tensor): B x D tensor of inputs where each row is a point.\n",
    "            y (torch.Tensor): B tensor of targets.\n",
    "\n",
    "        Returns:\n",
    "            torch.Tensor:  log p(y)\n",
    "        \"\"\"        \n",
    "        # Construct covariance matrix components\n",
    "        K_zz = self._mk_cov(self.inducing_points)\n",
    "        W_xz = self._interp(X)\n",
    "        \n",
    "        if self.mll_approx == \"exact\":\n",
    "            # [Note]: Compute MLL with a multivariate normal. Unstable for float.\n",
    "            # 1. mean: 0\n",
    "            mean = torch.zeros(len(X), dtype=self.dtype, device=self.device)\n",
    "            \n",
    "            # 2. covariance: Q_xx = (W_xz L) (L^T W_xz) + noise I  where K_zz = L L^T\n",
    "            L = psd_safe_cholesky(K_zz)\n",
    "            LK = (W_xz @ L).to(device=self.device)\n",
    "            cov_diag = self.noise * torch.ones(len(X), dtype=self.dtype, device=self.device)\n",
    "\n",
    "            # 3. N(mu, Q_xx)\n",
    "            normal_dist = torch.distributions.lowrank_multivariate_normal.LowRankMultivariateNormal(mean, LK, cov_diag, validate_args=None)\n",
    "            \n",
    "            # 4. log N(y | mu, Q_xx)\n",
    "            return normal_dist.log_prob(y)\n",
    "        elif self.mll_approx == \"hutchinson\":\n",
    "            # [Note]: Compute MLL with Hutchinson's trace estimator\n",
    "            # 1. mean: 0\n",
    "            mean = torch.zeros(len(X), dtype=self.dtype, device=self.device)\n",
    "            \n",
    "            # 2. covariance: Q_xx = W_xz K_zz K_zx + noise I\n",
    "            cov_mat = W_xz @ K_zz @ W_xz.T \n",
    "            cov_mat += torch.eye(cov_mat.shape[1], dtype=self.dtype, device=self.device) * self.noise\n",
    "\n",
    "            # 3. log N(y | mu, Q_xx) \\appox \n",
    "            hutchinson_mll = HutchinsonPseudoLoss(self, num_trace_samples=10)\n",
    "            return hutchinson_mll(mean, cov_mat, y)\n",
    "        else:\n",
    "            raise ValueError(f\"Unknown MLL approximation method: {self.mll_approx}\")\n",
    "        \n",
    "    # -----------------------------------------------------\n",
    "    # Fit\n",
    "    # -----------------------------------------------------\n",
    "\n",
    "    def _direct_solve_fit(self, M, N, X, y, K_zz):\n",
    "        # Construct A and b for linear solve\n",
    "        #   A = (K_zz + hat{K}_zx @ noise^{-1} @ hat{K}_xz)\n",
    "        #   b = (hat{K}_zx @ noise^{-1}) y\n",
    "        if X.shape[0] * X.shape[1] <= 32768:\n",
    "            # Case: \"small\" X\n",
    "            # Form estimate \\hat{K}_xz ~= W_xz K_zz\n",
    "            W_xz = self._interp(X)\n",
    "            hat_K_xz = W_xz @ K_zz\n",
    "            hat_K_zx = hat_K_xz.T\n",
    "            \n",
    "            # Form A and b\n",
    "            Lambda_inv_diag = (1 / self.noise) * torch.ones(N, dtype=self.dtype).to(self.device)\n",
    "            A = K_zz + hat_K_zx @ (Lambda_inv_diag.unsqueeze(1) * hat_K_xz)\n",
    "            b = hat_K_zx @ (Lambda_inv_diag * y)\n",
    "        else:\n",
    "            # Case: \"large\" X\n",
    "            with torch.no_grad():\n",
    "                # Initialize outputs\n",
    "                A = torch.zeros(M, M, dtype=self.dtype, device=self.device)\n",
    "                b = torch.zeros(M, dtype=self.dtype, device=self.device)\n",
    "                \n",
    "                # Initialize temporary values\n",
    "                fit_chunk_size = self.fit_chunk_size\n",
    "                batches = int(np.floor(N / fit_chunk_size))\n",
    "                Lambda_inv = (1 / self.noise) * torch.eye(fit_chunk_size, dtype=self.dtype, device=self.device)\n",
    "                tmp1 = torch.zeros(fit_chunk_size, M, dtype=self.dtype, device=self.device)\n",
    "                tmp2 = torch.zeros(M, M, dtype=self.dtype, device=self.device)\n",
    "                tmp3 = torch.zeros(fit_chunk_size, dtype=self.dtype, device=self.device)\n",
    "                tmp4 = torch.zeros(M, dtype=self.dtype, device=self.device)\n",
    "                tmp5 = torch.zeros(M, dtype=self.dtype, device=self.device)\n",
    "                \n",
    "                # Compute batches\n",
    "                for i in range(batches):\n",
    "                    # Update A: A += W_zx @ Lambda_inv @ W_xz\n",
    "                    X_batch = X[i*fit_chunk_size:(i+1)*fit_chunk_size]\n",
    "                    W_xz = self._interp(X_batch)\n",
    "                    W_zx = W_xz.T\n",
    "                    torch.matmul(Lambda_inv, W_xz, out=tmp1)\n",
    "                    torch.matmul(W_zx, tmp1, out=tmp2)\n",
    "                    A.add_(tmp2)\n",
    "                    \n",
    "                    # Update b: b += K_zz @ W_zx @ (Lambda_inv @ Y[i*batch_size:(i+1)*batch_size])\n",
    "                    torch.matmul(Lambda_inv, y[i*fit_chunk_size:(i+1)*fit_chunk_size], out=tmp3)\n",
    "                    torch.matmul(W_zx, tmp3, out=tmp4)\n",
    "                    torch.matmul(K_zz, tmp4, out=tmp5)\n",
    "                    b.add_(tmp5)\n",
    "                \n",
    "                # Compute last batch\n",
    "                if N - (i+1)*fit_chunk_size > 0:\n",
    "                    Lambda_inv = (1 / self.noise) * torch.eye(N - (i+1)*fit_chunk_size, dtype=self.dtype, device=self.device)\n",
    "                    X_batch = X[(i+1)*fit_chunk_size:]\n",
    "                    W_xz = self._interp(X_batch)\n",
    "                    A += W_xz.T @ Lambda_inv @ W_xz\n",
    "                    b += K_zz @ W_xz.T @ Lambda_inv @ y[(i+1)*fit_chunk_size:]\n",
    "\n",
    "                # Aggregate result\n",
    "                A = K_zz + K_zz @ A @ K_zz\n",
    "\n",
    "        # Safe solve A \\alpha = b\n",
    "        A = DenseLinearOperator(A)\n",
    "        self.alpha, use_pinv = self._solve_system(\n",
    "            A,\n",
    "            b.unsqueeze(1),\n",
    "            x0=torch.zeros_like(b),\n",
    "            forwards_matmul=A.matmul,\n",
    "            precond=None,\n",
    "            return_pinv=True\n",
    "        )\n",
    "\n",
    "        # Store for fast prediction\n",
    "        self.K_zz_alpha = K_zz @ self.alpha\n",
    "        return use_pinv\n",
    "\n",
    "    def _qr_solve_fit(self, M, N, X, y, K_zz):\n",
    "        if X.shape[0] * X.shape[1] <= 32768:\n",
    "            # Compute: W_xz K_zz\n",
    "            print(\"USING QR SMALL\")\n",
    "            W_xz = self._interp(X)\n",
    "            hat_K_xz = W_xz @ K_zz\n",
    "        else:\n",
    "            # Compute: W_xz K_zz in a batched fashion\n",
    "            print(\"USING QR BATCH\")\n",
    "            with torch.no_grad():\n",
    "                # Compute batches\n",
    "                fit_chunk_size = self.fit_chunk_size\n",
    "                batches = int(np.floor(N / fit_chunk_size))\n",
    "                Lambda_half_inv_diag = (1 / torch.sqrt(self.noise)) * torch.ones(fit_chunk_size, dtype=self.dtype, device=self.device)\n",
    "                hat_K_xz = torch.zeros((N, M), dtype=self.dtype, device=self.device)\n",
    "                for i in range(batches):\n",
    "                    start = i*fit_chunk_size\n",
    "                    end = (i+1)*fit_chunk_size\n",
    "                    X_batch = X[start:end,:]\n",
    "                    W_xz = self._interp(X_batch)\n",
    "                    torch.matmul(W_xz, K_zz, out=hat_K_xz[start:end,:])\n",
    "                \n",
    "                start = (i+1)*fit_chunk_size\n",
    "                if N - start > 0:\n",
    "                    Lambda_half_inv_diag = (1 / torch.sqrt(self.noise)) * torch.eye(N - (i+1)*fit_chunk_size, dtype=self.dtype, device=self.device)\n",
    "                    X_batch = X[start:]\n",
    "                    W_xz = self._interp(X_batch)\n",
    "                    torch.matmul(W_xz, K_zz, out=hat_K_xz[start:,:])\n",
    "        \n",
    "        # B^T = [(Lambda^{-1/2} \\hat{K}_xz) U_zz ]\n",
    "        U_zz = psd_safe_cholesky(K_zz, upper=True, max_tries=10)\n",
    "        Lambda_half_inv_diag = (1 / torch.sqrt(self.noise)) * torch.ones(N, dtype=self.dtype).to(self.device)\n",
    "        B = torch.cat([Lambda_half_inv_diag.unsqueeze(1) * hat_K_xz, U_zz], dim=0)\n",
    "\n",
    "        # B = QR\n",
    "        Q, R = torch.linalg.qr(B)\n",
    "\n",
    "        # \\alpha = R^{-1} @ Q^T @ Lambda^{-1/2}b\n",
    "        b = Lambda_half_inv_diag * y\n",
    "        self.alpha = torch.linalg.solve_triangular(R, (Q.T[:, 0:N] @ b).unsqueeze(1), upper=True).squeeze(1) # (should use triangular solve)\n",
    "        # self.alpha = ((torch.linalg.inv(R) @ Q.T)[:, :N] @ b)\n",
    "        \n",
    "        # Store for fast inference\n",
    "        self.K_zz_alpha = K_zz @ self.alpha\n",
    "\n",
    "        return False\n",
    "\n",
    "    def fit(self, X: torch.Tensor, y: torch.Tensor) -> bool:\n",
    "        \"\"\"Fits a SoftGP to dataset (X, y). That is, solve:\n",
    "\n",
    "                (hat{K}_zx @ noise^{-1}) y = (K_zz + hat{K}_zx @ noise^{-1} @ hat{K}_xz) \\alpha\n",
    "        \n",
    "            for \\alpha where\n",
    "            1. inducing points z are fixed,\n",
    "            2. hat{K}_zx = K_zz W_zx, and\n",
    "            3. hat{K}_xz = hat{K}_zx^T.\n",
    "\n",
    "        Args:\n",
    "            X (torch.Tensor): N x D tensor of inputs\n",
    "            y (torch.Tensor): N tensor of outputs\n",
    "\n",
    "        Returns:\n",
    "            bool: Returns true if the pseudoinverse was used, false otherwise.\n",
    "        \"\"\"        \n",
    "        # Prepare inputs\n",
    "        N = len(X)\n",
    "        M = len(self.inducing_points)\n",
    "        X = X.to(self.device, dtype=self.dtype)\n",
    "        y = y.to(self.device, dtype=self.dtype)\n",
    "\n",
    "        # Form K_zz\n",
    "        K_zz = self._mk_cov(self.inducing_points)\n",
    "\n",
    "        if self.use_qr:\n",
    "            return self._qr_solve_fit(M, N, X, y, K_zz)\n",
    "        else:\n",
    "            return self._direct_solve_fit(M, N, X, y, K_zz)\n",
    "\n",
    "    # -----------------------------------------------------\n",
    "    # Predict\n",
    "    # -----------------------------------------------------\n",
    "\n",
    "    def pred(self, x_star: torch.Tensor) -> torch.Tensor:\n",
    "        \"\"\"Give the posterior predictive:\n",
    "        \n",
    "            p(y_star | x_star, X, y) \n",
    "                = W_star_z (K_zz \\alpha)\n",
    "                = W_star_z K_zz (K_zz + hat{K}_zx @ noise^{-1} @ hat{K}_xz)^{-1} (hat{K}_zx @ noise^{-1}) y\n",
    "\n",
    "        Args:\n",
    "            x_star (torch.Tensor): B x D tensor of points to evaluate at.\n",
    "\n",
    "        Returns:\n",
    "            torch.Tensor: B tensor of p(y_star | x_star, X, y).\n",
    "        \"\"\"        \n",
    "        W_star_z = self._interp(x_star)\n",
    "        return torch.matmul(W_star_z, self.K_zz_alpha).squeeze(-1)"
   ]
  },
  {
   "cell_type": "markdown",
   "metadata": {},
   "source": [
    "### SoftGP test implementation \n",
    "\n",
    "---"
   ]
  },
  {
   "cell_type": "code",
   "execution_count": 3,
   "metadata": {},
   "outputs": [],
   "source": [
    "class SoftGP_test(torch.nn.Module):\n",
    "    def __init__(\n",
    "        self,\n",
    "        kernel: Callable,\n",
    "        inducing_points: torch.Tensor,\n",
    "        noise=1e-3,\n",
    "        learn_noise=False,\n",
    "        use_scale=False,\n",
    "        device=\"cpu\",\n",
    "        dtype=torch.float32,\n",
    "        solver=\"solve\",\n",
    "        max_cg_iter=50,\n",
    "        cg_tolerance=0.5,\n",
    "        mll_approx=\"hutchinson\",\n",
    "        fit_chunk_size=1024,\n",
    "        use_qr=False,\n",
    "    ) -> None:\n",
    "        # Argument checking \n",
    "        methods = [\"solve\", \"cholesky\", \"cg\"]\n",
    "        if not solver in methods:\n",
    "            raise ValueError(f\"Method {solver} should be in {methods} ...\")\n",
    "        \n",
    "        # Check devices\n",
    "        devices = [\"cpu\"]\n",
    "        if torch.cuda.is_available():\n",
    "            devices += [\"cuda\"]\n",
    "            for i in range(torch.cuda.device_count()):\n",
    "                devices += [f\"cuda:{i}\"]\n",
    "        if not device in devices:\n",
    "            raise ValueError(f\"Device {device} should be in {devices} ...\")\n",
    "\n",
    "        # Create torch module\n",
    "        super(SoftGP_test, self).__init__()\n",
    "\n",
    "        # Misc\n",
    "        self.device = device\n",
    "        self.dtype = dtype\n",
    "        \n",
    "        # Mll approximation settings\n",
    "        self.solve_method = solver\n",
    "        self.mll_approx = mll_approx\n",
    "\n",
    "        # Fit settings\n",
    "        self.use_qr = use_qr\n",
    "        self.fit_chunk_size = fit_chunk_size\n",
    "\n",
    "        # Noise\n",
    "        self.noise_constraint = gpytorch.constraints.Positive()\n",
    "        noise = torch.tensor([noise], dtype=self.dtype, device=self.device)\n",
    "        noise = self.noise_constraint.inverse_transform(noise)\n",
    "        if learn_noise:\n",
    "            self.register_parameter(\"raw_noise\", torch.nn.Parameter(noise))\n",
    "        else:\n",
    "            self.raw_noise = noise\n",
    "\n",
    "        # Kernel\n",
    "        self.use_scale = use_scale\n",
    "        if use_scale:\n",
    "            self.kernel = ScaleKernel(kernel).to(self.device)\n",
    "        else:\n",
    "            self.kernel = kernel.to(self.device)\n",
    "\n",
    "        # Inducing points\n",
    "        self.register_parameter(\"inducing_points\", torch.nn.Parameter(inducing_points))\n",
    "\n",
    "        # Interpolation\n",
    "        def softmax_interp(X: torch.Tensor, sigma_values: torch.Tensor) -> torch.Tensor:\n",
    "            distances = torch.linalg.vector_norm(X - sigma_values, ord=2, dim=-1)\n",
    "            softmax_distances = torch.softmax(-distances, dim=-1)\n",
    "            return softmax_distances\n",
    "        self.interp = softmax_interp\n",
    "        \n",
    "        # Fit artifacts\n",
    "        self.alpha = None\n",
    "        self.K_zz_alpha = None\n",
    "\n",
    "        # CG solver params\n",
    "        self.max_cg_iter = max_cg_iter\n",
    "        self.cg_tol = cg_tolerance\n",
    "        self.x0 = None\n",
    "        \n",
    "    # -----------------------------------------------------\n",
    "    # Soft GP Helpers\n",
    "    # -----------------------------------------------------\n",
    "    \n",
    "    @property\n",
    "    def noise(self):\n",
    "        return self.noise_constraint.transform(self.raw_noise)\n",
    "\n",
    "    def get_lengthscale(self) -> float:\n",
    "        if self.use_scale:\n",
    "            return self.kernel.base_kernel.lengthscale.cpu()\n",
    "        else:\n",
    "            return self.kernel.lengthscale.cpu()\n",
    "        \n",
    "    def get_outputscale(self) -> float:\n",
    "        if self.use_scale:\n",
    "            return self.kernel.outputscale.cpu()\n",
    "        else:\n",
    "            return 1.\n",
    "\n",
    "    def _mk_cov(self, z: torch.Tensor) -> torch.Tensor:\n",
    "        return self.kernel(z, z).evaluate()\n",
    "    \n",
    "    def _interp(self, x: torch.Tensor) -> torch.Tensor:\n",
    "        x_expanded = x.unsqueeze(1).expand(-1, self.inducing_points.shape[0], -1)\n",
    "        W_xz = self.interp(x_expanded, self.inducing_points)\n",
    "        return W_xz\n",
    "\n",
    "    # -----------------------------------------------------\n",
    "    # Linear solver\n",
    "    # -----------------------------------------------------\n",
    "\n",
    "    def _solve_system(\n",
    "        self,\n",
    "        kxx: linear_operator.operators.LinearOperator,\n",
    "        full_rhs: torch.Tensor,\n",
    "        x0: torch.Tensor = None,\n",
    "        forwards_matmul: Callable = None,\n",
    "        precond: torch.Tensor = None,\n",
    "        return_pinv: bool = False,\n",
    "    ) -> torch.Tensor:\n",
    "        use_pinv = False\n",
    "        with torch.no_grad():\n",
    "            try:\n",
    "                if self.solve_method == \"solve\":\n",
    "                    solve = torch.linalg.solve(kxx, full_rhs)\n",
    "                elif self.solve_method == \"cholesky\":\n",
    "                    L = torch.linalg.cholesky(kxx)\n",
    "                    solve = torch.cholesky_solve(full_rhs, L)\n",
    "                elif self.solve_method == \"cg\":\n",
    "                    # Source: https://github.com/AndPotap/halfpres_gps/blob/main/mlls/mixedpresmll.py\n",
    "                    solve = linear_cg(\n",
    "                        forwards_matmul,\n",
    "                        full_rhs,\n",
    "                        max_iter=self.max_cg_iter,\n",
    "                        tolerance=self.cg_tol,\n",
    "                        initial_guess=x0,\n",
    "                        preconditioner=precond,\n",
    "                    )\n",
    "                else:\n",
    "                    raise ValueError(f\"Unknown method: {self.solve_method}\")\n",
    "            except RuntimeError as e:\n",
    "                print(\"Fallback to pseudoinverse: \", str(e))\n",
    "                solve = torch.linalg.pinv(kxx.evaluate()) @ full_rhs\n",
    "                use_pinv = True\n",
    "\n",
    "        # Apply torch.nan_to_num to handle NaNs from percision limits \n",
    "        solve = torch.nan_to_num(solve)\n",
    "        return (solve, use_pinv) if return_pinv else solve\n",
    "\n",
    "    # -----------------------------------------------------\n",
    "    # Marginal Log Likelihood\n",
    "    # -----------------------------------------------------\n",
    "\n",
    "    def mll(self, X: torch.Tensor, y: torch.Tensor) -> torch.Tensor:\n",
    "        \"\"\"Compute the marginal log likelihood of a soft GP:\n",
    "            \n",
    "            log p(y) = log N(y | mu_x, Q_xx)\n",
    "\n",
    "            where\n",
    "                mu_X: mean of soft GP\n",
    "                Q_XX = W_xz K_zz W_zx\n",
    "\n",
    "        Args:\n",
    "            X (torch.Tensor): B x D tensor of inputs where each row is a point.\n",
    "            y (torch.Tensor): B tensor of targets.\n",
    "\n",
    "        Returns:\n",
    "            torch.Tensor:  log p(y)\n",
    "        \"\"\"        \n",
    "        # Construct covariance matrix components\n",
    "        K_zz = self._mk_cov(self.inducing_points)\n",
    "        W_xz = self._interp(X)\n",
    "        \n",
    "        if self.mll_approx == \"exact\":\n",
    "            # [Note]: Compute MLL with a multivariate normal. Unstable for float.\n",
    "            # 1. mean: 0\n",
    "            mean = torch.zeros(len(X), dtype=self.dtype, device=self.device)\n",
    "            \n",
    "            # 2. covariance: Q_xx = (W_xz L) (L^T W_xz) + noise I  where K_zz = L L^T\n",
    "            L = psd_safe_cholesky(K_zz)\n",
    "            LK = (W_xz @ L).to(device=self.device)\n",
    "            cov_diag = self.noise * torch.ones(len(X), dtype=self.dtype, device=self.device)\n",
    "\n",
    "            # 3. N(mu, Q_xx)\n",
    "            normal_dist = torch.distributions.lowrank_multivariate_normal.LowRankMultivariateNormal(mean, LK, cov_diag, validate_args=None)\n",
    "            \n",
    "            # 4. log N(y | mu, Q_xx)\n",
    "            return normal_dist.log_prob(y)\n",
    "        elif self.mll_approx == \"hutchinson\":\n",
    "            # [Note]: Compute MLL with Hutchinson's trace estimator\n",
    "            # 1. mean: 0\n",
    "            mean = torch.zeros(len(X), dtype=self.dtype, device=self.device)\n",
    "            \n",
    "            # 2. covariance: Q_xx = W_xz K_zz K_zx + noise I\n",
    "            cov_mat = W_xz @ K_zz @ W_xz.T \n",
    "            cov_mat += torch.eye(cov_mat.shape[1], dtype=self.dtype, device=self.device) * self.noise\n",
    "\n",
    "            # 3. log N(y | mu, Q_xx) \\appox \n",
    "            hutchinson_mll = HutchinsonPseudoLoss(self, num_trace_samples=10)\n",
    "            return hutchinson_mll(mean, cov_mat, y)\n",
    "        else:\n",
    "            raise ValueError(f\"Unknown MLL approximation method: {self.mll_approx}\")\n",
    "        \n",
    "    # -----------------------------------------------------\n",
    "    # Fit\n",
    "    # -----------------------------------------------------\n",
    "\n",
    "    def _direct_solve_fit(self, M, N, X, y, K_zz):\n",
    "        # Construct A and b for linear solve\n",
    "        #   A = (K_zz + hat{K}_zx @ noise^{-1} @ hat{K}_xz)\n",
    "        #   b = (hat{K}_zx @ noise^{-1}) y\n",
    "        if X.shape[0] * X.shape[1] <= 32768:\n",
    "            # Case: \"small\" X\n",
    "            # Form estimate \\hat{K}_xz ~= W_xz K_zz\n",
    "            W_xz = self._interp(X)\n",
    "            hat_K_xz = W_xz @ K_zz\n",
    "            hat_K_zx = hat_K_xz.T\n",
    "            \n",
    "            # Form A and b\n",
    "            Lambda_inv_diag = (1 / self.noise) * torch.ones(N, dtype=self.dtype).to(self.device)\n",
    "            A = K_zz + hat_K_zx @ (Lambda_inv_diag.unsqueeze(1) * hat_K_xz)\n",
    "            b = hat_K_zx @ (Lambda_inv_diag * y)\n",
    "        else:\n",
    "            # Case: \"large\" X\n",
    "            with torch.no_grad():\n",
    "                # Initialize outputs\n",
    "                A = torch.zeros(M, M, dtype=self.dtype, device=self.device)\n",
    "                b = torch.zeros(M, dtype=self.dtype, device=self.device)\n",
    "                \n",
    "                # Initialize temporary values\n",
    "                fit_chunk_size = self.fit_chunk_size\n",
    "                batches = int(np.floor(N / fit_chunk_size))\n",
    "                Lambda_inv = (1 / self.noise) * torch.eye(fit_chunk_size, dtype=self.dtype, device=self.device)\n",
    "                tmp1 = torch.zeros(fit_chunk_size, M, dtype=self.dtype, device=self.device)\n",
    "                tmp2 = torch.zeros(M, M, dtype=self.dtype, device=self.device)\n",
    "                tmp3 = torch.zeros(fit_chunk_size, dtype=self.dtype, device=self.device)\n",
    "                tmp4 = torch.zeros(M, dtype=self.dtype, device=self.device)\n",
    "                tmp5 = torch.zeros(M, dtype=self.dtype, device=self.device)\n",
    "                \n",
    "                # Compute batches\n",
    "                for i in range(batches):\n",
    "                    # Update A: A += W_zx @ Lambda_inv @ W_xz\n",
    "                    X_batch = X[i*fit_chunk_size:(i+1)*fit_chunk_size]\n",
    "                    W_xz = self._interp(X_batch)\n",
    "                    W_zx = W_xz.T\n",
    "                    torch.matmul(Lambda_inv, W_xz, out=tmp1)\n",
    "                    torch.matmul(W_zx, tmp1, out=tmp2)\n",
    "                    A.add_(tmp2)\n",
    "                    \n",
    "                    # Update b: b += K_zz @ W_zx @ (Lambda_inv @ Y[i*batch_size:(i+1)*batch_size])\n",
    "                    torch.matmul(Lambda_inv, y[i*fit_chunk_size:(i+1)*fit_chunk_size], out=tmp3)\n",
    "                    torch.matmul(W_zx, tmp3, out=tmp4)\n",
    "                    torch.matmul(K_zz, tmp4, out=tmp5)\n",
    "                    b.add_(tmp5)\n",
    "                \n",
    "                # Compute last batch\n",
    "                if N - (i+1)*fit_chunk_size > 0:\n",
    "                    Lambda_inv = (1 / self.noise) * torch.eye(N - (i+1)*fit_chunk_size, dtype=self.dtype, device=self.device)\n",
    "                    X_batch = X[(i+1)*fit_chunk_size:]\n",
    "                    W_xz = self._interp(X_batch)\n",
    "                    A += W_xz.T @ Lambda_inv @ W_xz\n",
    "                    b += K_zz @ W_xz.T @ Lambda_inv @ y[(i+1)*fit_chunk_size:]\n",
    "\n",
    "                # Aggregate result\n",
    "                A = K_zz + K_zz @ A @ K_zz\n",
    "\n",
    "        # Safe solve A \\alpha = b\n",
    "        A = DenseLinearOperator(A)\n",
    "        self.alpha, use_pinv = self._solve_system(\n",
    "            A,\n",
    "            b.unsqueeze(1),\n",
    "            x0=torch.zeros_like(b),\n",
    "            forwards_matmul=A.matmul,\n",
    "            precond=None,\n",
    "            return_pinv=True\n",
    "        )\n",
    "\n",
    "        # Store for fast prediction\n",
    "        self.K_zz_alpha = K_zz @ self.alpha\n",
    "        return use_pinv\n",
    "\n",
    "    def _qr_solve_fit(self, M, N, X, y, K_zz):\n",
    "        if X.shape[0] * X.shape[1] <= 32768:\n",
    "            # Compute: W_xz K_zz\n",
    "            print(\"USING QR SMALL\")\n",
    "            W_xz = self._interp(X)\n",
    "            hat_K_xz = W_xz @ K_zz\n",
    "        else:\n",
    "            # Compute: W_xz K_zz in a batched fashion\n",
    "            print(\"USING QR BATCH\")\n",
    "            with torch.no_grad():\n",
    "                # Compute batches\n",
    "                fit_chunk_size = self.fit_chunk_size\n",
    "                batches = int(np.floor(N / fit_chunk_size))\n",
    "                Lambda_half_inv_diag = (1 / torch.sqrt(self.noise)) * torch.ones(fit_chunk_size, dtype=self.dtype, device=self.device)\n",
    "                hat_K_xz = torch.zeros((N, M), dtype=self.dtype, device=self.device)\n",
    "                for i in range(batches):\n",
    "                    start = i*fit_chunk_size\n",
    "                    end = (i+1)*fit_chunk_size\n",
    "                    X_batch = X[start:end,:]\n",
    "                    W_xz = self._interp(X_batch)\n",
    "                    torch.matmul(W_xz, K_zz, out=hat_K_xz[start:end,:])\n",
    "                \n",
    "                start = (i+1)*fit_chunk_size\n",
    "                if N - start > 0:\n",
    "                    Lambda_half_inv_diag = (1 / torch.sqrt(self.noise)) * torch.eye(N - (i+1)*fit_chunk_size, dtype=self.dtype, device=self.device)\n",
    "                    X_batch = X[start:]\n",
    "                    W_xz = self._interp(X_batch)\n",
    "                    torch.matmul(W_xz, K_zz, out=hat_K_xz[start:,:])\n",
    "        \n",
    "        # B^T = [(Lambda^{-1/2} \\hat{K}_xz) U_zz ]\n",
    "        U_zz = psd_safe_cholesky(K_zz, upper=True, max_tries=10)\n",
    "        Lambda_half_inv_diag = (1 / torch.sqrt(self.noise)) * torch.ones(N, dtype=self.dtype).to(self.device)\n",
    "        B = torch.cat([Lambda_half_inv_diag.unsqueeze(1) * hat_K_xz, U_zz], dim=0)\n",
    "\n",
    "        # B = QR\n",
    "        Q, R = torch.linalg.qr(B)\n",
    "\n",
    "        # \\alpha = R^{-1} @ Q^T @ Lambda^{-1/2}b\n",
    "        b = Lambda_half_inv_diag * y\n",
    "        self.alpha = torch.linalg.solve_triangular(R, (Q.T[:, 0:N] @ b).unsqueeze(1), upper=True).squeeze(1) # (should use triangular solve)\n",
    "        # self.alpha = ((torch.linalg.inv(R) @ Q.T)[:, :N] @ b)\n",
    "        \n",
    "        # Store for fast inference\n",
    "        self.K_zz_alpha = K_zz @ self.alpha\n",
    "\n",
    "        return False\n",
    "\n",
    "    def fit(self, X: torch.Tensor, y: torch.Tensor) -> bool:\n",
    "        \"\"\"Fits a SoftGP to dataset (X, y). That is, solve:\n",
    "\n",
    "                (hat{K}_zx @ noise^{-1}) y = (K_zz + hat{K}_zx @ noise^{-1} @ hat{K}_xz) \\alpha\n",
    "        \n",
    "            for \\alpha where\n",
    "            1. inducing points z are fixed,\n",
    "            2. hat{K}_zx = K_zz W_zx, and\n",
    "            3. hat{K}_xz = hat{K}_zx^T.\n",
    "\n",
    "        Args:\n",
    "            X (torch.Tensor): N x D tensor of inputs\n",
    "            y (torch.Tensor): N tensor of outputs\n",
    "\n",
    "        Returns:\n",
    "            bool: Returns true if the pseudoinverse was used, false otherwise.\n",
    "        \"\"\"        \n",
    "        # Prepare inputs\n",
    "        N = len(X)\n",
    "        M = len(self.inducing_points)\n",
    "        X = X.to(self.device, dtype=self.dtype)\n",
    "        y = y.to(self.device, dtype=self.dtype)\n",
    "\n",
    "        # Form K_zz\n",
    "        K_zz = self._mk_cov(self.inducing_points)\n",
    "\n",
    "        if self.use_qr:\n",
    "            return self._qr_solve_fit(M, N, X, y, K_zz)\n",
    "        else:\n",
    "            return self._direct_solve_fit(M, N, X, y, K_zz)\n",
    "\n",
    "    # -----------------------------------------------------\n",
    "    # Predict\n",
    "    # -----------------------------------------------------\n",
    "\n",
    "    def pred(self, x_star: torch.Tensor) -> torch.Tensor:\n",
    "        \"\"\"Give the posterior predictive:\n",
    "        \n",
    "            p(y_star | x_star, X, y) \n",
    "                = W_star_z (K_zz \\alpha)\n",
    "                = W_star_z K_zz (K_zz + hat{K}_zx @ noise^{-1} @ hat{K}_xz)^{-1} (hat{K}_zx @ noise^{-1}) y\n",
    "\n",
    "        Args:\n",
    "            x_star (torch.Tensor): B x D tensor of points to evaluate at.\n",
    "\n",
    "        Returns:\n",
    "            torch.Tensor: B tensor of p(y_star | x_star, X, y).\n",
    "        \"\"\"        \n",
    "        W_star_z = self._interp(x_star)\n",
    "        return torch.matmul(W_star_z, self.K_zz_alpha).squeeze(-1)"
   ]
  },
  {
   "cell_type": "markdown",
   "metadata": {},
   "source": [
    "### Test version profiling stats\n",
    "---"
   ]
  },
  {
   "cell_type": "code",
   "execution_count": 30,
   "metadata": {},
   "outputs": [],
   "source": [
    "from line_profiler import LineProfiler\n",
    "\n",
    "def eval_gp(model, test_dataset: Dataset, device=\"cuda:0\") -> float:\n",
    "    preds = []\n",
    "    neg_mlls = []\n",
    "    test_loader = DataLoader(test_dataset, batch_size=32, shuffle=False)\n",
    "    for x_batch, y_batch in tqdm(test_loader):\n",
    "        x_batch = x_batch.to(device)\n",
    "        y_batch = y_batch.to(device)\n",
    "        preds += [(model.pred(x_batch) - y_batch).detach().cpu()**2]\n",
    "        neg_mlls += [-model.mll(x_batch, y_batch).detach().cpu()]\n",
    "    rmse = torch.sqrt(torch.sum(torch.cat(preds)) / len(test_dataset)).item()\n",
    "    neg_mll = torch.sum(torch.tensor(neg_mlls))\n",
    "            \n",
    "    print(\"RMSE:\", rmse, \"NEG_MLL\", neg_mll.item(), \"NOISE\", model.noise.cpu().item(), \"LENGTHSCALE\", model.get_lengthscale(), \"OUTPUTSCALE\", model.get_outputscale())\n",
    "    \n",
    "    return {\n",
    "        \"rmse\": rmse,\n",
    "        \"nll\": neg_mll,\n",
    "    }   \n",
    "    \n",
    "def profileGP(GP,train_dataset, test_dataset):\n",
    "    num_inducing = 64\n",
    "    dtype = torch.float32\n",
    "    batch_size = 128\n",
    "    epochs = 2\n",
    "    lr = 0.01 \n",
    "    learn_noise = False\n",
    "    device = \"cpu\"\n",
    "    \n",
    "    # Initialize inducing points with kmeans\n",
    "    train_features, train_labels = flatten_dataset(train_dataset)\n",
    "    kmeans = KMeans(n_clusters=num_inducing)\n",
    "    kmeans.fit(train_features)\n",
    "    centers = kmeans.cluster_centers_\n",
    "    inducing_points = torch.tensor(centers).to(dtype=dtype, device=device)\n",
    "    \n",
    "    # Setup model\n",
    "    kernel = RBFKernel().to(device=device, dtype=dtype)\n",
    "\n",
    "    model = GP(kernel,\n",
    "        inducing_points,\n",
    "        noise=1e-3,\n",
    "        learn_noise=learn_noise,\n",
    "        use_scale=False,\n",
    "        dtype=dtype,\n",
    "        solver=\"solve\",\n",
    "        max_cg_iter=50,\n",
    "        cg_tolerance=0.5,\n",
    "        mll_approx=\"exact\",\n",
    "        fit_chunk_size=1024,\n",
    "        use_qr=False,\n",
    "    )\n",
    "\n",
    "    if learn_noise:\n",
    "        params = model.parameters()\n",
    "    else:\n",
    "        params = filter_param(model.named_parameters(), \"likelihood.noise_covar.raw_noise\")\n",
    "    optimizer = torch.optim.Adam(params, lr=lr)\n",
    "\n",
    "    train_loader = DataLoader(train_dataset, batch_size=batch_size, shuffle=True)\n",
    "    pbar = tqdm(range(epochs), desc=\"Optimizing MLL\")\n",
    "    def train_model():\n",
    "        for epoch in pbar:\n",
    "            t1 = time.perf_counter()\n",
    "            \n",
    "            neg_mlls = []\n",
    "            for x_batch, y_batch in train_loader:\n",
    "                x_batch = x_batch.clone().detach().to(dtype=dtype, device=device)\n",
    "                y_batch = y_batch.clone().detach().to(dtype=dtype, device=device)\n",
    "\n",
    "                optimizer.zero_grad()\n",
    "                with gpytorch.settings.max_root_decomposition_size(100), max_cholesky_size(int(1.e7)):\n",
    "                    neg_mll = -model.mll(x_batch, y_batch)\n",
    "                neg_mlls += [-neg_mll.item()]\n",
    "                neg_mll.backward()\n",
    "                optimizer.step()\n",
    "\n",
    "                pbar.set_description(f\"Epoch {epoch+1}/{epochs}\")\n",
    "                pbar.set_postfix(MLL=f\"{-neg_mll.item()}\")\n",
    "            t2 = time.perf_counter()\n",
    "\n",
    "            use_pinv = model.fit(train_features, train_labels)\n",
    "            t3 = time.perf_counter()\n",
    "            #results = eval_gp(model, test_dataset, device=device)\n",
    "            #print(results)\n",
    "    profiler = LineProfiler()\n",
    "    profiler.add_function(train_model)\n",
    "    profiler.enable_by_count()\n",
    "    train_model() \n",
    "    profiler.disable_by_count()\n",
    "    profiler.print_stats()\n",
    "    return model\n"
   ]
  },
  {
   "cell_type": "code",
   "execution_count": 32,
   "metadata": {},
   "outputs": [
    {
     "name": "stdout",
     "output_type": "stream",
     "text": [
      "SIZE (15000, 27)\n"
     ]
    },
    {
     "name": "stderr",
     "output_type": "stream",
     "text": [
      "100%|██████████| 1/1 [00:01<00:00,  1.06s/it]\n",
      "Epoch 2/2: 100%|██████████| 2/2 [00:08<00:00,  4.06s/it, MLL=1.868128776550293]  "
     ]
    },
    {
     "name": "stdout",
     "output_type": "stream",
     "text": [
      "Timer unit: 1e-07 s\n",
      "\n",
      "Total time: 8.1161 s\n",
      "File: C:\\Users\\chris\\AppData\\Local\\Temp\\ipykernel_8156\\3556678527.py\n",
      "Function: train_model at line 63\n",
      "\n",
      "Line #      Hits         Time  Per Hit   % Time  Line Contents\n",
      "==============================================================\n",
      "    63                                               def train_model():\n",
      "    64         3      78329.0  26109.7      0.1          for epoch in pbar:\n",
      "    65         2        103.0     51.5      0.0              t1 = time.perf_counter()\n",
      "    66                                                       \n",
      "    67         2        153.0     76.5      0.0              neg_mlls = []\n",
      "    68       108   65829331.0 609530.8     81.1              for x_batch, y_batch in train_loader:\n",
      "    69       106      70435.0    664.5      0.1                  x_batch = x_batch.clone().detach().to(dtype=dtype, device=device)\n",
      "    70       106      11407.0    107.6      0.0                  y_batch = y_batch.clone().detach().to(dtype=dtype, device=device)\n",
      "    71                                           \n",
      "    72       106     264354.0   2493.9      0.3                  optimizer.zero_grad()\n",
      "    73       212      79147.0    373.3      0.1                  with gpytorch.settings.max_root_decomposition_size(100), max_cholesky_size(int(1.e7)):\n",
      "    74       106    5256663.0  49591.2      6.5                      neg_mll = -model.mll(x_batch, y_batch)\n",
      "    75       106      10596.0    100.0      0.0                  neg_mlls += [-neg_mll.item()]\n",
      "    76       106    3630125.0  34246.5      4.5                  neg_mll.backward()\n",
      "    77       106     992529.0   9363.5      1.2                  optimizer.step()\n",
      "    78                                           \n",
      "    79       106    1874320.0  17682.3      2.3                  pbar.set_description(f\"Epoch {epoch+1}/{epochs}\")\n",
      "    80       106    1588067.0  14981.8      2.0                  pbar.set_postfix(MLL=f\"{-neg_mll.item()}\")\n",
      "    81         2         53.0     26.5      0.0              t2 = time.perf_counter()\n",
      "    82                                           \n",
      "    83         2    1475325.0 737662.5      1.8              use_pinv = model.fit(train_features, train_labels)\n",
      "    84         2         67.0     33.5      0.0              t3 = time.perf_counter()\n",
      "    85                                                       #results = eval_gp(model, test_dataset, device=device)\n",
      "    86                                                       #print(results)\n",
      "\n"
     ]
    },
    {
     "name": "stderr",
     "output_type": "stream",
     "text": [
      "\n"
     ]
    }
   ],
   "source": [
    "from data.get_uci import ElevatorsDataset\n",
    "dataset = ElevatorsDataset(\"../data/uci_datasets/uci_datasets/pol/data.csv\")\n",
    "train_dataset, val_dataset, test_dataset = split_dataset(\n",
    "    dataset,\n",
    "    train_frac=4/9,\n",
    "    val_frac=3/9\n",
    ")\n",
    "\n",
    "softgp = profileGP(SoftGP_test,train_dataset,test_dataset)"
   ]
  },
  {
   "cell_type": "markdown",
   "metadata": {},
   "source": [
    "### Comparison: Test vs Baseline \n",
    "---\n"
   ]
  },
  {
   "cell_type": "code",
   "execution_count": 25,
   "metadata": {},
   "outputs": [
    {
     "name": "stdout",
     "output_type": "stream",
     "text": [
      "SIZE (15000, 27)\n"
     ]
    },
    {
     "name": "stderr",
     "output_type": "stream",
     "text": [
      "100%|██████████| 1/1 [00:00<00:00,  8.33it/s]"
     ]
    },
    {
     "name": "stdout",
     "output_type": "stream",
     "text": [
      "Training SoftGP_baseline...\n"
     ]
    },
    {
     "name": "stderr",
     "output_type": "stream",
     "text": [
      "\n",
      "100%|██████████| 47/47 [00:00<00:00, 222.90it/s]\n"
     ]
    },
    {
     "name": "stdout",
     "output_type": "stream",
     "text": [
      "RMSE: 0.7422756552696228 NEG_MLL 55337.5703125 NOISE 0.0010000000474974513 LENGTHSCALE tensor([[0.6283]], grad_fn=<SoftplusBackward0>) OUTPUTSCALE 1.0\n"
     ]
    },
    {
     "name": "stderr",
     "output_type": "stream",
     "text": [
      "100%|██████████| 47/47 [00:00<00:00, 211.56it/s]\n"
     ]
    },
    {
     "name": "stdout",
     "output_type": "stream",
     "text": [
      "RMSE: 0.7164886593818665 NEG_MLL 48407.87109375 NOISE 0.0010000000474974513 LENGTHSCALE tensor([[0.5953]], grad_fn=<SoftplusBackward0>) OUTPUTSCALE 1.0\n"
     ]
    },
    {
     "name": "stderr",
     "output_type": "stream",
     "text": [
      "100%|██████████| 47/47 [00:00<00:00, 210.28it/s]\n"
     ]
    },
    {
     "name": "stdout",
     "output_type": "stream",
     "text": [
      "RMSE: 0.6764373183250427 NEG_MLL 41929.1796875 NOISE 0.0010000000474974513 LENGTHSCALE tensor([[0.5890]], grad_fn=<SoftplusBackward0>) OUTPUTSCALE 1.0\n"
     ]
    },
    {
     "name": "stderr",
     "output_type": "stream",
     "text": [
      "100%|██████████| 47/47 [00:00<00:00, 133.94it/s]\n"
     ]
    },
    {
     "name": "stdout",
     "output_type": "stream",
     "text": [
      "RMSE: 0.6478503942489624 NEG_MLL 36947.625 NOISE 0.0010000000474974513 LENGTHSCALE tensor([[0.5906]], grad_fn=<SoftplusBackward0>) OUTPUTSCALE 1.0\n"
     ]
    },
    {
     "name": "stderr",
     "output_type": "stream",
     "text": [
      "100%|██████████| 47/47 [00:00<00:00, 228.41it/s]\n"
     ]
    },
    {
     "name": "stdout",
     "output_type": "stream",
     "text": [
      "RMSE: 0.624182939529419 NEG_MLL 34538.77734375 NOISE 0.0010000000474974513 LENGTHSCALE tensor([[0.5830]], grad_fn=<SoftplusBackward0>) OUTPUTSCALE 1.0\n"
     ]
    },
    {
     "name": "stderr",
     "output_type": "stream",
     "text": [
      "100%|██████████| 47/47 [00:00<00:00, 227.41it/s]\n"
     ]
    },
    {
     "name": "stdout",
     "output_type": "stream",
     "text": [
      "RMSE: 0.7246544361114502 NEG_MLL 49922.0859375 NOISE 0.0010000000474974513 LENGTHSCALE tensor([[0.6370]], grad_fn=<SoftplusBackward0>) OUTPUTSCALE 1.0\n"
     ]
    },
    {
     "name": "stderr",
     "output_type": "stream",
     "text": [
      "100%|██████████| 47/47 [00:00<00:00, 217.44it/s]\n"
     ]
    },
    {
     "name": "stdout",
     "output_type": "stream",
     "text": [
      "RMSE: 0.6983209848403931 NEG_MLL 44637.0546875 NOISE 0.0010000000474974513 LENGTHSCALE tensor([[0.6124]], grad_fn=<SoftplusBackward0>) OUTPUTSCALE 1.0\n"
     ]
    },
    {
     "name": "stderr",
     "output_type": "stream",
     "text": [
      "100%|██████████| 47/47 [00:00<00:00, 229.35it/s]\n"
     ]
    },
    {
     "name": "stdout",
     "output_type": "stream",
     "text": [
      "RMSE: 0.6746568083763123 NEG_MLL 40823.69921875 NOISE 0.0010000000474974513 LENGTHSCALE tensor([[0.5980]], grad_fn=<SoftplusBackward0>) OUTPUTSCALE 1.0\n"
     ]
    },
    {
     "name": "stderr",
     "output_type": "stream",
     "text": [
      "100%|██████████| 47/47 [00:00<00:00, 223.52it/s]\n"
     ]
    },
    {
     "name": "stdout",
     "output_type": "stream",
     "text": [
      "RMSE: 0.6454095244407654 NEG_MLL 36750.1875 NOISE 0.0010000000474974513 LENGTHSCALE tensor([[0.5794]], grad_fn=<SoftplusBackward0>) OUTPUTSCALE 1.0\n"
     ]
    },
    {
     "name": "stderr",
     "output_type": "stream",
     "text": [
      "100%|██████████| 47/47 [00:00<00:00, 224.15it/s]\n"
     ]
    },
    {
     "name": "stdout",
     "output_type": "stream",
     "text": [
      "RMSE: 0.6219332814216614 NEG_MLL 34001.6171875 NOISE 0.0010000000474974513 LENGTHSCALE tensor([[0.5768]], grad_fn=<SoftplusBackward0>) OUTPUTSCALE 1.0\n"
     ]
    },
    {
     "name": "stderr",
     "output_type": "stream",
     "text": [
      "100%|██████████| 47/47 [00:00<00:00, 225.94it/s]\n"
     ]
    },
    {
     "name": "stdout",
     "output_type": "stream",
     "text": [
      "RMSE: 0.7424306869506836 NEG_MLL 53010.86328125 NOISE 0.0010000000474974513 LENGTHSCALE tensor([[0.6270]], grad_fn=<SoftplusBackward0>) OUTPUTSCALE 1.0\n"
     ]
    },
    {
     "name": "stderr",
     "output_type": "stream",
     "text": [
      "100%|██████████| 47/47 [00:00<00:00, 223.82it/s]\n"
     ]
    },
    {
     "name": "stdout",
     "output_type": "stream",
     "text": [
      "RMSE: 0.718384861946106 NEG_MLL 47327.48046875 NOISE 0.0010000000474974513 LENGTHSCALE tensor([[0.5935]], grad_fn=<SoftplusBackward0>) OUTPUTSCALE 1.0\n"
     ]
    },
    {
     "name": "stderr",
     "output_type": "stream",
     "text": [
      "100%|██████████| 47/47 [00:00<00:00, 213.27it/s]\n"
     ]
    },
    {
     "name": "stdout",
     "output_type": "stream",
     "text": [
      "RMSE: 0.6922475099563599 NEG_MLL 43707.60546875 NOISE 0.0010000000474974513 LENGTHSCALE tensor([[0.5795]], grad_fn=<SoftplusBackward0>) OUTPUTSCALE 1.0\n"
     ]
    },
    {
     "name": "stderr",
     "output_type": "stream",
     "text": [
      "100%|██████████| 47/47 [00:00<00:00, 222.34it/s]\n"
     ]
    },
    {
     "name": "stdout",
     "output_type": "stream",
     "text": [
      "RMSE: 0.6763256192207336 NEG_MLL 41070.74609375 NOISE 0.0010000000474974513 LENGTHSCALE tensor([[0.5641]], grad_fn=<SoftplusBackward0>) OUTPUTSCALE 1.0\n"
     ]
    },
    {
     "name": "stderr",
     "output_type": "stream",
     "text": [
      "100%|██████████| 47/47 [00:00<00:00, 213.77it/s]\n"
     ]
    },
    {
     "name": "stdout",
     "output_type": "stream",
     "text": [
      "RMSE: 0.6527389883995056 NEG_MLL 39592.671875 NOISE 0.0010000000474974513 LENGTHSCALE tensor([[0.5518]], grad_fn=<SoftplusBackward0>) OUTPUTSCALE 1.0\n",
      "Training SoftGP_test...\n"
     ]
    },
    {
     "name": "stderr",
     "output_type": "stream",
     "text": [
      "100%|██████████| 47/47 [00:00<00:00, 239.50it/s]\n"
     ]
    },
    {
     "name": "stdout",
     "output_type": "stream",
     "text": [
      "RMSE: 0.7401975989341736 NEG_MLL 52676.875 NOISE 0.0010000000474974513 LENGTHSCALE tensor([[0.6522]], grad_fn=<SoftplusBackward0>) OUTPUTSCALE 1.0\n"
     ]
    },
    {
     "name": "stderr",
     "output_type": "stream",
     "text": [
      "100%|██████████| 47/47 [00:00<00:00, 233.74it/s]\n"
     ]
    },
    {
     "name": "stdout",
     "output_type": "stream",
     "text": [
      "RMSE: 0.7231475114822388 NEG_MLL 48680.83203125 NOISE 0.0010000000474974513 LENGTHSCALE tensor([[0.6317]], grad_fn=<SoftplusBackward0>) OUTPUTSCALE 1.0\n"
     ]
    },
    {
     "name": "stderr",
     "output_type": "stream",
     "text": [
      "100%|██████████| 47/47 [00:00<00:00, 218.28it/s]\n"
     ]
    },
    {
     "name": "stdout",
     "output_type": "stream",
     "text": [
      "RMSE: 0.6956261396408081 NEG_MLL 43918.765625 NOISE 0.0010000000474974513 LENGTHSCALE tensor([[0.6233]], grad_fn=<SoftplusBackward0>) OUTPUTSCALE 1.0\n"
     ]
    },
    {
     "name": "stderr",
     "output_type": "stream",
     "text": [
      "100%|██████████| 47/47 [00:00<00:00, 129.53it/s]\n"
     ]
    },
    {
     "name": "stdout",
     "output_type": "stream",
     "text": [
      "RMSE: 0.6681278944015503 NEG_MLL 38784.3515625 NOISE 0.0010000000474974513 LENGTHSCALE tensor([[0.6151]], grad_fn=<SoftplusBackward0>) OUTPUTSCALE 1.0\n"
     ]
    },
    {
     "name": "stderr",
     "output_type": "stream",
     "text": [
      "100%|██████████| 47/47 [00:00<00:00, 199.84it/s]\n"
     ]
    },
    {
     "name": "stdout",
     "output_type": "stream",
     "text": [
      "RMSE: 0.6387621164321899 NEG_MLL 34196.671875 NOISE 0.0010000000474974513 LENGTHSCALE tensor([[0.6111]], grad_fn=<SoftplusBackward0>) OUTPUTSCALE 1.0\n"
     ]
    },
    {
     "name": "stderr",
     "output_type": "stream",
     "text": [
      "100%|██████████| 47/47 [00:00<00:00, 201.74it/s]\n"
     ]
    },
    {
     "name": "stdout",
     "output_type": "stream",
     "text": [
      "RMSE: 0.7245369553565979 NEG_MLL 51800.3203125 NOISE 0.0010000000474974513 LENGTHSCALE tensor([[0.6462]], grad_fn=<SoftplusBackward0>) OUTPUTSCALE 1.0\n"
     ]
    },
    {
     "name": "stderr",
     "output_type": "stream",
     "text": [
      "100%|██████████| 47/47 [00:00<00:00, 211.59it/s]\n"
     ]
    },
    {
     "name": "stdout",
     "output_type": "stream",
     "text": [
      "RMSE: 0.6983944177627563 NEG_MLL 45653.015625 NOISE 0.0010000000474974513 LENGTHSCALE tensor([[0.6232]], grad_fn=<SoftplusBackward0>) OUTPUTSCALE 1.0\n"
     ]
    },
    {
     "name": "stderr",
     "output_type": "stream",
     "text": [
      "100%|██████████| 47/47 [00:00<00:00, 191.86it/s]\n"
     ]
    },
    {
     "name": "stdout",
     "output_type": "stream",
     "text": [
      "RMSE: 0.6736258864402771 NEG_MLL 41361.2890625 NOISE 0.0010000000474974513 LENGTHSCALE tensor([[0.5998]], grad_fn=<SoftplusBackward0>) OUTPUTSCALE 1.0\n"
     ]
    },
    {
     "name": "stderr",
     "output_type": "stream",
     "text": [
      "100%|██████████| 47/47 [00:00<00:00, 200.03it/s]\n"
     ]
    },
    {
     "name": "stdout",
     "output_type": "stream",
     "text": [
      "RMSE: 0.6535108685493469 NEG_MLL 39024.40625 NOISE 0.0010000000474974513 LENGTHSCALE tensor([[0.5877]], grad_fn=<SoftplusBackward0>) OUTPUTSCALE 1.0\n"
     ]
    },
    {
     "name": "stderr",
     "output_type": "stream",
     "text": [
      "100%|██████████| 47/47 [00:00<00:00, 208.90it/s]\n"
     ]
    },
    {
     "name": "stdout",
     "output_type": "stream",
     "text": [
      "RMSE: 0.6299234628677368 NEG_MLL 35849.38671875 NOISE 0.0010000000474974513 LENGTHSCALE tensor([[0.5789]], grad_fn=<SoftplusBackward0>) OUTPUTSCALE 1.0\n"
     ]
    },
    {
     "name": "stderr",
     "output_type": "stream",
     "text": [
      "100%|██████████| 47/47 [00:00<00:00, 203.32it/s]\n"
     ]
    },
    {
     "name": "stdout",
     "output_type": "stream",
     "text": [
      "RMSE: 0.7418884038925171 NEG_MLL 55605.453125 NOISE 0.0010000000474974513 LENGTHSCALE tensor([[0.6500]], grad_fn=<SoftplusBackward0>) OUTPUTSCALE 1.0\n"
     ]
    },
    {
     "name": "stderr",
     "output_type": "stream",
     "text": [
      "100%|██████████| 47/47 [00:00<00:00, 215.41it/s]\n"
     ]
    },
    {
     "name": "stdout",
     "output_type": "stream",
     "text": [
      "RMSE: 0.7084264159202576 NEG_MLL 46419.41015625 NOISE 0.0010000000474974513 LENGTHSCALE tensor([[0.6557]], grad_fn=<SoftplusBackward0>) OUTPUTSCALE 1.0\n"
     ]
    },
    {
     "name": "stderr",
     "output_type": "stream",
     "text": [
      "100%|██████████| 47/47 [00:00<00:00, 205.55it/s]\n"
     ]
    },
    {
     "name": "stdout",
     "output_type": "stream",
     "text": [
      "RMSE: 0.6830364465713501 NEG_MLL 42376.0625 NOISE 0.0010000000474974513 LENGTHSCALE tensor([[0.6282]], grad_fn=<SoftplusBackward0>) OUTPUTSCALE 1.0\n"
     ]
    },
    {
     "name": "stderr",
     "output_type": "stream",
     "text": [
      "100%|██████████| 47/47 [00:00<00:00, 217.09it/s]\n"
     ]
    },
    {
     "name": "stdout",
     "output_type": "stream",
     "text": [
      "RMSE: 0.667323887348175 NEG_MLL 39923.79296875 NOISE 0.0010000000474974513 LENGTHSCALE tensor([[0.6228]], grad_fn=<SoftplusBackward0>) OUTPUTSCALE 1.0\n"
     ]
    },
    {
     "name": "stderr",
     "output_type": "stream",
     "text": [
      "100%|██████████| 47/47 [00:00<00:00, 128.12it/s]\n"
     ]
    },
    {
     "name": "stdout",
     "output_type": "stream",
     "text": [
      "RMSE: 0.6501781940460205 NEG_MLL 37397.921875 NOISE 0.0010000000474974513 LENGTHSCALE tensor([[0.6104]], grad_fn=<SoftplusBackward0>) OUTPUTSCALE 1.0\n"
     ]
    },
    {
     "data": {
      "image/png": "[encoded data removed]",
      "text/plain": [
       "<Figure size 1200x600 with 2 Axes>"
      ]
     },
     "metadata": {},
     "output_type": "display_data"
    }
   ],
   "source": [
    "def plot_results(GP_classes, all_mean_rmse, all_mean_runtimes, all_std_rmse, all_std_runtimes, epochs):\n",
    "    fig, axes = plt.subplots(1, 2, figsize=(12, 6))\n",
    "\n",
    "    for i, GP_class in enumerate(GP_classes):\n",
    "        epochs_range = range(1, epochs + 1)\n",
    "        axes[0].plot(epochs_range, all_mean_rmse[i], label=f'{GP_class.__name__} RMSE')\n",
    "        axes[0].fill_between(epochs_range,\n",
    "                             [m - s for m, s in zip(all_mean_rmse[i], all_std_rmse[i])],\n",
    "                             [m + s for m, s in zip(all_mean_rmse[i], all_std_rmse[i])],\n",
    "                             alpha=0.3)\n",
    "    axes[0].set_title('RMSE per Epoch')\n",
    "    axes[0].set_xlabel('Epoch')\n",
    "    axes[0].set_ylabel('RMSE')\n",
    "    axes[0].legend()\n",
    "\n",
    "    for i, GP_class in enumerate(GP_classes):\n",
    "        epochs_range = range(1, epochs + 1)\n",
    "        axes[1].plot(epochs_range, all_mean_runtimes[i], label=f'{GP_class.__name__} Runtime')\n",
    "        axes[1].fill_between(epochs_range,\n",
    "                             [m - s for m, s in zip(all_mean_runtimes[i], all_std_runtimes[i])],\n",
    "                             [m + s for m, s in zip(all_mean_runtimes[i], all_std_runtimes[i])],\n",
    "                             alpha=0.3)\n",
    "    axes[1].set_title('Training Time per Epoch')\n",
    "    axes[1].set_xlabel('Epoch')\n",
    "    axes[1].set_ylabel('Time (s)')\n",
    "    axes[1].legend()\n",
    "\n",
    "    plt.tight_layout()\n",
    "    plt.show()\n",
    "\n",
    "def train_gp(GP_class, inducing_points, test_dataset, train_features, train_labels, epochs, device, dtype):\n",
    "    kernel = RBFKernel().to(device=device, dtype=dtype)\n",
    "    learn_noise = False\n",
    "    lr = .01\n",
    "    batch_size = 64\n",
    "\n",
    "    model = GP_class(kernel,\n",
    "                     inducing_points,\n",
    "                     noise=1e-3,\n",
    "                     learn_noise=learn_noise,\n",
    "                     use_scale=False,\n",
    "                     dtype=dtype,\n",
    "                     solver=\"solve\",\n",
    "                     max_cg_iter=50,\n",
    "                     cg_tolerance=0.5,\n",
    "                     mll_approx=\"exact\",\n",
    "                     fit_chunk_size=1024,\n",
    "                     use_qr=False)\n",
    "\n",
    "    epoch_runtimes = []\n",
    "    epoch_rmse = []\n",
    "\n",
    "    # pbar = tqdm(range(epochs), desc=\"Optimizing MLL\")\n",
    "    if learn_noise:\n",
    "        params = model.parameters()\n",
    "    else:\n",
    "        params = filter_param(model.named_parameters(), \"likelihood.noise_covar.raw_noise\")\n",
    "    optimizer = torch.optim.Adam(params, lr=lr)\n",
    "\n",
    "    train_loader = DataLoader(train_dataset, batch_size=batch_size, shuffle=True)\n",
    "\n",
    "    def train_model():\n",
    "        #==================Train============================\n",
    "        for epoch in range(epochs):\n",
    "            epoch_start_time = time.time()\n",
    "            for x_batch, y_batch in train_loader:\n",
    "                x_batch = x_batch.clone().detach().to(dtype=dtype, device=device)\n",
    "                y_batch = y_batch.clone().detach().to(dtype=dtype, device=device)\n",
    "                optimizer.zero_grad()\n",
    "                with gpytorch.settings.max_root_decomposition_size(100), max_cholesky_size(int(1.e7)):\n",
    "                    neg_mll = -model.mll(x_batch, y_batch)\n",
    "                neg_mll.backward()\n",
    "                optimizer.step()\n",
    "                # pbar.set_description(f\"Epoch {epoch + 1}/{epochs}\")\n",
    "                # pbar.set_postfix(MLL=f\"{-neg_mll.item()}\")\n",
    "\n",
    "            model.fit(train_features, train_labels)\n",
    "            epoch_end_time = time.time()\n",
    "            epoch_runtimes.append(epoch_end_time - epoch_start_time)\n",
    "\n",
    "            #==================Evaluate============================\n",
    "            eval_results = eval_gp(model, test_dataset, device=device)\n",
    "            epoch_rmse.append(eval_results['rmse'])\n",
    "    \n",
    "    train_model()\n",
    "    return epoch_rmse, epoch_runtimes\n",
    "\n",
    "def benchmark(GP_classes, train_dataset, test_dataset, epochs=2, seed=42, N=3):\n",
    "    torch.manual_seed(seed)\n",
    "    np.random.seed(seed)\n",
    "    random.seed(seed)\n",
    "\n",
    "    num_inducing = 64\n",
    "    dtype = torch.float32\n",
    "    device = \"cpu\"\n",
    "    \n",
    "    all_mean_rmse = []\n",
    "    all_mean_runtimes = []\n",
    "    all_std_rmse = []\n",
    "    all_std_runtimes = []\n",
    "\n",
    "    #==================Inducing Points============================\n",
    "    train_features, train_labels = flatten_dataset(train_dataset)\n",
    "    kmeans = KMeans(n_clusters=num_inducing)\n",
    "    kmeans.fit(train_features)\n",
    "    centers = kmeans.cluster_centers_\n",
    "    inducing_points = torch.tensor(centers).to(dtype=dtype, device=device)\n",
    "\n",
    "    for GP_class in GP_classes:\n",
    "        print(f\"Training {GP_class.__name__}...\")\n",
    "        \n",
    "        # Run the experiment N times and store results for each run\n",
    "        all_runs_rmse = []\n",
    "        all_runs_runtimes = []\n",
    "        \n",
    "        for run in range(N):\n",
    "            epoch_rmse, epoch_runtimes = train_gp(\n",
    "                GP_class,\n",
    "                inducing_points.clone(),\n",
    "                test_dataset,\n",
    "                train_features,\n",
    "                train_labels,\n",
    "                epochs,\n",
    "                device,\n",
    "                dtype\n",
    "            )\n",
    "            all_runs_rmse.append(epoch_rmse)\n",
    "            all_runs_runtimes.append(epoch_runtimes)\n",
    "\n",
    "        # Calculate mean and std deviation across the N runs\n",
    "        mean_rmse = np.mean(all_runs_rmse, axis=0)\n",
    "        std_rmse = np.std(all_runs_rmse, axis=0)\n",
    "        mean_runtimes = np.mean(all_runs_runtimes, axis=0)\n",
    "        std_runtimes = np.std(all_runs_runtimes, axis=0)\n",
    "\n",
    "        all_mean_rmse.append(mean_rmse)\n",
    "        all_mean_runtimes.append(mean_runtimes)\n",
    "        all_std_rmse.append(std_rmse)\n",
    "        all_std_runtimes.append(std_runtimes)\n",
    "\n",
    "    return all_mean_rmse, all_mean_runtimes, all_std_rmse, all_std_runtimes\n",
    "\n",
    "#==================Dataset============================\n",
    "from data.get_uci import ElevatorsDataset\n",
    "dataset = ElevatorsDataset(\"../data/uci_datasets/uci_datasets/pol/data.csv\")\n",
    "train_dataset, val_dataset, test_dataset = split_dataset(\n",
    "    dataset,\n",
    "    train_frac=1/10,\n",
    "    val_frac=8/10 #intentionally using small train test \n",
    ")\n",
    "\n",
    "#==================Benchmark============================\n",
    "GP_classes = [SoftGP_baseline, SoftGP_test] \n",
    "epochs = 5\n",
    "N = 3  # Number of runs\n",
    "all_mean_rmse, all_mean_runtimes, all_std_rmse, all_std_runtimes = benchmark(GP_classes, train_dataset, test_dataset, epochs=epochs, seed=42, N=N)\n",
    "plot_results(GP_classes, all_mean_rmse, all_mean_runtimes, all_std_rmse, all_std_runtimes, epochs)\n"
   ]
  }
 ],
 "metadata": {
  "kernelspec": {
   "display_name": "softgp",
   "language": "python",
   "name": "python3"
  },
  "language_info": {
   "codemirror_mode": {
    "name": "ipython",
    "version": 3
   },
   "file_extension": ".py",
   "mimetype": "text/x-python",
   "name": "python",
   "nbconvert_exporter": "python",
   "pygments_lexer": "ipython3",
   "version": "3.12.4"
  }
 },
 "nbformat": 4,
 "nbformat_minor": 2
}
