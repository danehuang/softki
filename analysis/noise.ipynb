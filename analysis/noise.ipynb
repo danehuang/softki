{
 "cells": [
  {
   "cell_type": "code",
   "execution_count": 1,
   "metadata": {},
   "outputs": [],
   "source": [
    "import pandas as pd\n",
    "import wandb\n",
    "from tqdm.notebook import tqdm\n",
    "import pickle\n",
    "from os.path import exists\n",
    "import matplotlib\n",
    "import matplotlib.pyplot as plt\n",
    "import numpy as np\n",
    "import math\n",
    "from matplotlib.ticker import MaxNLocator\n",
    "from seaborn import heatmap\n",
    "\n",
    "from data.get_uci import all_datasets\n",
    "from analysis.util import fetch, init_uci_dict, get_uci_info\n",
    "\n",
    "uci_info = get_uci_info()"
   ]
  },
  {
   "cell_type": "code",
   "execution_count": 2,
   "metadata": {},
   "outputs": [
    {
     "name": "stderr",
     "output_type": "stream",
     "text": [
      "100%|██████████| 36/36 [00:14<00:00,  2.50it/s]\n"
     ]
    }
   ],
   "source": [
    "filters = {\n",
    "    \"group\": \"benchmark8\"\n",
    "}\n",
    "raw_orig = fetch(\"soft-gp-2\", filters)"
   ]
  },
  {
   "cell_type": "code",
   "execution_count": 3,
   "metadata": {},
   "outputs": [],
   "source": [
    "runs2 = {}\n",
    "uci_dict2 = {}\n",
    "for exp in raw_orig:\n",
    "    model = exp.config[\"model.name\"]\n",
    "    dataset = exp.config[\"dataset.name\"]\n",
    "    num_inducing = exp.config[\"model.num_inducing\"]\n",
    "    dtype = exp.config[\"model.dtype\"]\n",
    "    seed = exp.config[\"training.seed\"]\n",
    "    train_frac = float(exp.config[\"dataset.train_frac\"])\n",
    "    if model == \"svi-gp\" and not exp.config[\"model.learn_noise\"]:\n",
    "        continue \n",
    "    if model == \"sv-gp\" and not exp.config[\"model.learn_noise\"]:\n",
    "        continue \n",
    "    uci_dict2[(dataset, seed, num_inducing, train_frac, model)] = exp.history\n",
    "    runs2[(dataset, seed, num_inducing, train_frac, model)] = exp.run.id"
   ]
  },
  {
   "cell_type": "code",
   "execution_count": 4,
   "metadata": {},
   "outputs": [
    {
     "name": "stdout",
     "output_type": "stream",
     "text": [
      "Exception ('pol', 6535, 1024, 0.9, 'soft-gp') soft-gp pol\n",
      "Exception ('elevators', 6535, 1024, 0.9, 'soft-gp') soft-gp elevators\n",
      "Exception ('bike', 6535, 1024, 0.9, 'soft-gp') soft-gp bike\n",
      "Exception ('kin40k', 6535, 1024, 0.9, 'soft-gp') soft-gp kin40k\n",
      "Exception ('protein', 6535, 1024, 0.9, 'soft-gp') soft-gp protein\n",
      "Exception ('keggdirected', 6535, 1024, 0.9, 'soft-gp') soft-gp keggdirected\n",
      "Exception ('slice', 6535, 1024, 0.9, 'soft-gp') soft-gp slice\n",
      "Exception ('keggundirected', 6535, 1024, 0.9, 'soft-gp') soft-gp keggundirected\n",
      "Exception ('3droad', 6535, 1024, 0.9, 'soft-gp') soft-gp 3droad\n",
      "Exception ('song', 6535, 1024, 0.9, 'soft-gp') soft-gp song\n",
      "Exception ('buzz', 6535, 1024, 0.9, 'soft-gp') soft-gp buzz\n",
      "Exception ('houseelectric', 6535, 1024, 0.9, 'soft-gp') soft-gp houseelectric\n",
      "Exception 49 soft-gp houseelectric\n",
      "Exception ('pol', 8830, 1024, 0.9, 'soft-gp') soft-gp pol\n",
      "Exception ('elevators', 8830, 1024, 0.9, 'soft-gp') soft-gp elevators\n",
      "Exception ('bike', 8830, 1024, 0.9, 'soft-gp') soft-gp bike\n",
      "Exception ('kin40k', 8830, 1024, 0.9, 'soft-gp') soft-gp kin40k\n",
      "Exception ('protein', 8830, 1024, 0.9, 'soft-gp') soft-gp protein\n",
      "Exception ('keggdirected', 8830, 1024, 0.9, 'soft-gp') soft-gp keggdirected\n",
      "Exception ('slice', 8830, 1024, 0.9, 'soft-gp') soft-gp slice\n",
      "Exception ('keggundirected', 8830, 1024, 0.9, 'soft-gp') soft-gp keggundirected\n",
      "Exception ('3droad', 8830, 1024, 0.9, 'soft-gp') soft-gp 3droad\n",
      "Exception ('song', 8830, 1024, 0.9, 'soft-gp') soft-gp song\n",
      "Exception ('buzz', 8830, 1024, 0.9, 'soft-gp') soft-gp buzz\n",
      "Exception ('houseelectric', 8830, 1024, 0.9, 'soft-gp') soft-gp houseelectric\n",
      "Exception ('pol', 92357, 1024, 0.9, 'soft-gp') soft-gp pol\n",
      "Exception ('elevators', 92357, 1024, 0.9, 'soft-gp') soft-gp elevators\n",
      "Exception ('bike', 92357, 1024, 0.9, 'soft-gp') soft-gp bike\n",
      "Exception ('kin40k', 92357, 1024, 0.9, 'soft-gp') soft-gp kin40k\n",
      "Exception ('protein', 92357, 1024, 0.9, 'soft-gp') soft-gp protein\n",
      "Exception ('keggdirected', 92357, 1024, 0.9, 'soft-gp') soft-gp keggdirected\n",
      "Exception ('slice', 92357, 1024, 0.9, 'soft-gp') soft-gp slice\n",
      "Exception ('keggundirected', 92357, 1024, 0.9, 'soft-gp') soft-gp keggundirected\n",
      "Exception ('3droad', 92357, 1024, 0.9, 'soft-gp') soft-gp 3droad\n",
      "Exception ('song', 92357, 1024, 0.9, 'soft-gp') soft-gp song\n",
      "Exception ('buzz', 92357, 1024, 0.9, 'soft-gp') soft-gp buzz\n",
      "Exception ('houseelectric', 92357, 1024, 0.9, 'soft-gp') soft-gp houseelectric\n"
     ]
    },
    {
     "data": {
      "text/html": [
       "<div>\n",
       "<style scoped>\n",
       "    .dataframe tbody tr th:only-of-type {\n",
       "        vertical-align: middle;\n",
       "    }\n",
       "\n",
       "    .dataframe tbody tr th {\n",
       "        vertical-align: top;\n",
       "    }\n",
       "\n",
       "    .dataframe thead th {\n",
       "        text-align: right;\n",
       "    }\n",
       "</style>\n",
       "<table border=\"1\" class=\"dataframe\">\n",
       "  <thead>\n",
       "    <tr style=\"text-align: right;\">\n",
       "      <th></th>\n",
       "      <th>N</th>\n",
       "      <th>D</th>\n",
       "      <th>soft-gp-512-0.9-6535</th>\n",
       "      <th>soft-gp-1024-0.9-6535</th>\n",
       "      <th>soft-gp-512-0.9-8830</th>\n",
       "      <th>soft-gp-1024-0.9-8830</th>\n",
       "      <th>soft-gp-512-0.9-92357</th>\n",
       "      <th>soft-gp-1024-0.9-92357</th>\n",
       "    </tr>\n",
       "  </thead>\n",
       "  <tbody>\n",
       "    <tr>\n",
       "      <th>Pol</th>\n",
       "      <td>13500</td>\n",
       "      <td>26</td>\n",
       "      <td>0.165535</td>\n",
       "      <td>NaN</td>\n",
       "      <td>0.183801</td>\n",
       "      <td>NaN</td>\n",
       "      <td>0.179955</td>\n",
       "      <td>NaN</td>\n",
       "    </tr>\n",
       "    <tr>\n",
       "      <th>Elevators</th>\n",
       "      <td>14939</td>\n",
       "      <td>18</td>\n",
       "      <td>0.398479</td>\n",
       "      <td>NaN</td>\n",
       "      <td>0.407659</td>\n",
       "      <td>NaN</td>\n",
       "      <td>0.383482</td>\n",
       "      <td>NaN</td>\n",
       "    </tr>\n",
       "    <tr>\n",
       "      <th>Bike</th>\n",
       "      <td>15641</td>\n",
       "      <td>17</td>\n",
       "      <td>0.205229</td>\n",
       "      <td>NaN</td>\n",
       "      <td>0.213110</td>\n",
       "      <td>NaN</td>\n",
       "      <td>0.206672</td>\n",
       "      <td>NaN</td>\n",
       "    </tr>\n",
       "    <tr>\n",
       "      <th>Kin40k</th>\n",
       "      <td>36000</td>\n",
       "      <td>8</td>\n",
       "      <td>0.195797</td>\n",
       "      <td>NaN</td>\n",
       "      <td>0.191214</td>\n",
       "      <td>NaN</td>\n",
       "      <td>0.201318</td>\n",
       "      <td>NaN</td>\n",
       "    </tr>\n",
       "    <tr>\n",
       "      <th>Protein</th>\n",
       "      <td>41157</td>\n",
       "      <td>9</td>\n",
       "      <td>0.640949</td>\n",
       "      <td>NaN</td>\n",
       "      <td>0.616290</td>\n",
       "      <td>NaN</td>\n",
       "      <td>0.623248</td>\n",
       "      <td>NaN</td>\n",
       "    </tr>\n",
       "    <tr>\n",
       "      <th>Keggdirected</th>\n",
       "      <td>43944</td>\n",
       "      <td>20</td>\n",
       "      <td>0.080777</td>\n",
       "      <td>NaN</td>\n",
       "      <td>0.076483</td>\n",
       "      <td>NaN</td>\n",
       "      <td>0.087858</td>\n",
       "      <td>NaN</td>\n",
       "    </tr>\n",
       "    <tr>\n",
       "      <th>Slice</th>\n",
       "      <td>48150</td>\n",
       "      <td>385</td>\n",
       "      <td>0.040312</td>\n",
       "      <td>NaN</td>\n",
       "      <td>0.030302</td>\n",
       "      <td>NaN</td>\n",
       "      <td>0.036665</td>\n",
       "      <td>NaN</td>\n",
       "    </tr>\n",
       "    <tr>\n",
       "      <th>Keggundirected</th>\n",
       "      <td>57247</td>\n",
       "      <td>27</td>\n",
       "      <td>0.115206</td>\n",
       "      <td>NaN</td>\n",
       "      <td>0.111449</td>\n",
       "      <td>NaN</td>\n",
       "      <td>0.118556</td>\n",
       "      <td>NaN</td>\n",
       "    </tr>\n",
       "    <tr>\n",
       "      <th>3droad</th>\n",
       "      <td>391386</td>\n",
       "      <td>3</td>\n",
       "      <td>0.572497</td>\n",
       "      <td>NaN</td>\n",
       "      <td>0.574753</td>\n",
       "      <td>NaN</td>\n",
       "      <td>0.575896</td>\n",
       "      <td>NaN</td>\n",
       "    </tr>\n",
       "    <tr>\n",
       "      <th>Song</th>\n",
       "      <td>270000</td>\n",
       "      <td>90</td>\n",
       "      <td>0.802532</td>\n",
       "      <td>NaN</td>\n",
       "      <td>0.796083</td>\n",
       "      <td>NaN</td>\n",
       "      <td>0.795724</td>\n",
       "      <td>NaN</td>\n",
       "    </tr>\n",
       "    <tr>\n",
       "      <th>Buzz</th>\n",
       "      <td>524925</td>\n",
       "      <td>77</td>\n",
       "      <td>0.251043</td>\n",
       "      <td>NaN</td>\n",
       "      <td>0.251840</td>\n",
       "      <td>NaN</td>\n",
       "      <td>0.250370</td>\n",
       "      <td>NaN</td>\n",
       "    </tr>\n",
       "    <tr>\n",
       "      <th>Houseelectric</th>\n",
       "      <td>1844352</td>\n",
       "      <td>11</td>\n",
       "      <td>0.054918</td>\n",
       "      <td>NaN</td>\n",
       "      <td>NaN</td>\n",
       "      <td>NaN</td>\n",
       "      <td>0.054430</td>\n",
       "      <td>NaN</td>\n",
       "    </tr>\n",
       "  </tbody>\n",
       "</table>\n",
       "</div>"
      ],
      "text/plain": [
       "                      N    D  soft-gp-512-0.9-6535  soft-gp-1024-0.9-6535  \\\n",
       "Pol               13500   26              0.165535                    NaN   \n",
       "Elevators         14939   18              0.398479                    NaN   \n",
       "Bike              15641   17              0.205229                    NaN   \n",
       "Kin40k            36000    8              0.195797                    NaN   \n",
       "Protein           41157    9              0.640949                    NaN   \n",
       "Keggdirected      43944   20              0.080777                    NaN   \n",
       "Slice             48150  385              0.040312                    NaN   \n",
       "Keggundirected    57247   27              0.115206                    NaN   \n",
       "3droad           391386    3              0.572497                    NaN   \n",
       "Song             270000   90              0.802532                    NaN   \n",
       "Buzz             524925   77              0.251043                    NaN   \n",
       "Houseelectric   1844352   11              0.054918                    NaN   \n",
       "\n",
       "                soft-gp-512-0.9-8830  soft-gp-1024-0.9-8830  \\\n",
       "Pol                         0.183801                    NaN   \n",
       "Elevators                   0.407659                    NaN   \n",
       "Bike                        0.213110                    NaN   \n",
       "Kin40k                      0.191214                    NaN   \n",
       "Protein                     0.616290                    NaN   \n",
       "Keggdirected                0.076483                    NaN   \n",
       "Slice                       0.030302                    NaN   \n",
       "Keggundirected              0.111449                    NaN   \n",
       "3droad                      0.574753                    NaN   \n",
       "Song                        0.796083                    NaN   \n",
       "Buzz                        0.251840                    NaN   \n",
       "Houseelectric                    NaN                    NaN   \n",
       "\n",
       "                soft-gp-512-0.9-92357  soft-gp-1024-0.9-92357  \n",
       "Pol                          0.179955                     NaN  \n",
       "Elevators                    0.383482                     NaN  \n",
       "Bike                         0.206672                     NaN  \n",
       "Kin40k                       0.201318                     NaN  \n",
       "Protein                      0.623248                     NaN  \n",
       "Keggdirected                 0.087858                     NaN  \n",
       "Slice                        0.036665                     NaN  \n",
       "Keggundirected               0.118556                     NaN  \n",
       "3droad                       0.575896                     NaN  \n",
       "Song                         0.795724                     NaN  \n",
       "Buzz                         0.250370                     NaN  \n",
       "Houseelectric                0.054430                     NaN  "
      ]
     },
     "execution_count": 4,
     "metadata": {},
     "output_type": "execute_result"
    }
   ],
   "source": [
    "seeds = [6535, 8830, 92357]\n",
    "num_inducings = [512, 1024]\n",
    "fracs = [0.9]\n",
    "\n",
    "UCI_INFO = {\n",
    "    \"N\": [int(np.floor(N * 0.9)) for _, N, _, _ in uci_info],\n",
    "    \"D\": [D for _, _, D, _ in uci_info],\n",
    "}\n",
    "KZZ = {}\n",
    "all_bins = {}\n",
    "\n",
    "models = [\"soft-gp\"]\n",
    "\n",
    "for seed in seeds:\n",
    "    for model in models:\n",
    "        for num_inducing in num_inducings:\n",
    "            for frac in fracs:\n",
    "                xs = []\n",
    "                ts = []\n",
    "                K_zzs = []\n",
    "                bins1 = []\n",
    "                bins2 = []\n",
    "                bins3 = []\n",
    "                bins4 = []\n",
    "                bins5 = []\n",
    "                bins6 = []\n",
    "                for dataset, _, _, _ in uci_info:\n",
    "                    try:\n",
    "                        xs += [float(uci_dict2[(dataset, seed, num_inducing, frac, model)][\"test_rmse\"][49])]\n",
    "                        ts += [float(np.array(uci_dict2[(dataset, seed, num_inducing, frac, model)][\"epoch_time\"][49]).mean())]\n",
    "                        K_zzs += [uci_dict2[(dataset, seed, num_inducing, frac, model)][\"K_zz\"][i] for i in range(5)]\n",
    "                        bins1 += [uci_dict2[(dataset, seed, num_inducing, frac, model)][\"K_zz_bin_0.0\"][49]]\n",
    "                        bins2 += [uci_dict2[(dataset, seed, num_inducing, frac, model)][\"K_zz_bin_1e-20\"][49]]\n",
    "                        bins3 += [uci_dict2[(dataset, seed, num_inducing, frac, model)][\"K_zz_bin_1e-10\"][49]]\n",
    "                        bins4 += [uci_dict2[(dataset, seed, num_inducing, frac, model)][\"K_zz_bin_1e-05\"][49]]\n",
    "                        bins5 += [uci_dict2[(dataset, seed, num_inducing, frac, model)][\"K_zz_bin_0.01\"][49]]\n",
    "                        bins6 += [uci_dict2[(dataset, seed, num_inducing, frac, model)][\"K_zz_bin_0.5\"][49]]\n",
    "                    except Exception as e:\n",
    "                        xs += [np.nan]\n",
    "                        ts += [np.nan]\n",
    "                        bins1 += [np.nan]\n",
    "                        bins2 += [np.nan]\n",
    "                        bins3 += [np.nan]\n",
    "                        bins4 += [np.nan]\n",
    "                        bins5 += [np.nan]\n",
    "                        bins6 += [np.nan]\n",
    "                        print(\"Exception\", e, model, dataset)\n",
    "\n",
    "                UCI_INFO[f\"{model}-{num_inducing}-{frac}-{seed}\"] = xs\n",
    "                # UCI_INFO[f\"time-{model}-{num_inducing}-{frac}-{seed}\"] = ts\n",
    "                all_bins[f\"0.0-{model}-{num_inducing}-{frac}-{seed}\"] = bins1\n",
    "                all_bins[f\"1e-20-{model}-{num_inducing}-{frac}-{seed}\"] = bins2\n",
    "                all_bins[f\"1e-10-{model}-{num_inducing}-{frac}-{seed}\"] = bins3\n",
    "                all_bins[f\"1e-05-{model}-{num_inducing}-{frac}-{seed}\"] = bins4\n",
    "                all_bins[f\"0.01-{model}-{num_inducing}-{frac}-{seed}\"] = bins5\n",
    "                all_bins[f\"0.5-{model}-{num_inducing}-{frac}-{seed}\"] = bins6\n",
    "                KZZ[f\"kzz-{model}-{num_inducing}-{frac}-{seed}\"] = K_zzs\n",
    "df = pd.DataFrame(data=UCI_INFO)\n",
    "df.index = [name.capitalize().replace(\"_\", \"-\") for name, _, _, _ in uci_info]\n",
    "df"
   ]
  },
  {
   "cell_type": "code",
   "execution_count": 5,
   "metadata": {},
   "outputs": [
    {
     "name": "stderr",
     "output_type": "stream",
     "text": [
      "100%|██████████| 36/36 [00:22<00:00,  1.61it/s]\n"
     ]
    }
   ],
   "source": [
    "filters = {\n",
    "    \"group\": \"noise2\"\n",
    "}\n",
    "raw = fetch(\"soft-gp-2\", filters)"
   ]
  },
  {
   "cell_type": "code",
   "execution_count": null,
   "metadata": {},
   "outputs": [],
   "source": []
  },
  {
   "cell_type": "code",
   "execution_count": 6,
   "metadata": {},
   "outputs": [
    {
     "name": "stdout",
     "output_type": "stream",
     "text": [
      "dict_keys([('houseelectric', 92357, 512, 0.9, 'soft-gp', True), ('houseelectric', 8830, 512, 0.9, 'soft-gp', True), ('houseelectric', 6535, 512, 0.9, 'soft-gp', True), ('buzz', 92357, 512, 0.9, 'soft-gp', True), ('buzz', 8830, 512, 0.9, 'soft-gp', True), ('buzz', 6535, 512, 0.9, 'soft-gp', True), ('song', 92357, 512, 0.9, 'soft-gp', True), ('song', 8830, 512, 0.9, 'soft-gp', True), ('song', 6535, 512, 0.9, 'soft-gp', True), ('3droad', 92357, 512, 0.9, 'soft-gp', True), ('3droad', 8830, 512, 0.9, 'soft-gp', True), ('3droad', 6535, 512, 0.9, 'soft-gp', True), ('keggundirected', 92357, 512, 0.9, 'soft-gp', True), ('keggundirected', 8830, 512, 0.9, 'soft-gp', True), ('keggundirected', 6535, 512, 0.9, 'soft-gp', True), ('slice', 92357, 512, 0.9, 'soft-gp', True), ('slice', 8830, 512, 0.9, 'soft-gp', True), ('slice', 6535, 512, 0.9, 'soft-gp', True), ('keggdirected', 92357, 512, 0.9, 'soft-gp', True), ('keggdirected', 8830, 512, 0.9, 'soft-gp', True), ('keggdirected', 6535, 512, 0.9, 'soft-gp', True), ('protein', 92357, 512, 0.9, 'soft-gp', True), ('protein', 8830, 512, 0.9, 'soft-gp', True), ('protein', 6535, 512, 0.9, 'soft-gp', True), ('kin40k', 92357, 512, 0.9, 'soft-gp', True), ('kin40k', 8830, 512, 0.9, 'soft-gp', True), ('kin40k', 6535, 512, 0.9, 'soft-gp', True), ('bike', 92357, 512, 0.9, 'soft-gp', True), ('bike', 8830, 512, 0.9, 'soft-gp', True), ('bike', 6535, 512, 0.9, 'soft-gp', True), ('elevators', 92357, 512, 0.9, 'soft-gp', True), ('elevators', 8830, 512, 0.9, 'soft-gp', True), ('elevators', 6535, 512, 0.9, 'soft-gp', True), ('pol', 92357, 512, 0.9, 'soft-gp', True), ('pol', 8830, 512, 0.9, 'soft-gp', True), ('pol', 6535, 512, 0.9, 'soft-gp', True)])\n"
     ]
    }
   ],
   "source": [
    "runs = {}\n",
    "uci_dict = {}\n",
    "for exp in raw:\n",
    "    model = exp.config[\"model.name\"]\n",
    "    dataset = exp.config[\"dataset.name\"]\n",
    "    num_inducing = exp.config[\"model.num_inducing\"]\n",
    "    dtype = exp.config[\"model.dtype\"]\n",
    "    seed = exp.config[\"training.seed\"]\n",
    "    learn_noise = exp.config[\"model.learn_noise\"]\n",
    "    train_frac = float(exp.config[\"dataset.train_frac\"])\n",
    "    uci_dict[(dataset, seed, num_inducing, train_frac, model, learn_noise)] = exp.history\n",
    "    runs[(dataset, seed, num_inducing, train_frac, model, learn_noise)] = exp.run.id\n",
    "\n",
    "print(uci_dict.keys())"
   ]
  },
  {
   "cell_type": "code",
   "execution_count": 7,
   "metadata": {},
   "outputs": [
    {
     "data": {
      "text/html": [
       "<div>\n",
       "<style scoped>\n",
       "    .dataframe tbody tr th:only-of-type {\n",
       "        vertical-align: middle;\n",
       "    }\n",
       "\n",
       "    .dataframe tbody tr th {\n",
       "        vertical-align: top;\n",
       "    }\n",
       "\n",
       "    .dataframe thead th {\n",
       "        text-align: right;\n",
       "    }\n",
       "</style>\n",
       "<table border=\"1\" class=\"dataframe\">\n",
       "  <thead>\n",
       "    <tr style=\"text-align: right;\">\n",
       "      <th></th>\n",
       "      <th>N</th>\n",
       "      <th>D</th>\n",
       "      <th>soft-gp-512-0.9-6535</th>\n",
       "      <th>soft-gp-1024-0.9-6535</th>\n",
       "      <th>soft-gp-512-0.9-8830</th>\n",
       "      <th>soft-gp-1024-0.9-8830</th>\n",
       "      <th>soft-gp-512-0.9-92357</th>\n",
       "      <th>soft-gp-1024-0.9-92357</th>\n",
       "      <th>soft-gp-512-0.9-True-6535</th>\n",
       "      <th>soft-gp-512-0.9-True-8830</th>\n",
       "      <th>soft-gp-512-0.9-True-92357</th>\n",
       "    </tr>\n",
       "  </thead>\n",
       "  <tbody>\n",
       "    <tr>\n",
       "      <th>Pol</th>\n",
       "      <td>13500</td>\n",
       "      <td>26</td>\n",
       "      <td>0.165535</td>\n",
       "      <td>NaN</td>\n",
       "      <td>0.183801</td>\n",
       "      <td>NaN</td>\n",
       "      <td>0.179955</td>\n",
       "      <td>NaN</td>\n",
       "      <td>0.188124</td>\n",
       "      <td>0.200263</td>\n",
       "      <td>0.198621</td>\n",
       "    </tr>\n",
       "    <tr>\n",
       "      <th>Elevators</th>\n",
       "      <td>14939</td>\n",
       "      <td>18</td>\n",
       "      <td>0.398479</td>\n",
       "      <td>NaN</td>\n",
       "      <td>0.407659</td>\n",
       "      <td>NaN</td>\n",
       "      <td>0.383482</td>\n",
       "      <td>NaN</td>\n",
       "      <td>0.402369</td>\n",
       "      <td>0.411259</td>\n",
       "      <td>0.395064</td>\n",
       "    </tr>\n",
       "    <tr>\n",
       "      <th>Bike</th>\n",
       "      <td>15641</td>\n",
       "      <td>17</td>\n",
       "      <td>0.205229</td>\n",
       "      <td>NaN</td>\n",
       "      <td>0.213110</td>\n",
       "      <td>NaN</td>\n",
       "      <td>0.206672</td>\n",
       "      <td>NaN</td>\n",
       "      <td>0.262051</td>\n",
       "      <td>0.268186</td>\n",
       "      <td>0.271179</td>\n",
       "    </tr>\n",
       "    <tr>\n",
       "      <th>Kin40k</th>\n",
       "      <td>36000</td>\n",
       "      <td>8</td>\n",
       "      <td>0.195797</td>\n",
       "      <td>NaN</td>\n",
       "      <td>0.191214</td>\n",
       "      <td>NaN</td>\n",
       "      <td>0.201318</td>\n",
       "      <td>NaN</td>\n",
       "      <td>0.295843</td>\n",
       "      <td>0.279393</td>\n",
       "      <td>0.288044</td>\n",
       "    </tr>\n",
       "    <tr>\n",
       "      <th>Protein</th>\n",
       "      <td>41157</td>\n",
       "      <td>9</td>\n",
       "      <td>0.640949</td>\n",
       "      <td>NaN</td>\n",
       "      <td>0.616290</td>\n",
       "      <td>NaN</td>\n",
       "      <td>0.623248</td>\n",
       "      <td>NaN</td>\n",
       "      <td>0.703440</td>\n",
       "      <td>0.690762</td>\n",
       "      <td>0.698279</td>\n",
       "    </tr>\n",
       "    <tr>\n",
       "      <th>Keggdirected</th>\n",
       "      <td>43944</td>\n",
       "      <td>20</td>\n",
       "      <td>0.080777</td>\n",
       "      <td>NaN</td>\n",
       "      <td>0.076483</td>\n",
       "      <td>NaN</td>\n",
       "      <td>0.087858</td>\n",
       "      <td>NaN</td>\n",
       "      <td>0.087506</td>\n",
       "      <td>0.082949</td>\n",
       "      <td>0.092178</td>\n",
       "    </tr>\n",
       "    <tr>\n",
       "      <th>Slice</th>\n",
       "      <td>48150</td>\n",
       "      <td>385</td>\n",
       "      <td>0.040312</td>\n",
       "      <td>NaN</td>\n",
       "      <td>0.030302</td>\n",
       "      <td>NaN</td>\n",
       "      <td>0.036665</td>\n",
       "      <td>NaN</td>\n",
       "      <td>0.050486</td>\n",
       "      <td>0.041637</td>\n",
       "      <td>0.046220</td>\n",
       "    </tr>\n",
       "    <tr>\n",
       "      <th>Keggundirected</th>\n",
       "      <td>57247</td>\n",
       "      <td>27</td>\n",
       "      <td>0.115206</td>\n",
       "      <td>NaN</td>\n",
       "      <td>0.111449</td>\n",
       "      <td>NaN</td>\n",
       "      <td>0.118556</td>\n",
       "      <td>NaN</td>\n",
       "      <td>0.119892</td>\n",
       "      <td>0.113855</td>\n",
       "      <td>0.122106</td>\n",
       "    </tr>\n",
       "    <tr>\n",
       "      <th>3droad</th>\n",
       "      <td>391386</td>\n",
       "      <td>3</td>\n",
       "      <td>0.572497</td>\n",
       "      <td>NaN</td>\n",
       "      <td>0.574753</td>\n",
       "      <td>NaN</td>\n",
       "      <td>0.575896</td>\n",
       "      <td>NaN</td>\n",
       "      <td>0.775756</td>\n",
       "      <td>0.770694</td>\n",
       "      <td>0.771834</td>\n",
       "    </tr>\n",
       "    <tr>\n",
       "      <th>Song</th>\n",
       "      <td>270000</td>\n",
       "      <td>90</td>\n",
       "      <td>0.802532</td>\n",
       "      <td>NaN</td>\n",
       "      <td>0.796083</td>\n",
       "      <td>NaN</td>\n",
       "      <td>0.795724</td>\n",
       "      <td>NaN</td>\n",
       "      <td>0.805732</td>\n",
       "      <td>0.800154</td>\n",
       "      <td>0.799112</td>\n",
       "    </tr>\n",
       "    <tr>\n",
       "      <th>Buzz</th>\n",
       "      <td>524925</td>\n",
       "      <td>77</td>\n",
       "      <td>0.251043</td>\n",
       "      <td>NaN</td>\n",
       "      <td>0.251840</td>\n",
       "      <td>NaN</td>\n",
       "      <td>0.250370</td>\n",
       "      <td>NaN</td>\n",
       "      <td>0.261115</td>\n",
       "      <td>0.268547</td>\n",
       "      <td>0.267465</td>\n",
       "    </tr>\n",
       "    <tr>\n",
       "      <th>Houseelectric</th>\n",
       "      <td>1844352</td>\n",
       "      <td>11</td>\n",
       "      <td>0.054918</td>\n",
       "      <td>NaN</td>\n",
       "      <td>NaN</td>\n",
       "      <td>NaN</td>\n",
       "      <td>0.054430</td>\n",
       "      <td>NaN</td>\n",
       "      <td>0.057102</td>\n",
       "      <td>0.056891</td>\n",
       "      <td>0.057113</td>\n",
       "    </tr>\n",
       "  </tbody>\n",
       "</table>\n",
       "</div>"
      ],
      "text/plain": [
       "                      N    D  soft-gp-512-0.9-6535  soft-gp-1024-0.9-6535  \\\n",
       "Pol               13500   26              0.165535                    NaN   \n",
       "Elevators         14939   18              0.398479                    NaN   \n",
       "Bike              15641   17              0.205229                    NaN   \n",
       "Kin40k            36000    8              0.195797                    NaN   \n",
       "Protein           41157    9              0.640949                    NaN   \n",
       "Keggdirected      43944   20              0.080777                    NaN   \n",
       "Slice             48150  385              0.040312                    NaN   \n",
       "Keggundirected    57247   27              0.115206                    NaN   \n",
       "3droad           391386    3              0.572497                    NaN   \n",
       "Song             270000   90              0.802532                    NaN   \n",
       "Buzz             524925   77              0.251043                    NaN   \n",
       "Houseelectric   1844352   11              0.054918                    NaN   \n",
       "\n",
       "                soft-gp-512-0.9-8830  soft-gp-1024-0.9-8830  \\\n",
       "Pol                         0.183801                    NaN   \n",
       "Elevators                   0.407659                    NaN   \n",
       "Bike                        0.213110                    NaN   \n",
       "Kin40k                      0.191214                    NaN   \n",
       "Protein                     0.616290                    NaN   \n",
       "Keggdirected                0.076483                    NaN   \n",
       "Slice                       0.030302                    NaN   \n",
       "Keggundirected              0.111449                    NaN   \n",
       "3droad                      0.574753                    NaN   \n",
       "Song                        0.796083                    NaN   \n",
       "Buzz                        0.251840                    NaN   \n",
       "Houseelectric                    NaN                    NaN   \n",
       "\n",
       "                soft-gp-512-0.9-92357  soft-gp-1024-0.9-92357  \\\n",
       "Pol                          0.179955                     NaN   \n",
       "Elevators                    0.383482                     NaN   \n",
       "Bike                         0.206672                     NaN   \n",
       "Kin40k                       0.201318                     NaN   \n",
       "Protein                      0.623248                     NaN   \n",
       "Keggdirected                 0.087858                     NaN   \n",
       "Slice                        0.036665                     NaN   \n",
       "Keggundirected               0.118556                     NaN   \n",
       "3droad                       0.575896                     NaN   \n",
       "Song                         0.795724                     NaN   \n",
       "Buzz                         0.250370                     NaN   \n",
       "Houseelectric                0.054430                     NaN   \n",
       "\n",
       "                soft-gp-512-0.9-True-6535  soft-gp-512-0.9-True-8830  \\\n",
       "Pol                              0.188124                   0.200263   \n",
       "Elevators                        0.402369                   0.411259   \n",
       "Bike                             0.262051                   0.268186   \n",
       "Kin40k                           0.295843                   0.279393   \n",
       "Protein                          0.703440                   0.690762   \n",
       "Keggdirected                     0.087506                   0.082949   \n",
       "Slice                            0.050486                   0.041637   \n",
       "Keggundirected                   0.119892                   0.113855   \n",
       "3droad                           0.775756                   0.770694   \n",
       "Song                             0.805732                   0.800154   \n",
       "Buzz                             0.261115                   0.268547   \n",
       "Houseelectric                    0.057102                   0.056891   \n",
       "\n",
       "                soft-gp-512-0.9-True-92357  \n",
       "Pol                               0.198621  \n",
       "Elevators                         0.395064  \n",
       "Bike                              0.271179  \n",
       "Kin40k                            0.288044  \n",
       "Protein                           0.698279  \n",
       "Keggdirected                      0.092178  \n",
       "Slice                             0.046220  \n",
       "Keggundirected                    0.122106  \n",
       "3droad                            0.771834  \n",
       "Song                              0.799112  \n",
       "Buzz                              0.267465  \n",
       "Houseelectric                     0.057113  "
      ]
     },
     "execution_count": 7,
     "metadata": {},
     "output_type": "execute_result"
    }
   ],
   "source": [
    "# UCI_INFO = {\n",
    "#     \"N\": [int(np.floor(N * 0.9)) for _, N, _, _ in uci_info],\n",
    "#     \"D\": [D for _, _, D, _ in uci_info],\n",
    "#     # \"exact-rep\": [e for _, _, _, e in uci_info],\n",
    "# }\n",
    "# KZZ = {}\n",
    "# all_bins = {}\n",
    "\n",
    "models = [\"soft-gp\"]\n",
    "seeds = [6535, 8830, 92357]\n",
    "\n",
    "# models = [\"sv-gp\"]\n",
    "for ln in [True]:\n",
    "    model = \"soft-gp\"\n",
    "    for seed in seeds:\n",
    "        frac = 0.9\n",
    "        num_inducing = 512\n",
    "        xs = []\n",
    "        ts = []\n",
    "        K_zzs = []\n",
    "        bins1 = []\n",
    "        bins2 = []\n",
    "        bins3 = []\n",
    "        bins4 = []\n",
    "        bins5 = []\n",
    "        bins6 = []\n",
    "        for dataset, _, _, _ in uci_info:\n",
    "            try:\n",
    "                xs += [float(uci_dict[(dataset, seed, num_inducing, frac, model, ln)][\"test_rmse\"][49])]\n",
    "                ts += [float(np.array(uci_dict[(dataset, seed, num_inducing, frac, model, ln)][\"epoch_time\"][49]).mean())]\n",
    "                K_zzs += [uci_dict[(dataset, seed, num_inducing, frac, model, ln)][\"K_zz\"][i] for i in range(5)]\n",
    "                bins1 += [uci_dict[(dataset, seed, num_inducing, frac, model, ln)][\"K_zz_bin_0.0\"][49]]\n",
    "                bins2 += [uci_dict[(dataset, seed, num_inducing, frac, model, ln)][\"K_zz_bin_1e-20\"][49]]\n",
    "                bins3 += [uci_dict[(dataset, seed, num_inducing, frac, model, ln)][\"K_zz_bin_1e-10\"][49]]\n",
    "                bins4 += [uci_dict[(dataset, seed, num_inducing, frac, model, ln)][\"K_zz_bin_1e-05\"][49]]\n",
    "                bins5 += [uci_dict[(dataset, seed, num_inducing, frac, model, ln)][\"K_zz_bin_0.01\"][49]]\n",
    "                bins6 += [uci_dict[(dataset, seed, num_inducing, frac, model, ln)][\"K_zz_bin_0.5\"][49]]\n",
    "            except Exception as e:\n",
    "                xs += [np.nan]\n",
    "                ts += [np.nan]\n",
    "                bins1 += [np.nan]\n",
    "                bins2 += [np.nan]\n",
    "                bins3 += [np.nan]\n",
    "                bins4 += [np.nan]\n",
    "                bins5 += [np.nan]\n",
    "                bins6 += [np.nan]\n",
    "                print(\"Exception\", e, model, dataset)\n",
    "\n",
    "        UCI_INFO[f\"{model}-{num_inducing}-{frac}-{ln}-{seed}\"] = xs\n",
    "        # UCI_INFO[f\"time-{model}-{num_inducing}-{frac}-{seed}-{ln}\"] = ts\n",
    "        all_bins[f\"0.0-{model}-{num_inducing}-{frac}-{ln}-{seed}\"] = bins1\n",
    "        all_bins[f\"1e-20-{model}-{num_inducing}-{frac}-{ln}-{seed}\"] = bins2\n",
    "        all_bins[f\"1e-10-{model}-{num_inducing}-{frac}-{ln}-{seed}\"] = bins3\n",
    "        all_bins[f\"1e-05-{model}-{num_inducing}-{frac}-{ln}-{seed}\"] = bins4\n",
    "        all_bins[f\"0.01-{model}-{num_inducing}-{frac}-{ln}-{seed}\"] = bins5\n",
    "        all_bins[f\"0.5-{model}-{num_inducing}-{frac}-{ln}-{seed}\"] = bins6\n",
    "        KZZ[f\"kzz-{model}-{num_inducing}-{ln}-{frac}-{seed}\"] = K_zzs\n",
    "df = pd.DataFrame(data=UCI_INFO)\n",
    "df.index = [name.capitalize().replace(\"_\", \"-\") for name, _, _, _ in uci_info]\n",
    "df"
   ]
  },
  {
   "cell_type": "code",
   "execution_count": 8,
   "metadata": {},
   "outputs": [
    {
     "name": "stdout",
     "output_type": "stream",
     "text": [
      "RMSE\n"
     ]
    },
    {
     "data": {
      "text/html": [
       "<div>\n",
       "<style scoped>\n",
       "    .dataframe tbody tr th:only-of-type {\n",
       "        vertical-align: middle;\n",
       "    }\n",
       "\n",
       "    .dataframe tbody tr th {\n",
       "        vertical-align: top;\n",
       "    }\n",
       "\n",
       "    .dataframe thead th {\n",
       "        text-align: right;\n",
       "    }\n",
       "</style>\n",
       "<table border=\"1\" class=\"dataframe\">\n",
       "  <thead>\n",
       "    <tr style=\"text-align: right;\">\n",
       "      <th></th>\n",
       "      <th>soft-gp-512-0.9</th>\n",
       "      <th>soft-gp-512-0.9-True</th>\n",
       "    </tr>\n",
       "  </thead>\n",
       "  <tbody>\n",
       "    <tr>\n",
       "      <th>3droad</th>\n",
       "      <td>0.574 $\\pm$ 0.002</td>\n",
       "      <td>0.773 $\\pm$ 0.003</td>\n",
       "    </tr>\n",
       "    <tr>\n",
       "      <th>Kin40k</th>\n",
       "      <td>0.196 $\\pm$ 0.005</td>\n",
       "      <td>0.288 $\\pm$ 0.008</td>\n",
       "    </tr>\n",
       "    <tr>\n",
       "      <th>Protein</th>\n",
       "      <td>0.627 $\\pm$ 0.013</td>\n",
       "      <td>0.697 $\\pm$ 0.006</td>\n",
       "    </tr>\n",
       "    <tr>\n",
       "      <th>Houseelectric</th>\n",
       "      <td>0.055 $\\pm$ 0.0</td>\n",
       "      <td>0.057 $\\pm$ 0.0</td>\n",
       "    </tr>\n",
       "    <tr>\n",
       "      <th>Bike</th>\n",
       "      <td>0.208 $\\pm$ 0.004</td>\n",
       "      <td>0.267 $\\pm$ 0.005</td>\n",
       "    </tr>\n",
       "    <tr>\n",
       "      <th>Elevators</th>\n",
       "      <td>0.397 $\\pm$ 0.012</td>\n",
       "      <td>0.403 $\\pm$ 0.008</td>\n",
       "    </tr>\n",
       "    <tr>\n",
       "      <th>Keggdirected</th>\n",
       "      <td>0.082 $\\pm$ 0.006</td>\n",
       "      <td>0.088 $\\pm$ 0.005</td>\n",
       "    </tr>\n",
       "    <tr>\n",
       "      <th>Pol</th>\n",
       "      <td>0.176 $\\pm$ 0.01</td>\n",
       "      <td>0.196 $\\pm$ 0.007</td>\n",
       "    </tr>\n",
       "    <tr>\n",
       "      <th>Keggundirected</th>\n",
       "      <td>0.115 $\\pm$ 0.004</td>\n",
       "      <td>0.119 $\\pm$ 0.004</td>\n",
       "    </tr>\n",
       "    <tr>\n",
       "      <th>Buzz</th>\n",
       "      <td>0.251 $\\pm$ 0.001</td>\n",
       "      <td>0.266 $\\pm$ 0.004</td>\n",
       "    </tr>\n",
       "    <tr>\n",
       "      <th>Song</th>\n",
       "      <td>0.798 $\\pm$ 0.004</td>\n",
       "      <td>0.802 $\\pm$ 0.004</td>\n",
       "    </tr>\n",
       "    <tr>\n",
       "      <th>Slice</th>\n",
       "      <td>0.036 $\\pm$ 0.005</td>\n",
       "      <td>0.046 $\\pm$ 0.004</td>\n",
       "    </tr>\n",
       "  </tbody>\n",
       "</table>\n",
       "</div>"
      ],
      "text/plain": [
       "                  soft-gp-512-0.9 soft-gp-512-0.9-True\n",
       "3droad          0.574 $\\pm$ 0.002    0.773 $\\pm$ 0.003\n",
       "Kin40k          0.196 $\\pm$ 0.005    0.288 $\\pm$ 0.008\n",
       "Protein         0.627 $\\pm$ 0.013    0.697 $\\pm$ 0.006\n",
       "Houseelectric     0.055 $\\pm$ 0.0      0.057 $\\pm$ 0.0\n",
       "Bike            0.208 $\\pm$ 0.004    0.267 $\\pm$ 0.005\n",
       "Elevators       0.397 $\\pm$ 0.012    0.403 $\\pm$ 0.008\n",
       "Keggdirected    0.082 $\\pm$ 0.006    0.088 $\\pm$ 0.005\n",
       "Pol              0.176 $\\pm$ 0.01    0.196 $\\pm$ 0.007\n",
       "Keggundirected  0.115 $\\pm$ 0.004    0.119 $\\pm$ 0.004\n",
       "Buzz            0.251 $\\pm$ 0.001    0.266 $\\pm$ 0.004\n",
       "Song            0.798 $\\pm$ 0.004    0.802 $\\pm$ 0.004\n",
       "Slice           0.036 $\\pm$ 0.005    0.046 $\\pm$ 0.004"
      ]
     },
     "execution_count": 8,
     "metadata": {},
     "output_type": "execute_result"
    }
   ],
   "source": [
    "def pm_var(df, model):\n",
    "    m = df[[f'{model}-6535', f'{model}-8830', f'{model}-92357']].mean(axis=1).round(3).astype(str)\n",
    "    v = df[[f'{model}-6535', f'{model}-8830', f'{model}-92357']].std(axis=1).round(3).astype(str).apply(lambda x: f\" $\\pm$ {x}\")\n",
    "    return (m + v).apply(lambda x: x.replace(\"nan $\\pm$ nan\", \"-\"))\n",
    "df_rmse = pd.DataFrame()\n",
    "df_rmse[['N', 'D']] = df[['N', 'D']]\n",
    "for model in models:\n",
    "    for num_inducing in [512]:\n",
    "        for frac in fracs:\n",
    "            df_rmse[f'{model}-{num_inducing}-{frac}'] = pm_var(df, f'{model}-{num_inducing}-{frac}')\n",
    "            df_rmse[f'{model}-{num_inducing}-{frac}-{True}'] = pm_var(df, f'{model}-{num_inducing}-{frac}-{True}')\n",
    "\n",
    "df_rmse = df_rmse.sort_values(by=['D'], ascending=[True])\n",
    "df_rmse = df_rmse.drop(columns=['D', 'N'])\n",
    "print(\"RMSE\")\n",
    "df_rmse"
   ]
  },
  {
   "cell_type": "code",
   "execution_count": 9,
   "metadata": {},
   "outputs": [
    {
     "name": "stdout",
     "output_type": "stream",
     "text": [
      "\\begin{tabular}{lll}\n",
      "\\toprule\n",
      " & soft-gp-512-0.9 & soft-gp-512-0.9-True \\\\\n",
      "\\midrule\n",
      "3droad & 0.574 $\\pm$ 0.002 & 0.773 $\\pm$ 0.003 \\\\\n",
      "Kin40k & 0.196 $\\pm$ 0.005 & 0.288 $\\pm$ 0.008 \\\\\n",
      "Protein & 0.627 $\\pm$ 0.013 & 0.697 $\\pm$ 0.006 \\\\\n",
      "Houseelectric & 0.055 $\\pm$ 0.0 & 0.057 $\\pm$ 0.0 \\\\\n",
      "Bike & 0.208 $\\pm$ 0.004 & 0.267 $\\pm$ 0.005 \\\\\n",
      "Elevators & 0.397 $\\pm$ 0.012 & 0.403 $\\pm$ 0.008 \\\\\n",
      "Keggdirected & 0.082 $\\pm$ 0.006 & 0.088 $\\pm$ 0.005 \\\\\n",
      "Pol & 0.176 $\\pm$ 0.01 & 0.196 $\\pm$ 0.007 \\\\\n",
      "Keggundirected & 0.115 $\\pm$ 0.004 & 0.119 $\\pm$ 0.004 \\\\\n",
      "Buzz & 0.251 $\\pm$ 0.001 & 0.266 $\\pm$ 0.004 \\\\\n",
      "Song & 0.798 $\\pm$ 0.004 & 0.802 $\\pm$ 0.004 \\\\\n",
      "Slice & 0.036 $\\pm$ 0.005 & 0.046 $\\pm$ 0.004 \\\\\n",
      "\\bottomrule\n",
      "\\end{tabular}\n",
      "\n"
     ]
    }
   ],
   "source": [
    "latex_table = df_rmse.to_latex(\n",
    "    index=True,\n",
    "    escape=False,\n",
    "    float_format=\"{:0.3f}\".format,\n",
    ")\n",
    "print(latex_table)"
   ]
  },
  {
   "cell_type": "code",
   "execution_count": 10,
   "metadata": {},
   "outputs": [
    {
     "data": {
      "application/vnd.jupyter.widget-view+json": {
       "model_id": "7d1c8458de1a42e48bd5d77b9ba2d81c",
       "version_major": 2,
       "version_minor": 0
      },
      "text/plain": [
       "  0%|          | 0/36 [00:00<?, ?it/s]"
      ]
     },
     "metadata": {},
     "output_type": "display_data"
    },
    {
     "name": "stdout",
     "output_type": "stream",
     "text": [
      "inducing_points_softgp_houseelectric_512_1024_0.001_6535_0:v1\n"
     ]
    },
    {
     "name": "stderr",
     "output_type": "stream",
     "text": [
      "\u001b[34m\u001b[1mwandb\u001b[0m:   1 of 1 files downloaded.  \n"
     ]
    },
    {
     "name": "stdout",
     "output_type": "stream",
     "text": [
      "K_zz_softgp_houseelectric_512_1024_0.001_6535_0:v1\n"
     ]
    },
    {
     "name": "stderr",
     "output_type": "stream",
     "text": [
      "\u001b[34m\u001b[1mwandb\u001b[0m:   1 of 1 files downloaded.  \n"
     ]
    },
    {
     "name": "stdout",
     "output_type": "stream",
     "text": [
      "inducing_points_softgp_houseelectric_512_1024_0.001_6535_10:v1\n"
     ]
    },
    {
     "name": "stderr",
     "output_type": "stream",
     "text": [
      "\u001b[34m\u001b[1mwandb\u001b[0m:   1 of 1 files downloaded.  \n"
     ]
    },
    {
     "name": "stdout",
     "output_type": "stream",
     "text": [
      "K_zz_softgp_houseelectric_512_1024_0.001_6535_10:v1\n"
     ]
    },
    {
     "name": "stderr",
     "output_type": "stream",
     "text": [
      "\u001b[34m\u001b[1mwandb\u001b[0m:   1 of 1 files downloaded.  \n"
     ]
    },
    {
     "name": "stdout",
     "output_type": "stream",
     "text": [
      "inducing_points_softgp_houseelectric_512_1024_0.001_6535_20:v1\n"
     ]
    },
    {
     "name": "stderr",
     "output_type": "stream",
     "text": [
      "\u001b[34m\u001b[1mwandb\u001b[0m:   1 of 1 files downloaded.  \n"
     ]
    },
    {
     "name": "stdout",
     "output_type": "stream",
     "text": [
      "K_zz_softgp_houseelectric_512_1024_0.001_6535_20:v1\n"
     ]
    },
    {
     "name": "stderr",
     "output_type": "stream",
     "text": [
      "\u001b[34m\u001b[1mwandb\u001b[0m:   1 of 1 files downloaded.  \n"
     ]
    },
    {
     "name": "stdout",
     "output_type": "stream",
     "text": [
      "inducing_points_softgp_houseelectric_512_1024_0.001_6535_30:v1\n"
     ]
    },
    {
     "name": "stderr",
     "output_type": "stream",
     "text": [
      "\u001b[34m\u001b[1mwandb\u001b[0m:   1 of 1 files downloaded.  \n"
     ]
    },
    {
     "name": "stdout",
     "output_type": "stream",
     "text": [
      "K_zz_softgp_houseelectric_512_1024_0.001_6535_30:v1\n"
     ]
    },
    {
     "name": "stderr",
     "output_type": "stream",
     "text": [
      "\u001b[34m\u001b[1mwandb\u001b[0m:   1 of 1 files downloaded.  \n"
     ]
    },
    {
     "name": "stdout",
     "output_type": "stream",
     "text": [
      "inducing_points_softgp_houseelectric_512_1024_0.001_6535_40:v1\n"
     ]
    },
    {
     "name": "stderr",
     "output_type": "stream",
     "text": [
      "\u001b[34m\u001b[1mwandb\u001b[0m:   1 of 1 files downloaded.  \n"
     ]
    },
    {
     "name": "stdout",
     "output_type": "stream",
     "text": [
      "K_zz_softgp_houseelectric_512_1024_0.001_6535_40:v1\n"
     ]
    },
    {
     "name": "stderr",
     "output_type": "stream",
     "text": [
      "\u001b[34m\u001b[1mwandb\u001b[0m:   1 of 1 files downloaded.  \n"
     ]
    },
    {
     "name": "stdout",
     "output_type": "stream",
     "text": [
      "inducing_points_softgp_houseelectric_512_1024_0.001_6535_49:v1\n"
     ]
    },
    {
     "name": "stderr",
     "output_type": "stream",
     "text": [
      "\u001b[34m\u001b[1mwandb\u001b[0m:   1 of 1 files downloaded.  \n"
     ]
    },
    {
     "name": "stdout",
     "output_type": "stream",
     "text": [
      "K_zz_softgp_houseelectric_512_1024_0.001_6535_49:v1\n"
     ]
    },
    {
     "name": "stderr",
     "output_type": "stream",
     "text": [
      "\u001b[34m\u001b[1mwandb\u001b[0m:   1 of 1 files downloaded.  \n"
     ]
    },
    {
     "name": "stdout",
     "output_type": "stream",
     "text": [
      "run-4g9jam9n-history:v0\n"
     ]
    },
    {
     "name": "stderr",
     "output_type": "stream",
     "text": [
      "\u001b[34m\u001b[1mwandb\u001b[0m:   1 of 1 files downloaded.  \n"
     ]
    },
    {
     "name": "stdout",
     "output_type": "stream",
     "text": [
      "inducing_points_softgp_buzz_512_1024_0.001_6535_0:v2\n"
     ]
    },
    {
     "name": "stderr",
     "output_type": "stream",
     "text": [
      "\u001b[34m\u001b[1mwandb\u001b[0m:   1 of 1 files downloaded.  \n"
     ]
    },
    {
     "name": "stdout",
     "output_type": "stream",
     "text": [
      "K_zz_softgp_buzz_512_1024_0.001_6535_0:v2\n"
     ]
    },
    {
     "name": "stderr",
     "output_type": "stream",
     "text": [
      "\u001b[34m\u001b[1mwandb\u001b[0m:   1 of 1 files downloaded.  \n"
     ]
    },
    {
     "name": "stdout",
     "output_type": "stream",
     "text": [
      "inducing_points_softgp_buzz_512_1024_0.001_6535_10:v2\n"
     ]
    },
    {
     "name": "stderr",
     "output_type": "stream",
     "text": [
      "\u001b[34m\u001b[1mwandb\u001b[0m:   1 of 1 files downloaded.  \n"
     ]
    },
    {
     "name": "stdout",
     "output_type": "stream",
     "text": [
      "K_zz_softgp_buzz_512_1024_0.001_6535_10:v2\n"
     ]
    },
    {
     "name": "stderr",
     "output_type": "stream",
     "text": [
      "\u001b[34m\u001b[1mwandb\u001b[0m:   1 of 1 files downloaded.  \n"
     ]
    },
    {
     "name": "stdout",
     "output_type": "stream",
     "text": [
      "inducing_points_softgp_buzz_512_1024_0.001_6535_20:v2\n"
     ]
    },
    {
     "name": "stderr",
     "output_type": "stream",
     "text": [
      "\u001b[34m\u001b[1mwandb\u001b[0m:   1 of 1 files downloaded.  \n"
     ]
    },
    {
     "name": "stdout",
     "output_type": "stream",
     "text": [
      "K_zz_softgp_buzz_512_1024_0.001_6535_20:v2\n"
     ]
    },
    {
     "name": "stderr",
     "output_type": "stream",
     "text": [
      "\u001b[34m\u001b[1mwandb\u001b[0m:   1 of 1 files downloaded.  \n"
     ]
    },
    {
     "name": "stdout",
     "output_type": "stream",
     "text": [
      "inducing_points_softgp_buzz_512_1024_0.001_6535_30:v2\n"
     ]
    },
    {
     "name": "stderr",
     "output_type": "stream",
     "text": [
      "\u001b[34m\u001b[1mwandb\u001b[0m:   1 of 1 files downloaded.  \n"
     ]
    },
    {
     "name": "stdout",
     "output_type": "stream",
     "text": [
      "K_zz_softgp_buzz_512_1024_0.001_6535_30:v2\n"
     ]
    },
    {
     "name": "stderr",
     "output_type": "stream",
     "text": [
      "\u001b[34m\u001b[1mwandb\u001b[0m:   1 of 1 files downloaded.  \n"
     ]
    },
    {
     "name": "stdout",
     "output_type": "stream",
     "text": [
      "inducing_points_softgp_buzz_512_1024_0.001_6535_40:v1\n"
     ]
    },
    {
     "name": "stderr",
     "output_type": "stream",
     "text": [
      "\u001b[34m\u001b[1mwandb\u001b[0m:   1 of 1 files downloaded.  \n"
     ]
    },
    {
     "name": "stdout",
     "output_type": "stream",
     "text": [
      "K_zz_softgp_buzz_512_1024_0.001_6535_40:v1\n"
     ]
    },
    {
     "name": "stderr",
     "output_type": "stream",
     "text": [
      "\u001b[34m\u001b[1mwandb\u001b[0m:   1 of 1 files downloaded.  \n"
     ]
    },
    {
     "name": "stdout",
     "output_type": "stream",
     "text": [
      "inducing_points_softgp_buzz_512_1024_0.001_6535_49:v1\n"
     ]
    },
    {
     "name": "stderr",
     "output_type": "stream",
     "text": [
      "\u001b[34m\u001b[1mwandb\u001b[0m:   1 of 1 files downloaded.  \n"
     ]
    },
    {
     "name": "stdout",
     "output_type": "stream",
     "text": [
      "K_zz_softgp_buzz_512_1024_0.001_6535_49:v1\n"
     ]
    },
    {
     "name": "stderr",
     "output_type": "stream",
     "text": [
      "\u001b[34m\u001b[1mwandb\u001b[0m:   1 of 1 files downloaded.  \n"
     ]
    },
    {
     "name": "stdout",
     "output_type": "stream",
     "text": [
      "inducing_points_softgp_song_512_1024_0.001_6535_0:v3\n"
     ]
    },
    {
     "name": "stderr",
     "output_type": "stream",
     "text": [
      "\u001b[34m\u001b[1mwandb\u001b[0m:   1 of 1 files downloaded.  \n"
     ]
    },
    {
     "name": "stdout",
     "output_type": "stream",
     "text": [
      "K_zz_softgp_song_512_1024_0.001_6535_0:v3\n"
     ]
    },
    {
     "name": "stderr",
     "output_type": "stream",
     "text": [
      "\u001b[34m\u001b[1mwandb\u001b[0m:   1 of 1 files downloaded.  \n"
     ]
    },
    {
     "name": "stdout",
     "output_type": "stream",
     "text": [
      "inducing_points_softgp_song_512_1024_0.001_6535_10:v3\n"
     ]
    },
    {
     "name": "stderr",
     "output_type": "stream",
     "text": [
      "\u001b[34m\u001b[1mwandb\u001b[0m:   1 of 1 files downloaded.  \n"
     ]
    },
    {
     "name": "stdout",
     "output_type": "stream",
     "text": [
      "K_zz_softgp_song_512_1024_0.001_6535_10:v3\n"
     ]
    },
    {
     "name": "stderr",
     "output_type": "stream",
     "text": [
      "\u001b[34m\u001b[1mwandb\u001b[0m:   1 of 1 files downloaded.  \n"
     ]
    },
    {
     "name": "stdout",
     "output_type": "stream",
     "text": [
      "inducing_points_softgp_song_512_1024_0.001_6535_20:v3\n"
     ]
    },
    {
     "name": "stderr",
     "output_type": "stream",
     "text": [
      "\u001b[34m\u001b[1mwandb\u001b[0m:   1 of 1 files downloaded.  \n"
     ]
    },
    {
     "name": "stdout",
     "output_type": "stream",
     "text": [
      "K_zz_softgp_song_512_1024_0.001_6535_20:v3\n"
     ]
    },
    {
     "name": "stderr",
     "output_type": "stream",
     "text": [
      "\u001b[34m\u001b[1mwandb\u001b[0m:   1 of 1 files downloaded.  \n"
     ]
    },
    {
     "name": "stdout",
     "output_type": "stream",
     "text": [
      "inducing_points_softgp_song_512_1024_0.001_6535_30:v3\n"
     ]
    },
    {
     "name": "stderr",
     "output_type": "stream",
     "text": [
      "\u001b[34m\u001b[1mwandb\u001b[0m:   1 of 1 files downloaded.  \n"
     ]
    },
    {
     "name": "stdout",
     "output_type": "stream",
     "text": [
      "K_zz_softgp_song_512_1024_0.001_6535_30:v3\n"
     ]
    },
    {
     "name": "stderr",
     "output_type": "stream",
     "text": [
      "\u001b[34m\u001b[1mwandb\u001b[0m:   1 of 1 files downloaded.  \n"
     ]
    },
    {
     "name": "stdout",
     "output_type": "stream",
     "text": [
      "inducing_points_softgp_song_512_1024_0.001_6535_40:v3\n"
     ]
    },
    {
     "name": "stderr",
     "output_type": "stream",
     "text": [
      "\u001b[34m\u001b[1mwandb\u001b[0m:   1 of 1 files downloaded.  \n"
     ]
    },
    {
     "name": "stdout",
     "output_type": "stream",
     "text": [
      "K_zz_softgp_song_512_1024_0.001_6535_40:v3\n"
     ]
    },
    {
     "name": "stderr",
     "output_type": "stream",
     "text": [
      "\u001b[34m\u001b[1mwandb\u001b[0m:   1 of 1 files downloaded.  \n"
     ]
    },
    {
     "name": "stdout",
     "output_type": "stream",
     "text": [
      "inducing_points_softgp_song_512_1024_0.001_6535_49:v3\n"
     ]
    },
    {
     "name": "stderr",
     "output_type": "stream",
     "text": [
      "\u001b[34m\u001b[1mwandb\u001b[0m:   1 of 1 files downloaded.  \n"
     ]
    },
    {
     "name": "stdout",
     "output_type": "stream",
     "text": [
      "K_zz_softgp_song_512_1024_0.001_6535_49:v3\n"
     ]
    },
    {
     "name": "stderr",
     "output_type": "stream",
     "text": [
      "\u001b[34m\u001b[1mwandb\u001b[0m:   1 of 1 files downloaded.  \n"
     ]
    },
    {
     "name": "stdout",
     "output_type": "stream",
     "text": [
      "run-uivxekut-history:v0\n"
     ]
    },
    {
     "name": "stderr",
     "output_type": "stream",
     "text": [
      "\u001b[34m\u001b[1mwandb\u001b[0m:   1 of 1 files downloaded.  \n"
     ]
    },
    {
     "name": "stdout",
     "output_type": "stream",
     "text": [
      "inducing_points_softgp_3droad_512_1024_0.001_6535_0:v3\n"
     ]
    },
    {
     "name": "stderr",
     "output_type": "stream",
     "text": [
      "\u001b[34m\u001b[1mwandb\u001b[0m:   1 of 1 files downloaded.  \n"
     ]
    },
    {
     "name": "stdout",
     "output_type": "stream",
     "text": [
      "K_zz_softgp_3droad_512_1024_0.001_6535_0:v3\n"
     ]
    },
    {
     "name": "stderr",
     "output_type": "stream",
     "text": [
      "\u001b[34m\u001b[1mwandb\u001b[0m:   1 of 1 files downloaded.  \n"
     ]
    },
    {
     "name": "stdout",
     "output_type": "stream",
     "text": [
      "inducing_points_softgp_3droad_512_1024_0.001_6535_10:v3\n"
     ]
    },
    {
     "name": "stderr",
     "output_type": "stream",
     "text": [
      "\u001b[34m\u001b[1mwandb\u001b[0m:   1 of 1 files downloaded.  \n"
     ]
    },
    {
     "name": "stdout",
     "output_type": "stream",
     "text": [
      "K_zz_softgp_3droad_512_1024_0.001_6535_10:v3\n"
     ]
    },
    {
     "name": "stderr",
     "output_type": "stream",
     "text": [
      "\u001b[34m\u001b[1mwandb\u001b[0m:   1 of 1 files downloaded.  \n"
     ]
    },
    {
     "name": "stdout",
     "output_type": "stream",
     "text": [
      "inducing_points_softgp_3droad_512_1024_0.001_6535_20:v3\n"
     ]
    },
    {
     "name": "stderr",
     "output_type": "stream",
     "text": [
      "\u001b[34m\u001b[1mwandb\u001b[0m:   1 of 1 files downloaded.  \n"
     ]
    },
    {
     "name": "stdout",
     "output_type": "stream",
     "text": [
      "K_zz_softgp_3droad_512_1024_0.001_6535_20:v3\n"
     ]
    },
    {
     "name": "stderr",
     "output_type": "stream",
     "text": [
      "\u001b[34m\u001b[1mwandb\u001b[0m:   1 of 1 files downloaded.  \n"
     ]
    },
    {
     "name": "stdout",
     "output_type": "stream",
     "text": [
      "inducing_points_softgp_3droad_512_1024_0.001_6535_30:v2\n"
     ]
    },
    {
     "name": "stderr",
     "output_type": "stream",
     "text": [
      "\u001b[34m\u001b[1mwandb\u001b[0m:   1 of 1 files downloaded.  \n"
     ]
    },
    {
     "name": "stdout",
     "output_type": "stream",
     "text": [
      "K_zz_softgp_3droad_512_1024_0.001_6535_30:v2\n"
     ]
    },
    {
     "name": "stderr",
     "output_type": "stream",
     "text": [
      "\u001b[34m\u001b[1mwandb\u001b[0m:   1 of 1 files downloaded.  \n"
     ]
    },
    {
     "name": "stdout",
     "output_type": "stream",
     "text": [
      "inducing_points_softgp_3droad_512_1024_0.001_6535_40:v2\n"
     ]
    },
    {
     "name": "stderr",
     "output_type": "stream",
     "text": [
      "\u001b[34m\u001b[1mwandb\u001b[0m:   1 of 1 files downloaded.  \n"
     ]
    },
    {
     "name": "stdout",
     "output_type": "stream",
     "text": [
      "K_zz_softgp_3droad_512_1024_0.001_6535_40:v2\n"
     ]
    },
    {
     "name": "stderr",
     "output_type": "stream",
     "text": [
      "\u001b[34m\u001b[1mwandb\u001b[0m:   1 of 1 files downloaded.  \n"
     ]
    },
    {
     "name": "stdout",
     "output_type": "stream",
     "text": [
      "inducing_points_softgp_3droad_512_1024_0.001_6535_49:v2\n"
     ]
    },
    {
     "name": "stderr",
     "output_type": "stream",
     "text": [
      "\u001b[34m\u001b[1mwandb\u001b[0m:   1 of 1 files downloaded.  \n"
     ]
    },
    {
     "name": "stdout",
     "output_type": "stream",
     "text": [
      "K_zz_softgp_3droad_512_1024_0.001_6535_49:v2\n"
     ]
    },
    {
     "name": "stderr",
     "output_type": "stream",
     "text": [
      "\u001b[34m\u001b[1mwandb\u001b[0m:   1 of 1 files downloaded.  \n"
     ]
    },
    {
     "name": "stdout",
     "output_type": "stream",
     "text": [
      "run-youbbbpv-history:v0\n"
     ]
    },
    {
     "name": "stderr",
     "output_type": "stream",
     "text": [
      "\u001b[34m\u001b[1mwandb\u001b[0m:   1 of 1 files downloaded.  \n"
     ]
    },
    {
     "name": "stdout",
     "output_type": "stream",
     "text": [
      "inducing_points_softgp_keggundirected_512_1024_0.001_6535_0:v3\n"
     ]
    },
    {
     "name": "stderr",
     "output_type": "stream",
     "text": [
      "\u001b[34m\u001b[1mwandb\u001b[0m:   1 of 1 files downloaded.  \n"
     ]
    },
    {
     "name": "stdout",
     "output_type": "stream",
     "text": [
      "K_zz_softgp_keggundirected_512_1024_0.001_6535_0:v3\n"
     ]
    },
    {
     "name": "stderr",
     "output_type": "stream",
     "text": [
      "\u001b[34m\u001b[1mwandb\u001b[0m:   1 of 1 files downloaded.  \n"
     ]
    },
    {
     "name": "stdout",
     "output_type": "stream",
     "text": [
      "inducing_points_softgp_keggundirected_512_1024_0.001_6535_10:v3\n"
     ]
    },
    {
     "name": "stderr",
     "output_type": "stream",
     "text": [
      "\u001b[34m\u001b[1mwandb\u001b[0m:   1 of 1 files downloaded.  \n"
     ]
    },
    {
     "name": "stdout",
     "output_type": "stream",
     "text": [
      "K_zz_softgp_keggundirected_512_1024_0.001_6535_10:v3\n"
     ]
    },
    {
     "name": "stderr",
     "output_type": "stream",
     "text": [
      "\u001b[34m\u001b[1mwandb\u001b[0m:   1 of 1 files downloaded.  \n"
     ]
    },
    {
     "name": "stdout",
     "output_type": "stream",
     "text": [
      "inducing_points_softgp_keggundirected_512_1024_0.001_6535_20:v3\n"
     ]
    },
    {
     "name": "stderr",
     "output_type": "stream",
     "text": [
      "\u001b[34m\u001b[1mwandb\u001b[0m:   1 of 1 files downloaded.  \n"
     ]
    },
    {
     "name": "stdout",
     "output_type": "stream",
     "text": [
      "K_zz_softgp_keggundirected_512_1024_0.001_6535_20:v3\n"
     ]
    },
    {
     "name": "stderr",
     "output_type": "stream",
     "text": [
      "\u001b[34m\u001b[1mwandb\u001b[0m:   1 of 1 files downloaded.  \n"
     ]
    },
    {
     "name": "stdout",
     "output_type": "stream",
     "text": [
      "inducing_points_softgp_keggundirected_512_1024_0.001_6535_30:v3\n"
     ]
    },
    {
     "name": "stderr",
     "output_type": "stream",
     "text": [
      "\u001b[34m\u001b[1mwandb\u001b[0m:   1 of 1 files downloaded.  \n"
     ]
    },
    {
     "name": "stdout",
     "output_type": "stream",
     "text": [
      "K_zz_softgp_keggundirected_512_1024_0.001_6535_30:v3\n"
     ]
    },
    {
     "name": "stderr",
     "output_type": "stream",
     "text": [
      "\u001b[34m\u001b[1mwandb\u001b[0m:   1 of 1 files downloaded.  \n"
     ]
    },
    {
     "name": "stdout",
     "output_type": "stream",
     "text": [
      "inducing_points_softgp_keggundirected_512_1024_0.001_6535_40:v3\n"
     ]
    },
    {
     "name": "stderr",
     "output_type": "stream",
     "text": [
      "\u001b[34m\u001b[1mwandb\u001b[0m:   1 of 1 files downloaded.  \n"
     ]
    },
    {
     "name": "stdout",
     "output_type": "stream",
     "text": [
      "K_zz_softgp_keggundirected_512_1024_0.001_6535_40:v3\n"
     ]
    },
    {
     "name": "stderr",
     "output_type": "stream",
     "text": [
      "\u001b[34m\u001b[1mwandb\u001b[0m:   1 of 1 files downloaded.  \n"
     ]
    },
    {
     "name": "stdout",
     "output_type": "stream",
     "text": [
      "inducing_points_softgp_keggundirected_512_1024_0.001_6535_49:v3\n"
     ]
    },
    {
     "name": "stderr",
     "output_type": "stream",
     "text": [
      "\u001b[34m\u001b[1mwandb\u001b[0m:   1 of 1 files downloaded.  \n"
     ]
    },
    {
     "name": "stdout",
     "output_type": "stream",
     "text": [
      "K_zz_softgp_keggundirected_512_1024_0.001_6535_49:v3\n"
     ]
    },
    {
     "name": "stderr",
     "output_type": "stream",
     "text": [
      "\u001b[34m\u001b[1mwandb\u001b[0m:   1 of 1 files downloaded.  \n"
     ]
    },
    {
     "name": "stdout",
     "output_type": "stream",
     "text": [
      "run-knsow7u0-history:v0\n"
     ]
    },
    {
     "name": "stderr",
     "output_type": "stream",
     "text": [
      "\u001b[34m\u001b[1mwandb\u001b[0m:   1 of 1 files downloaded.  \n"
     ]
    },
    {
     "name": "stdout",
     "output_type": "stream",
     "text": [
      "inducing_points_softgp_slice_512_1024_0.001_6535_0:v3\n"
     ]
    },
    {
     "name": "stderr",
     "output_type": "stream",
     "text": [
      "\u001b[34m\u001b[1mwandb\u001b[0m:   1 of 1 files downloaded.  \n"
     ]
    },
    {
     "name": "stdout",
     "output_type": "stream",
     "text": [
      "K_zz_softgp_slice_512_1024_0.001_6535_0:v3\n"
     ]
    },
    {
     "name": "stderr",
     "output_type": "stream",
     "text": [
      "\u001b[34m\u001b[1mwandb\u001b[0m:   1 of 1 files downloaded.  \n"
     ]
    },
    {
     "name": "stdout",
     "output_type": "stream",
     "text": [
      "inducing_points_softgp_slice_512_1024_0.001_6535_10:v3\n"
     ]
    },
    {
     "name": "stderr",
     "output_type": "stream",
     "text": [
      "\u001b[34m\u001b[1mwandb\u001b[0m:   1 of 1 files downloaded.  \n"
     ]
    },
    {
     "name": "stdout",
     "output_type": "stream",
     "text": [
      "K_zz_softgp_slice_512_1024_0.001_6535_10:v3\n"
     ]
    },
    {
     "name": "stderr",
     "output_type": "stream",
     "text": [
      "\u001b[34m\u001b[1mwandb\u001b[0m:   1 of 1 files downloaded.  \n"
     ]
    },
    {
     "name": "stdout",
     "output_type": "stream",
     "text": [
      "inducing_points_softgp_slice_512_1024_0.001_6535_20:v3\n"
     ]
    },
    {
     "name": "stderr",
     "output_type": "stream",
     "text": [
      "\u001b[34m\u001b[1mwandb\u001b[0m:   1 of 1 files downloaded.  \n"
     ]
    },
    {
     "name": "stdout",
     "output_type": "stream",
     "text": [
      "K_zz_softgp_slice_512_1024_0.001_6535_20:v3\n"
     ]
    },
    {
     "name": "stderr",
     "output_type": "stream",
     "text": [
      "\u001b[34m\u001b[1mwandb\u001b[0m:   1 of 1 files downloaded.  \n"
     ]
    },
    {
     "name": "stdout",
     "output_type": "stream",
     "text": [
      "inducing_points_softgp_slice_512_1024_0.001_6535_30:v3\n"
     ]
    },
    {
     "name": "stderr",
     "output_type": "stream",
     "text": [
      "\u001b[34m\u001b[1mwandb\u001b[0m:   1 of 1 files downloaded.  \n"
     ]
    },
    {
     "name": "stdout",
     "output_type": "stream",
     "text": [
      "K_zz_softgp_slice_512_1024_0.001_6535_30:v3\n"
     ]
    },
    {
     "name": "stderr",
     "output_type": "stream",
     "text": [
      "\u001b[34m\u001b[1mwandb\u001b[0m:   1 of 1 files downloaded.  \n"
     ]
    },
    {
     "name": "stdout",
     "output_type": "stream",
     "text": [
      "inducing_points_softgp_slice_512_1024_0.001_6535_40:v3\n"
     ]
    },
    {
     "name": "stderr",
     "output_type": "stream",
     "text": [
      "\u001b[34m\u001b[1mwandb\u001b[0m:   1 of 1 files downloaded.  \n"
     ]
    },
    {
     "name": "stdout",
     "output_type": "stream",
     "text": [
      "K_zz_softgp_slice_512_1024_0.001_6535_40:v3\n"
     ]
    },
    {
     "name": "stderr",
     "output_type": "stream",
     "text": [
      "\u001b[34m\u001b[1mwandb\u001b[0m:   1 of 1 files downloaded.  \n"
     ]
    },
    {
     "name": "stdout",
     "output_type": "stream",
     "text": [
      "inducing_points_softgp_slice_512_1024_0.001_6535_49:v3\n"
     ]
    },
    {
     "name": "stderr",
     "output_type": "stream",
     "text": [
      "\u001b[34m\u001b[1mwandb\u001b[0m:   1 of 1 files downloaded.  \n"
     ]
    },
    {
     "name": "stdout",
     "output_type": "stream",
     "text": [
      "K_zz_softgp_slice_512_1024_0.001_6535_49:v3\n"
     ]
    },
    {
     "name": "stderr",
     "output_type": "stream",
     "text": [
      "\u001b[34m\u001b[1mwandb\u001b[0m:   1 of 1 files downloaded.  \n"
     ]
    },
    {
     "name": "stdout",
     "output_type": "stream",
     "text": [
      "run-rrcuh2nj-history:v0\n"
     ]
    },
    {
     "name": "stderr",
     "output_type": "stream",
     "text": [
      "\u001b[34m\u001b[1mwandb\u001b[0m:   1 of 1 files downloaded.  \n"
     ]
    },
    {
     "name": "stdout",
     "output_type": "stream",
     "text": [
      "inducing_points_softgp_keggdirected_512_1024_0.001_6535_0:v3\n"
     ]
    },
    {
     "name": "stderr",
     "output_type": "stream",
     "text": [
      "\u001b[34m\u001b[1mwandb\u001b[0m:   1 of 1 files downloaded.  \n"
     ]
    },
    {
     "name": "stdout",
     "output_type": "stream",
     "text": [
      "K_zz_softgp_keggdirected_512_1024_0.001_6535_0:v3\n"
     ]
    },
    {
     "name": "stderr",
     "output_type": "stream",
     "text": [
      "\u001b[34m\u001b[1mwandb\u001b[0m:   1 of 1 files downloaded.  \n"
     ]
    },
    {
     "name": "stdout",
     "output_type": "stream",
     "text": [
      "inducing_points_softgp_keggdirected_512_1024_0.001_6535_10:v3\n"
     ]
    },
    {
     "name": "stderr",
     "output_type": "stream",
     "text": [
      "\u001b[34m\u001b[1mwandb\u001b[0m:   1 of 1 files downloaded.  \n"
     ]
    },
    {
     "name": "stdout",
     "output_type": "stream",
     "text": [
      "K_zz_softgp_keggdirected_512_1024_0.001_6535_10:v3\n"
     ]
    },
    {
     "name": "stderr",
     "output_type": "stream",
     "text": [
      "\u001b[34m\u001b[1mwandb\u001b[0m:   1 of 1 files downloaded.  \n"
     ]
    },
    {
     "name": "stdout",
     "output_type": "stream",
     "text": [
      "inducing_points_softgp_keggdirected_512_1024_0.001_6535_20:v3\n"
     ]
    },
    {
     "name": "stderr",
     "output_type": "stream",
     "text": [
      "\u001b[34m\u001b[1mwandb\u001b[0m:   1 of 1 files downloaded.  \n"
     ]
    },
    {
     "name": "stdout",
     "output_type": "stream",
     "text": [
      "K_zz_softgp_keggdirected_512_1024_0.001_6535_20:v3\n"
     ]
    },
    {
     "name": "stderr",
     "output_type": "stream",
     "text": [
      "\u001b[34m\u001b[1mwandb\u001b[0m:   1 of 1 files downloaded.  \n"
     ]
    },
    {
     "name": "stdout",
     "output_type": "stream",
     "text": [
      "inducing_points_softgp_keggdirected_512_1024_0.001_6535_30:v3\n"
     ]
    },
    {
     "name": "stderr",
     "output_type": "stream",
     "text": [
      "\u001b[34m\u001b[1mwandb\u001b[0m:   1 of 1 files downloaded.  \n"
     ]
    },
    {
     "name": "stdout",
     "output_type": "stream",
     "text": [
      "K_zz_softgp_keggdirected_512_1024_0.001_6535_30:v3\n"
     ]
    },
    {
     "name": "stderr",
     "output_type": "stream",
     "text": [
      "\u001b[34m\u001b[1mwandb\u001b[0m:   1 of 1 files downloaded.  \n"
     ]
    },
    {
     "name": "stdout",
     "output_type": "stream",
     "text": [
      "inducing_points_softgp_keggdirected_512_1024_0.001_6535_40:v3\n"
     ]
    },
    {
     "name": "stderr",
     "output_type": "stream",
     "text": [
      "\u001b[34m\u001b[1mwandb\u001b[0m:   1 of 1 files downloaded.  \n"
     ]
    },
    {
     "name": "stdout",
     "output_type": "stream",
     "text": [
      "K_zz_softgp_keggdirected_512_1024_0.001_6535_40:v3\n"
     ]
    },
    {
     "name": "stderr",
     "output_type": "stream",
     "text": [
      "\u001b[34m\u001b[1mwandb\u001b[0m:   1 of 1 files downloaded.  \n"
     ]
    },
    {
     "name": "stdout",
     "output_type": "stream",
     "text": [
      "inducing_points_softgp_keggdirected_512_1024_0.001_6535_49:v3\n"
     ]
    },
    {
     "name": "stderr",
     "output_type": "stream",
     "text": [
      "\u001b[34m\u001b[1mwandb\u001b[0m:   1 of 1 files downloaded.  \n"
     ]
    },
    {
     "name": "stdout",
     "output_type": "stream",
     "text": [
      "K_zz_softgp_keggdirected_512_1024_0.001_6535_49:v3\n"
     ]
    },
    {
     "name": "stderr",
     "output_type": "stream",
     "text": [
      "\u001b[34m\u001b[1mwandb\u001b[0m:   1 of 1 files downloaded.  \n"
     ]
    },
    {
     "name": "stdout",
     "output_type": "stream",
     "text": [
      "run-k1nuq85o-history:v0\n"
     ]
    },
    {
     "name": "stderr",
     "output_type": "stream",
     "text": [
      "\u001b[34m\u001b[1mwandb\u001b[0m:   1 of 1 files downloaded.  \n"
     ]
    },
    {
     "name": "stdout",
     "output_type": "stream",
     "text": [
      "inducing_points_softgp_protein_512_1024_0.001_6535_0:v3\n"
     ]
    },
    {
     "name": "stderr",
     "output_type": "stream",
     "text": [
      "\u001b[34m\u001b[1mwandb\u001b[0m:   1 of 1 files downloaded.  \n"
     ]
    },
    {
     "name": "stdout",
     "output_type": "stream",
     "text": [
      "K_zz_softgp_protein_512_1024_0.001_6535_0:v3\n"
     ]
    },
    {
     "name": "stderr",
     "output_type": "stream",
     "text": [
      "\u001b[34m\u001b[1mwandb\u001b[0m:   1 of 1 files downloaded.  \n"
     ]
    },
    {
     "name": "stdout",
     "output_type": "stream",
     "text": [
      "inducing_points_softgp_protein_512_1024_0.001_6535_10:v3\n"
     ]
    },
    {
     "name": "stderr",
     "output_type": "stream",
     "text": [
      "\u001b[34m\u001b[1mwandb\u001b[0m:   1 of 1 files downloaded.  \n"
     ]
    },
    {
     "name": "stdout",
     "output_type": "stream",
     "text": [
      "K_zz_softgp_protein_512_1024_0.001_6535_10:v3\n"
     ]
    },
    {
     "name": "stderr",
     "output_type": "stream",
     "text": [
      "\u001b[34m\u001b[1mwandb\u001b[0m:   1 of 1 files downloaded.  \n"
     ]
    },
    {
     "name": "stdout",
     "output_type": "stream",
     "text": [
      "inducing_points_softgp_protein_512_1024_0.001_6535_20:v3\n"
     ]
    },
    {
     "name": "stderr",
     "output_type": "stream",
     "text": [
      "\u001b[34m\u001b[1mwandb\u001b[0m:   1 of 1 files downloaded.  \n"
     ]
    },
    {
     "name": "stdout",
     "output_type": "stream",
     "text": [
      "K_zz_softgp_protein_512_1024_0.001_6535_20:v3\n"
     ]
    },
    {
     "name": "stderr",
     "output_type": "stream",
     "text": [
      "\u001b[34m\u001b[1mwandb\u001b[0m:   1 of 1 files downloaded.  \n"
     ]
    },
    {
     "name": "stdout",
     "output_type": "stream",
     "text": [
      "inducing_points_softgp_protein_512_1024_0.001_6535_30:v3\n"
     ]
    },
    {
     "name": "stderr",
     "output_type": "stream",
     "text": [
      "\u001b[34m\u001b[1mwandb\u001b[0m:   1 of 1 files downloaded.  \n"
     ]
    },
    {
     "name": "stdout",
     "output_type": "stream",
     "text": [
      "K_zz_softgp_protein_512_1024_0.001_6535_30:v3\n"
     ]
    },
    {
     "name": "stderr",
     "output_type": "stream",
     "text": [
      "\u001b[34m\u001b[1mwandb\u001b[0m:   1 of 1 files downloaded.  \n"
     ]
    },
    {
     "name": "stdout",
     "output_type": "stream",
     "text": [
      "inducing_points_softgp_protein_512_1024_0.001_6535_40:v3\n"
     ]
    },
    {
     "name": "stderr",
     "output_type": "stream",
     "text": [
      "\u001b[34m\u001b[1mwandb\u001b[0m:   1 of 1 files downloaded.  \n"
     ]
    },
    {
     "name": "stdout",
     "output_type": "stream",
     "text": [
      "K_zz_softgp_protein_512_1024_0.001_6535_40:v3\n"
     ]
    },
    {
     "name": "stderr",
     "output_type": "stream",
     "text": [
      "\u001b[34m\u001b[1mwandb\u001b[0m:   1 of 1 files downloaded.  \n"
     ]
    },
    {
     "name": "stdout",
     "output_type": "stream",
     "text": [
      "inducing_points_softgp_protein_512_1024_0.001_6535_49:v3\n"
     ]
    },
    {
     "name": "stderr",
     "output_type": "stream",
     "text": [
      "\u001b[34m\u001b[1mwandb\u001b[0m:   1 of 1 files downloaded.  \n"
     ]
    },
    {
     "name": "stdout",
     "output_type": "stream",
     "text": [
      "K_zz_softgp_protein_512_1024_0.001_6535_49:v3\n"
     ]
    },
    {
     "name": "stderr",
     "output_type": "stream",
     "text": [
      "\u001b[34m\u001b[1mwandb\u001b[0m:   1 of 1 files downloaded.  \n"
     ]
    },
    {
     "name": "stdout",
     "output_type": "stream",
     "text": [
      "run-4dmagae1-history:v0\n"
     ]
    },
    {
     "name": "stderr",
     "output_type": "stream",
     "text": [
      "\u001b[34m\u001b[1mwandb\u001b[0m:   1 of 1 files downloaded.  \n"
     ]
    },
    {
     "name": "stdout",
     "output_type": "stream",
     "text": [
      "inducing_points_softgp_kin40k_512_1024_0.001_6535_0:v3\n"
     ]
    },
    {
     "name": "stderr",
     "output_type": "stream",
     "text": [
      "\u001b[34m\u001b[1mwandb\u001b[0m:   1 of 1 files downloaded.  \n"
     ]
    },
    {
     "name": "stdout",
     "output_type": "stream",
     "text": [
      "K_zz_softgp_kin40k_512_1024_0.001_6535_0:v3\n"
     ]
    },
    {
     "name": "stderr",
     "output_type": "stream",
     "text": [
      "\u001b[34m\u001b[1mwandb\u001b[0m:   1 of 1 files downloaded.  \n"
     ]
    },
    {
     "name": "stdout",
     "output_type": "stream",
     "text": [
      "inducing_points_softgp_kin40k_512_1024_0.001_6535_10:v3\n"
     ]
    },
    {
     "name": "stderr",
     "output_type": "stream",
     "text": [
      "\u001b[34m\u001b[1mwandb\u001b[0m:   1 of 1 files downloaded.  \n"
     ]
    },
    {
     "name": "stdout",
     "output_type": "stream",
     "text": [
      "K_zz_softgp_kin40k_512_1024_0.001_6535_10:v3\n"
     ]
    },
    {
     "name": "stderr",
     "output_type": "stream",
     "text": [
      "\u001b[34m\u001b[1mwandb\u001b[0m:   1 of 1 files downloaded.  \n"
     ]
    },
    {
     "name": "stdout",
     "output_type": "stream",
     "text": [
      "inducing_points_softgp_kin40k_512_1024_0.001_6535_20:v3\n"
     ]
    },
    {
     "name": "stderr",
     "output_type": "stream",
     "text": [
      "\u001b[34m\u001b[1mwandb\u001b[0m:   1 of 1 files downloaded.  \n"
     ]
    },
    {
     "name": "stdout",
     "output_type": "stream",
     "text": [
      "K_zz_softgp_kin40k_512_1024_0.001_6535_20:v3\n"
     ]
    },
    {
     "name": "stderr",
     "output_type": "stream",
     "text": [
      "\u001b[34m\u001b[1mwandb\u001b[0m:   1 of 1 files downloaded.  \n"
     ]
    },
    {
     "name": "stdout",
     "output_type": "stream",
     "text": [
      "inducing_points_softgp_kin40k_512_1024_0.001_6535_30:v3\n"
     ]
    },
    {
     "name": "stderr",
     "output_type": "stream",
     "text": [
      "\u001b[34m\u001b[1mwandb\u001b[0m:   1 of 1 files downloaded.  \n"
     ]
    },
    {
     "name": "stdout",
     "output_type": "stream",
     "text": [
      "K_zz_softgp_kin40k_512_1024_0.001_6535_30:v3\n"
     ]
    },
    {
     "name": "stderr",
     "output_type": "stream",
     "text": [
      "\u001b[34m\u001b[1mwandb\u001b[0m:   1 of 1 files downloaded.  \n"
     ]
    },
    {
     "name": "stdout",
     "output_type": "stream",
     "text": [
      "inducing_points_softgp_kin40k_512_1024_0.001_6535_40:v3\n"
     ]
    },
    {
     "name": "stderr",
     "output_type": "stream",
     "text": [
      "\u001b[34m\u001b[1mwandb\u001b[0m:   1 of 1 files downloaded.  \n"
     ]
    },
    {
     "name": "stdout",
     "output_type": "stream",
     "text": [
      "K_zz_softgp_kin40k_512_1024_0.001_6535_40:v3\n"
     ]
    },
    {
     "name": "stderr",
     "output_type": "stream",
     "text": [
      "\u001b[34m\u001b[1mwandb\u001b[0m:   1 of 1 files downloaded.  \n"
     ]
    },
    {
     "name": "stdout",
     "output_type": "stream",
     "text": [
      "inducing_points_softgp_kin40k_512_1024_0.001_6535_49:v3\n"
     ]
    },
    {
     "name": "stderr",
     "output_type": "stream",
     "text": [
      "\u001b[34m\u001b[1mwandb\u001b[0m:   1 of 1 files downloaded.  \n"
     ]
    },
    {
     "name": "stdout",
     "output_type": "stream",
     "text": [
      "K_zz_softgp_kin40k_512_1024_0.001_6535_49:v3\n"
     ]
    },
    {
     "name": "stderr",
     "output_type": "stream",
     "text": [
      "\u001b[34m\u001b[1mwandb\u001b[0m:   1 of 1 files downloaded.  \n"
     ]
    },
    {
     "name": "stdout",
     "output_type": "stream",
     "text": [
      "run-l873hyoi-history:v0\n"
     ]
    },
    {
     "name": "stderr",
     "output_type": "stream",
     "text": [
      "\u001b[34m\u001b[1mwandb\u001b[0m:   1 of 1 files downloaded.  \n"
     ]
    },
    {
     "name": "stdout",
     "output_type": "stream",
     "text": [
      "inducing_points_softgp_bike_512_1024_0.001_6535_0:v5\n"
     ]
    },
    {
     "name": "stderr",
     "output_type": "stream",
     "text": [
      "\u001b[34m\u001b[1mwandb\u001b[0m:   1 of 1 files downloaded.  \n"
     ]
    },
    {
     "name": "stdout",
     "output_type": "stream",
     "text": [
      "K_zz_softgp_bike_512_1024_0.001_6535_0:v5\n"
     ]
    },
    {
     "name": "stderr",
     "output_type": "stream",
     "text": [
      "\u001b[34m\u001b[1mwandb\u001b[0m:   1 of 1 files downloaded.  \n"
     ]
    },
    {
     "name": "stdout",
     "output_type": "stream",
     "text": [
      "inducing_points_softgp_bike_512_1024_0.001_6535_10:v5\n"
     ]
    },
    {
     "name": "stderr",
     "output_type": "stream",
     "text": [
      "\u001b[34m\u001b[1mwandb\u001b[0m:   1 of 1 files downloaded.  \n"
     ]
    },
    {
     "name": "stdout",
     "output_type": "stream",
     "text": [
      "K_zz_softgp_bike_512_1024_0.001_6535_10:v5\n"
     ]
    },
    {
     "name": "stderr",
     "output_type": "stream",
     "text": [
      "\u001b[34m\u001b[1mwandb\u001b[0m:   1 of 1 files downloaded.  \n"
     ]
    },
    {
     "name": "stdout",
     "output_type": "stream",
     "text": [
      "inducing_points_softgp_bike_512_1024_0.001_6535_20:v4\n"
     ]
    },
    {
     "name": "stderr",
     "output_type": "stream",
     "text": [
      "\u001b[34m\u001b[1mwandb\u001b[0m:   1 of 1 files downloaded.  \n"
     ]
    },
    {
     "name": "stdout",
     "output_type": "stream",
     "text": [
      "K_zz_softgp_bike_512_1024_0.001_6535_20:v4\n"
     ]
    },
    {
     "name": "stderr",
     "output_type": "stream",
     "text": [
      "\u001b[34m\u001b[1mwandb\u001b[0m:   1 of 1 files downloaded.  \n"
     ]
    },
    {
     "name": "stdout",
     "output_type": "stream",
     "text": [
      "inducing_points_softgp_bike_512_1024_0.001_6535_30:v4\n"
     ]
    },
    {
     "name": "stderr",
     "output_type": "stream",
     "text": [
      "\u001b[34m\u001b[1mwandb\u001b[0m:   1 of 1 files downloaded.  \n"
     ]
    },
    {
     "name": "stdout",
     "output_type": "stream",
     "text": [
      "K_zz_softgp_bike_512_1024_0.001_6535_30:v4\n"
     ]
    },
    {
     "name": "stderr",
     "output_type": "stream",
     "text": [
      "\u001b[34m\u001b[1mwandb\u001b[0m:   1 of 1 files downloaded.  \n"
     ]
    },
    {
     "name": "stdout",
     "output_type": "stream",
     "text": [
      "inducing_points_softgp_bike_512_1024_0.001_6535_40:v4\n"
     ]
    },
    {
     "name": "stderr",
     "output_type": "stream",
     "text": [
      "\u001b[34m\u001b[1mwandb\u001b[0m:   1 of 1 files downloaded.  \n"
     ]
    },
    {
     "name": "stdout",
     "output_type": "stream",
     "text": [
      "K_zz_softgp_bike_512_1024_0.001_6535_40:v4\n"
     ]
    },
    {
     "name": "stderr",
     "output_type": "stream",
     "text": [
      "\u001b[34m\u001b[1mwandb\u001b[0m:   1 of 1 files downloaded.  \n"
     ]
    },
    {
     "name": "stdout",
     "output_type": "stream",
     "text": [
      "inducing_points_softgp_bike_512_1024_0.001_6535_49:v4\n"
     ]
    },
    {
     "name": "stderr",
     "output_type": "stream",
     "text": [
      "\u001b[34m\u001b[1mwandb\u001b[0m:   1 of 1 files downloaded.  \n"
     ]
    },
    {
     "name": "stdout",
     "output_type": "stream",
     "text": [
      "K_zz_softgp_bike_512_1024_0.001_6535_49:v4\n"
     ]
    },
    {
     "name": "stderr",
     "output_type": "stream",
     "text": [
      "\u001b[34m\u001b[1mwandb\u001b[0m:   1 of 1 files downloaded.  \n"
     ]
    },
    {
     "name": "stdout",
     "output_type": "stream",
     "text": [
      "run-voy7cjz2-history:v0\n"
     ]
    },
    {
     "name": "stderr",
     "output_type": "stream",
     "text": [
      "\u001b[34m\u001b[1mwandb\u001b[0m:   1 of 1 files downloaded.  \n"
     ]
    },
    {
     "name": "stdout",
     "output_type": "stream",
     "text": [
      "inducing_points_softgp_elevators_512_1024_0.001_6535_0:v5\n"
     ]
    },
    {
     "name": "stderr",
     "output_type": "stream",
     "text": [
      "\u001b[34m\u001b[1mwandb\u001b[0m:   1 of 1 files downloaded.  \n"
     ]
    },
    {
     "name": "stdout",
     "output_type": "stream",
     "text": [
      "K_zz_softgp_elevators_512_1024_0.001_6535_0:v5\n"
     ]
    },
    {
     "name": "stderr",
     "output_type": "stream",
     "text": [
      "\u001b[34m\u001b[1mwandb\u001b[0m:   1 of 1 files downloaded.  \n"
     ]
    },
    {
     "name": "stdout",
     "output_type": "stream",
     "text": [
      "inducing_points_softgp_elevators_512_1024_0.001_6535_10:v5\n"
     ]
    },
    {
     "name": "stderr",
     "output_type": "stream",
     "text": [
      "\u001b[34m\u001b[1mwandb\u001b[0m:   1 of 1 files downloaded.  \n"
     ]
    },
    {
     "name": "stdout",
     "output_type": "stream",
     "text": [
      "K_zz_softgp_elevators_512_1024_0.001_6535_10:v5\n"
     ]
    },
    {
     "name": "stderr",
     "output_type": "stream",
     "text": [
      "\u001b[34m\u001b[1mwandb\u001b[0m:   1 of 1 files downloaded.  \n"
     ]
    },
    {
     "name": "stdout",
     "output_type": "stream",
     "text": [
      "inducing_points_softgp_elevators_512_1024_0.001_6535_20:v5\n"
     ]
    },
    {
     "name": "stderr",
     "output_type": "stream",
     "text": [
      "\u001b[34m\u001b[1mwandb\u001b[0m:   1 of 1 files downloaded.  \n"
     ]
    },
    {
     "name": "stdout",
     "output_type": "stream",
     "text": [
      "K_zz_softgp_elevators_512_1024_0.001_6535_20:v5\n"
     ]
    },
    {
     "name": "stderr",
     "output_type": "stream",
     "text": [
      "\u001b[34m\u001b[1mwandb\u001b[0m:   1 of 1 files downloaded.  \n"
     ]
    },
    {
     "name": "stdout",
     "output_type": "stream",
     "text": [
      "inducing_points_softgp_elevators_512_1024_0.001_6535_30:v5\n"
     ]
    },
    {
     "name": "stderr",
     "output_type": "stream",
     "text": [
      "\u001b[34m\u001b[1mwandb\u001b[0m:   1 of 1 files downloaded.  \n"
     ]
    },
    {
     "name": "stdout",
     "output_type": "stream",
     "text": [
      "K_zz_softgp_elevators_512_1024_0.001_6535_30:v5\n"
     ]
    },
    {
     "name": "stderr",
     "output_type": "stream",
     "text": [
      "\u001b[34m\u001b[1mwandb\u001b[0m:   1 of 1 files downloaded.  \n"
     ]
    },
    {
     "name": "stdout",
     "output_type": "stream",
     "text": [
      "inducing_points_softgp_elevators_512_1024_0.001_6535_40:v5\n"
     ]
    },
    {
     "name": "stderr",
     "output_type": "stream",
     "text": [
      "\u001b[34m\u001b[1mwandb\u001b[0m:   1 of 1 files downloaded.  \n"
     ]
    },
    {
     "name": "stdout",
     "output_type": "stream",
     "text": [
      "K_zz_softgp_elevators_512_1024_0.001_6535_40:v5\n"
     ]
    },
    {
     "name": "stderr",
     "output_type": "stream",
     "text": [
      "\u001b[34m\u001b[1mwandb\u001b[0m:   1 of 1 files downloaded.  \n"
     ]
    },
    {
     "name": "stdout",
     "output_type": "stream",
     "text": [
      "inducing_points_softgp_elevators_512_1024_0.001_6535_49:v5\n"
     ]
    },
    {
     "name": "stderr",
     "output_type": "stream",
     "text": [
      "\u001b[34m\u001b[1mwandb\u001b[0m:   1 of 1 files downloaded.  \n"
     ]
    },
    {
     "name": "stdout",
     "output_type": "stream",
     "text": [
      "K_zz_softgp_elevators_512_1024_0.001_6535_49:v5\n"
     ]
    },
    {
     "name": "stderr",
     "output_type": "stream",
     "text": [
      "\u001b[34m\u001b[1mwandb\u001b[0m:   1 of 1 files downloaded.  \n"
     ]
    },
    {
     "name": "stdout",
     "output_type": "stream",
     "text": [
      "run-7y50rklj-history:v0\n"
     ]
    },
    {
     "name": "stderr",
     "output_type": "stream",
     "text": [
      "\u001b[34m\u001b[1mwandb\u001b[0m:   1 of 1 files downloaded.  \n"
     ]
    },
    {
     "name": "stdout",
     "output_type": "stream",
     "text": [
      "inducing_points_softgp_pol_512_1024_0.001_6535_0:v5\n"
     ]
    },
    {
     "name": "stderr",
     "output_type": "stream",
     "text": [
      "\u001b[34m\u001b[1mwandb\u001b[0m:   1 of 1 files downloaded.  \n"
     ]
    },
    {
     "name": "stdout",
     "output_type": "stream",
     "text": [
      "K_zz_softgp_pol_512_1024_0.001_6535_0:v5\n"
     ]
    },
    {
     "name": "stderr",
     "output_type": "stream",
     "text": [
      "\u001b[34m\u001b[1mwandb\u001b[0m:   1 of 1 files downloaded.  \n"
     ]
    },
    {
     "name": "stdout",
     "output_type": "stream",
     "text": [
      "inducing_points_softgp_pol_512_1024_0.001_6535_10:v5\n"
     ]
    },
    {
     "name": "stderr",
     "output_type": "stream",
     "text": [
      "\u001b[34m\u001b[1mwandb\u001b[0m:   1 of 1 files downloaded.  \n"
     ]
    },
    {
     "name": "stdout",
     "output_type": "stream",
     "text": [
      "K_zz_softgp_pol_512_1024_0.001_6535_10:v5\n"
     ]
    },
    {
     "name": "stderr",
     "output_type": "stream",
     "text": [
      "\u001b[34m\u001b[1mwandb\u001b[0m:   1 of 1 files downloaded.  \n"
     ]
    },
    {
     "name": "stdout",
     "output_type": "stream",
     "text": [
      "inducing_points_softgp_pol_512_1024_0.001_6535_20:v5\n"
     ]
    },
    {
     "name": "stderr",
     "output_type": "stream",
     "text": [
      "\u001b[34m\u001b[1mwandb\u001b[0m:   1 of 1 files downloaded.  \n"
     ]
    },
    {
     "name": "stdout",
     "output_type": "stream",
     "text": [
      "K_zz_softgp_pol_512_1024_0.001_6535_20:v5\n"
     ]
    },
    {
     "name": "stderr",
     "output_type": "stream",
     "text": [
      "\u001b[34m\u001b[1mwandb\u001b[0m:   1 of 1 files downloaded.  \n"
     ]
    },
    {
     "name": "stdout",
     "output_type": "stream",
     "text": [
      "inducing_points_softgp_pol_512_1024_0.001_6535_30:v5\n"
     ]
    },
    {
     "name": "stderr",
     "output_type": "stream",
     "text": [
      "\u001b[34m\u001b[1mwandb\u001b[0m:   1 of 1 files downloaded.  \n"
     ]
    },
    {
     "name": "stdout",
     "output_type": "stream",
     "text": [
      "K_zz_softgp_pol_512_1024_0.001_6535_30:v5\n"
     ]
    },
    {
     "name": "stderr",
     "output_type": "stream",
     "text": [
      "\u001b[34m\u001b[1mwandb\u001b[0m:   1 of 1 files downloaded.  \n"
     ]
    },
    {
     "name": "stdout",
     "output_type": "stream",
     "text": [
      "inducing_points_softgp_pol_512_1024_0.001_6535_40:v5\n"
     ]
    },
    {
     "name": "stderr",
     "output_type": "stream",
     "text": [
      "\u001b[34m\u001b[1mwandb\u001b[0m:   1 of 1 files downloaded.  \n"
     ]
    },
    {
     "name": "stdout",
     "output_type": "stream",
     "text": [
      "K_zz_softgp_pol_512_1024_0.001_6535_40:v5\n"
     ]
    },
    {
     "name": "stderr",
     "output_type": "stream",
     "text": [
      "\u001b[34m\u001b[1mwandb\u001b[0m:   1 of 1 files downloaded.  \n"
     ]
    },
    {
     "name": "stdout",
     "output_type": "stream",
     "text": [
      "inducing_points_softgp_pol_512_1024_0.001_6535_49:v5\n"
     ]
    },
    {
     "name": "stderr",
     "output_type": "stream",
     "text": [
      "\u001b[34m\u001b[1mwandb\u001b[0m:   1 of 1 files downloaded.  \n"
     ]
    },
    {
     "name": "stdout",
     "output_type": "stream",
     "text": [
      "K_zz_softgp_pol_512_1024_0.001_6535_49:v5\n"
     ]
    },
    {
     "name": "stderr",
     "output_type": "stream",
     "text": [
      "\u001b[34m\u001b[1mwandb\u001b[0m:   1 of 1 files downloaded.  \n"
     ]
    },
    {
     "name": "stdout",
     "output_type": "stream",
     "text": [
      "run-ooi315iu-history:v0\n"
     ]
    },
    {
     "name": "stderr",
     "output_type": "stream",
     "text": [
      "\u001b[34m\u001b[1mwandb\u001b[0m:   1 of 1 files downloaded.  \n"
     ]
    }
   ],
   "source": [
    "api = wandb.Api()\n",
    "for exp in tqdm(raw_orig):\n",
    "    run = api.run(f'bogp/soft-gp-2/{exp.run.id}')\n",
    "    if exp.config[\"training.seed\"] == 6535:\n",
    "        for artifact in run.logged_artifacts():\n",
    "            print(artifact.name)\n",
    "            artifact.download(root=f\"mynoise-orig/{artifact.name}/\")"
   ]
  },
  {
   "cell_type": "code",
   "execution_count": 11,
   "metadata": {},
   "outputs": [
    {
     "data": {
      "application/vnd.jupyter.widget-view+json": {
       "model_id": "6e02b9287b7e42d98fd118ee39ed7217",
       "version_major": 2,
       "version_minor": 0
      },
      "text/plain": [
       "  0%|          | 0/36 [00:00<?, ?it/s]"
      ]
     },
     "metadata": {},
     "output_type": "display_data"
    },
    {
     "name": "stdout",
     "output_type": "stream",
     "text": [
      "inducing_points_softgp_houseelectric_512_1024_0.001_6535_0:v2\n"
     ]
    },
    {
     "name": "stderr",
     "output_type": "stream",
     "text": [
      "\u001b[34m\u001b[1mwandb\u001b[0m:   1 of 1 files downloaded.  \n"
     ]
    },
    {
     "name": "stdout",
     "output_type": "stream",
     "text": [
      "K_zz_softgp_houseelectric_512_1024_0.001_6535_0:v2\n"
     ]
    },
    {
     "name": "stderr",
     "output_type": "stream",
     "text": [
      "\u001b[34m\u001b[1mwandb\u001b[0m:   1 of 1 files downloaded.  \n"
     ]
    },
    {
     "name": "stdout",
     "output_type": "stream",
     "text": [
      "inducing_points_softgp_houseelectric_512_1024_0.001_6535_10:v2\n"
     ]
    },
    {
     "name": "stderr",
     "output_type": "stream",
     "text": [
      "\u001b[34m\u001b[1mwandb\u001b[0m:   1 of 1 files downloaded.  \n"
     ]
    },
    {
     "name": "stdout",
     "output_type": "stream",
     "text": [
      "K_zz_softgp_houseelectric_512_1024_0.001_6535_10:v2\n"
     ]
    },
    {
     "name": "stderr",
     "output_type": "stream",
     "text": [
      "\u001b[34m\u001b[1mwandb\u001b[0m:   1 of 1 files downloaded.  \n"
     ]
    },
    {
     "name": "stdout",
     "output_type": "stream",
     "text": [
      "inducing_points_softgp_houseelectric_512_1024_0.001_6535_20:v2\n"
     ]
    },
    {
     "name": "stderr",
     "output_type": "stream",
     "text": [
      "\u001b[34m\u001b[1mwandb\u001b[0m:   1 of 1 files downloaded.  \n"
     ]
    },
    {
     "name": "stdout",
     "output_type": "stream",
     "text": [
      "K_zz_softgp_houseelectric_512_1024_0.001_6535_20:v2\n"
     ]
    },
    {
     "name": "stderr",
     "output_type": "stream",
     "text": [
      "\u001b[34m\u001b[1mwandb\u001b[0m:   1 of 1 files downloaded.  \n"
     ]
    },
    {
     "name": "stdout",
     "output_type": "stream",
     "text": [
      "inducing_points_softgp_houseelectric_512_1024_0.001_6535_30:v2\n"
     ]
    },
    {
     "name": "stderr",
     "output_type": "stream",
     "text": [
      "\u001b[34m\u001b[1mwandb\u001b[0m:   1 of 1 files downloaded.  \n"
     ]
    },
    {
     "name": "stdout",
     "output_type": "stream",
     "text": [
      "K_zz_softgp_houseelectric_512_1024_0.001_6535_30:v2\n"
     ]
    },
    {
     "name": "stderr",
     "output_type": "stream",
     "text": [
      "\u001b[34m\u001b[1mwandb\u001b[0m:   1 of 1 files downloaded.  \n"
     ]
    },
    {
     "name": "stdout",
     "output_type": "stream",
     "text": [
      "inducing_points_softgp_houseelectric_512_1024_0.001_6535_40:v2\n"
     ]
    },
    {
     "name": "stderr",
     "output_type": "stream",
     "text": [
      "\u001b[34m\u001b[1mwandb\u001b[0m:   1 of 1 files downloaded.  \n"
     ]
    },
    {
     "name": "stdout",
     "output_type": "stream",
     "text": [
      "K_zz_softgp_houseelectric_512_1024_0.001_6535_40:v2\n"
     ]
    },
    {
     "name": "stderr",
     "output_type": "stream",
     "text": [
      "\u001b[34m\u001b[1mwandb\u001b[0m:   1 of 1 files downloaded.  \n"
     ]
    },
    {
     "name": "stdout",
     "output_type": "stream",
     "text": [
      "inducing_points_softgp_houseelectric_512_1024_0.001_6535_49:v2\n"
     ]
    },
    {
     "name": "stderr",
     "output_type": "stream",
     "text": [
      "\u001b[34m\u001b[1mwandb\u001b[0m:   1 of 1 files downloaded.  \n"
     ]
    },
    {
     "name": "stdout",
     "output_type": "stream",
     "text": [
      "K_zz_softgp_houseelectric_512_1024_0.001_6535_49:v2\n"
     ]
    },
    {
     "name": "stderr",
     "output_type": "stream",
     "text": [
      "\u001b[34m\u001b[1mwandb\u001b[0m:   1 of 1 files downloaded.  \n"
     ]
    },
    {
     "name": "stdout",
     "output_type": "stream",
     "text": [
      "run-mtadrr0o-history:v0\n"
     ]
    },
    {
     "name": "stderr",
     "output_type": "stream",
     "text": [
      "\u001b[34m\u001b[1mwandb\u001b[0m:   1 of 1 files downloaded.  \n"
     ]
    },
    {
     "name": "stdout",
     "output_type": "stream",
     "text": [
      "inducing_points_softgp_buzz_512_1024_0.001_6535_0:v3\n"
     ]
    },
    {
     "name": "stderr",
     "output_type": "stream",
     "text": [
      "\u001b[34m\u001b[1mwandb\u001b[0m:   1 of 1 files downloaded.  \n"
     ]
    },
    {
     "name": "stdout",
     "output_type": "stream",
     "text": [
      "K_zz_softgp_buzz_512_1024_0.001_6535_0:v3\n"
     ]
    },
    {
     "name": "stderr",
     "output_type": "stream",
     "text": [
      "\u001b[34m\u001b[1mwandb\u001b[0m:   1 of 1 files downloaded.  \n"
     ]
    },
    {
     "name": "stdout",
     "output_type": "stream",
     "text": [
      "inducing_points_softgp_buzz_512_1024_0.001_6535_10:v3\n"
     ]
    },
    {
     "name": "stderr",
     "output_type": "stream",
     "text": [
      "\u001b[34m\u001b[1mwandb\u001b[0m:   1 of 1 files downloaded.  \n"
     ]
    },
    {
     "name": "stdout",
     "output_type": "stream",
     "text": [
      "K_zz_softgp_buzz_512_1024_0.001_6535_10:v3\n"
     ]
    },
    {
     "name": "stderr",
     "output_type": "stream",
     "text": [
      "\u001b[34m\u001b[1mwandb\u001b[0m:   1 of 1 files downloaded.  \n"
     ]
    },
    {
     "name": "stdout",
     "output_type": "stream",
     "text": [
      "inducing_points_softgp_buzz_512_1024_0.001_6535_20:v3\n"
     ]
    },
    {
     "name": "stderr",
     "output_type": "stream",
     "text": [
      "\u001b[34m\u001b[1mwandb\u001b[0m:   1 of 1 files downloaded.  \n"
     ]
    },
    {
     "name": "stdout",
     "output_type": "stream",
     "text": [
      "K_zz_softgp_buzz_512_1024_0.001_6535_20:v3\n"
     ]
    },
    {
     "name": "stderr",
     "output_type": "stream",
     "text": [
      "\u001b[34m\u001b[1mwandb\u001b[0m:   1 of 1 files downloaded.  \n"
     ]
    },
    {
     "name": "stdout",
     "output_type": "stream",
     "text": [
      "inducing_points_softgp_buzz_512_1024_0.001_6535_30:v3\n"
     ]
    },
    {
     "name": "stderr",
     "output_type": "stream",
     "text": [
      "\u001b[34m\u001b[1mwandb\u001b[0m:   1 of 1 files downloaded.  \n"
     ]
    },
    {
     "name": "stdout",
     "output_type": "stream",
     "text": [
      "K_zz_softgp_buzz_512_1024_0.001_6535_30:v3\n"
     ]
    },
    {
     "name": "stderr",
     "output_type": "stream",
     "text": [
      "\u001b[34m\u001b[1mwandb\u001b[0m:   1 of 1 files downloaded.  \n"
     ]
    },
    {
     "name": "stdout",
     "output_type": "stream",
     "text": [
      "inducing_points_softgp_buzz_512_1024_0.001_6535_40:v2\n"
     ]
    },
    {
     "name": "stderr",
     "output_type": "stream",
     "text": [
      "\u001b[34m\u001b[1mwandb\u001b[0m:   1 of 1 files downloaded.  \n"
     ]
    },
    {
     "name": "stdout",
     "output_type": "stream",
     "text": [
      "K_zz_softgp_buzz_512_1024_0.001_6535_40:v2\n"
     ]
    },
    {
     "name": "stderr",
     "output_type": "stream",
     "text": [
      "\u001b[34m\u001b[1mwandb\u001b[0m:   1 of 1 files downloaded.  \n"
     ]
    },
    {
     "name": "stdout",
     "output_type": "stream",
     "text": [
      "inducing_points_softgp_buzz_512_1024_0.001_6535_49:v2\n"
     ]
    },
    {
     "name": "stderr",
     "output_type": "stream",
     "text": [
      "\u001b[34m\u001b[1mwandb\u001b[0m:   1 of 1 files downloaded.  \n"
     ]
    },
    {
     "name": "stdout",
     "output_type": "stream",
     "text": [
      "K_zz_softgp_buzz_512_1024_0.001_6535_49:v2\n"
     ]
    },
    {
     "name": "stderr",
     "output_type": "stream",
     "text": [
      "\u001b[34m\u001b[1mwandb\u001b[0m:   1 of 1 files downloaded.  \n"
     ]
    },
    {
     "name": "stdout",
     "output_type": "stream",
     "text": [
      "inducing_points_softgp_song_512_1024_0.001_6535_0:v4\n"
     ]
    },
    {
     "name": "stderr",
     "output_type": "stream",
     "text": [
      "\u001b[34m\u001b[1mwandb\u001b[0m:   1 of 1 files downloaded.  \n"
     ]
    },
    {
     "name": "stdout",
     "output_type": "stream",
     "text": [
      "K_zz_softgp_song_512_1024_0.001_6535_0:v4\n"
     ]
    },
    {
     "name": "stderr",
     "output_type": "stream",
     "text": [
      "\u001b[34m\u001b[1mwandb\u001b[0m:   1 of 1 files downloaded.  \n"
     ]
    },
    {
     "name": "stdout",
     "output_type": "stream",
     "text": [
      "inducing_points_softgp_song_512_1024_0.001_6535_10:v4\n"
     ]
    },
    {
     "name": "stderr",
     "output_type": "stream",
     "text": [
      "\u001b[34m\u001b[1mwandb\u001b[0m:   1 of 1 files downloaded.  \n"
     ]
    },
    {
     "name": "stdout",
     "output_type": "stream",
     "text": [
      "K_zz_softgp_song_512_1024_0.001_6535_10:v4\n"
     ]
    },
    {
     "name": "stderr",
     "output_type": "stream",
     "text": [
      "\u001b[34m\u001b[1mwandb\u001b[0m:   1 of 1 files downloaded.  \n"
     ]
    },
    {
     "name": "stdout",
     "output_type": "stream",
     "text": [
      "inducing_points_softgp_song_512_1024_0.001_6535_20:v4\n"
     ]
    },
    {
     "name": "stderr",
     "output_type": "stream",
     "text": [
      "\u001b[34m\u001b[1mwandb\u001b[0m:   1 of 1 files downloaded.  \n"
     ]
    },
    {
     "name": "stdout",
     "output_type": "stream",
     "text": [
      "K_zz_softgp_song_512_1024_0.001_6535_20:v4\n"
     ]
    },
    {
     "name": "stderr",
     "output_type": "stream",
     "text": [
      "\u001b[34m\u001b[1mwandb\u001b[0m:   1 of 1 files downloaded.  \n"
     ]
    },
    {
     "name": "stdout",
     "output_type": "stream",
     "text": [
      "inducing_points_softgp_song_512_1024_0.001_6535_30:v4\n"
     ]
    },
    {
     "name": "stderr",
     "output_type": "stream",
     "text": [
      "\u001b[34m\u001b[1mwandb\u001b[0m:   1 of 1 files downloaded.  \n"
     ]
    },
    {
     "name": "stdout",
     "output_type": "stream",
     "text": [
      "K_zz_softgp_song_512_1024_0.001_6535_30:v4\n"
     ]
    },
    {
     "name": "stderr",
     "output_type": "stream",
     "text": [
      "\u001b[34m\u001b[1mwandb\u001b[0m:   1 of 1 files downloaded.  \n"
     ]
    },
    {
     "name": "stdout",
     "output_type": "stream",
     "text": [
      "inducing_points_softgp_song_512_1024_0.001_6535_40:v4\n"
     ]
    },
    {
     "name": "stderr",
     "output_type": "stream",
     "text": [
      "\u001b[34m\u001b[1mwandb\u001b[0m:   1 of 1 files downloaded.  \n"
     ]
    },
    {
     "name": "stdout",
     "output_type": "stream",
     "text": [
      "K_zz_softgp_song_512_1024_0.001_6535_40:v4\n"
     ]
    },
    {
     "name": "stderr",
     "output_type": "stream",
     "text": [
      "\u001b[34m\u001b[1mwandb\u001b[0m:   1 of 1 files downloaded.  \n"
     ]
    },
    {
     "name": "stdout",
     "output_type": "stream",
     "text": [
      "inducing_points_softgp_song_512_1024_0.001_6535_49:v4\n"
     ]
    },
    {
     "name": "stderr",
     "output_type": "stream",
     "text": [
      "\u001b[34m\u001b[1mwandb\u001b[0m:   1 of 1 files downloaded.  \n"
     ]
    },
    {
     "name": "stdout",
     "output_type": "stream",
     "text": [
      "K_zz_softgp_song_512_1024_0.001_6535_49:v4\n"
     ]
    },
    {
     "name": "stderr",
     "output_type": "stream",
     "text": [
      "\u001b[34m\u001b[1mwandb\u001b[0m:   1 of 1 files downloaded.  \n"
     ]
    },
    {
     "name": "stdout",
     "output_type": "stream",
     "text": [
      "run-f02qkgle-history:v0\n"
     ]
    },
    {
     "name": "stderr",
     "output_type": "stream",
     "text": [
      "\u001b[34m\u001b[1mwandb\u001b[0m:   1 of 1 files downloaded.  \n"
     ]
    },
    {
     "name": "stdout",
     "output_type": "stream",
     "text": [
      "inducing_points_softgp_3droad_512_1024_0.001_6535_0:v4\n"
     ]
    },
    {
     "name": "stderr",
     "output_type": "stream",
     "text": [
      "\u001b[34m\u001b[1mwandb\u001b[0m:   1 of 1 files downloaded.  \n"
     ]
    },
    {
     "name": "stdout",
     "output_type": "stream",
     "text": [
      "K_zz_softgp_3droad_512_1024_0.001_6535_0:v4\n"
     ]
    },
    {
     "name": "stderr",
     "output_type": "stream",
     "text": [
      "\u001b[34m\u001b[1mwandb\u001b[0m:   1 of 1 files downloaded.  \n"
     ]
    },
    {
     "name": "stdout",
     "output_type": "stream",
     "text": [
      "inducing_points_softgp_3droad_512_1024_0.001_6535_10:v4\n"
     ]
    },
    {
     "name": "stderr",
     "output_type": "stream",
     "text": [
      "\u001b[34m\u001b[1mwandb\u001b[0m:   1 of 1 files downloaded.  \n"
     ]
    },
    {
     "name": "stdout",
     "output_type": "stream",
     "text": [
      "K_zz_softgp_3droad_512_1024_0.001_6535_10:v4\n"
     ]
    },
    {
     "name": "stderr",
     "output_type": "stream",
     "text": [
      "\u001b[34m\u001b[1mwandb\u001b[0m:   1 of 1 files downloaded.  \n"
     ]
    },
    {
     "name": "stdout",
     "output_type": "stream",
     "text": [
      "inducing_points_softgp_3droad_512_1024_0.001_6535_20:v4\n"
     ]
    },
    {
     "name": "stderr",
     "output_type": "stream",
     "text": [
      "\u001b[34m\u001b[1mwandb\u001b[0m:   1 of 1 files downloaded.  \n"
     ]
    },
    {
     "name": "stdout",
     "output_type": "stream",
     "text": [
      "K_zz_softgp_3droad_512_1024_0.001_6535_20:v4\n"
     ]
    },
    {
     "name": "stderr",
     "output_type": "stream",
     "text": [
      "\u001b[34m\u001b[1mwandb\u001b[0m:   1 of 1 files downloaded.  \n"
     ]
    },
    {
     "name": "stdout",
     "output_type": "stream",
     "text": [
      "inducing_points_softgp_3droad_512_1024_0.001_6535_30:v3\n"
     ]
    },
    {
     "name": "stderr",
     "output_type": "stream",
     "text": [
      "\u001b[34m\u001b[1mwandb\u001b[0m:   1 of 1 files downloaded.  \n"
     ]
    },
    {
     "name": "stdout",
     "output_type": "stream",
     "text": [
      "K_zz_softgp_3droad_512_1024_0.001_6535_30:v3\n"
     ]
    },
    {
     "name": "stderr",
     "output_type": "stream",
     "text": [
      "\u001b[34m\u001b[1mwandb\u001b[0m:   1 of 1 files downloaded.  \n"
     ]
    },
    {
     "name": "stdout",
     "output_type": "stream",
     "text": [
      "inducing_points_softgp_3droad_512_1024_0.001_6535_40:v3\n"
     ]
    },
    {
     "name": "stderr",
     "output_type": "stream",
     "text": [
      "\u001b[34m\u001b[1mwandb\u001b[0m:   1 of 1 files downloaded.  \n"
     ]
    },
    {
     "name": "stdout",
     "output_type": "stream",
     "text": [
      "K_zz_softgp_3droad_512_1024_0.001_6535_40:v3\n"
     ]
    },
    {
     "name": "stderr",
     "output_type": "stream",
     "text": [
      "\u001b[34m\u001b[1mwandb\u001b[0m:   1 of 1 files downloaded.  \n"
     ]
    },
    {
     "name": "stdout",
     "output_type": "stream",
     "text": [
      "inducing_points_softgp_3droad_512_1024_0.001_6535_49:v3\n"
     ]
    },
    {
     "name": "stderr",
     "output_type": "stream",
     "text": [
      "\u001b[34m\u001b[1mwandb\u001b[0m:   1 of 1 files downloaded.  \n"
     ]
    },
    {
     "name": "stdout",
     "output_type": "stream",
     "text": [
      "K_zz_softgp_3droad_512_1024_0.001_6535_49:v3\n"
     ]
    },
    {
     "name": "stderr",
     "output_type": "stream",
     "text": [
      "\u001b[34m\u001b[1mwandb\u001b[0m:   1 of 1 files downloaded.  \n"
     ]
    },
    {
     "name": "stdout",
     "output_type": "stream",
     "text": [
      "inducing_points_softgp_keggundirected_512_1024_0.001_6535_0:v4\n"
     ]
    },
    {
     "name": "stderr",
     "output_type": "stream",
     "text": [
      "\u001b[34m\u001b[1mwandb\u001b[0m:   1 of 1 files downloaded.  \n"
     ]
    },
    {
     "name": "stdout",
     "output_type": "stream",
     "text": [
      "K_zz_softgp_keggundirected_512_1024_0.001_6535_0:v4\n"
     ]
    },
    {
     "name": "stderr",
     "output_type": "stream",
     "text": [
      "\u001b[34m\u001b[1mwandb\u001b[0m:   1 of 1 files downloaded.  \n"
     ]
    },
    {
     "name": "stdout",
     "output_type": "stream",
     "text": [
      "inducing_points_softgp_keggundirected_512_1024_0.001_6535_10:v4\n"
     ]
    },
    {
     "name": "stderr",
     "output_type": "stream",
     "text": [
      "\u001b[34m\u001b[1mwandb\u001b[0m:   1 of 1 files downloaded.  \n"
     ]
    },
    {
     "name": "stdout",
     "output_type": "stream",
     "text": [
      "K_zz_softgp_keggundirected_512_1024_0.001_6535_10:v4\n"
     ]
    },
    {
     "name": "stderr",
     "output_type": "stream",
     "text": [
      "\u001b[34m\u001b[1mwandb\u001b[0m:   1 of 1 files downloaded.  \n"
     ]
    },
    {
     "name": "stdout",
     "output_type": "stream",
     "text": [
      "inducing_points_softgp_keggundirected_512_1024_0.001_6535_20:v4\n"
     ]
    },
    {
     "name": "stderr",
     "output_type": "stream",
     "text": [
      "\u001b[34m\u001b[1mwandb\u001b[0m:   1 of 1 files downloaded.  \n"
     ]
    },
    {
     "name": "stdout",
     "output_type": "stream",
     "text": [
      "K_zz_softgp_keggundirected_512_1024_0.001_6535_20:v4\n"
     ]
    },
    {
     "name": "stderr",
     "output_type": "stream",
     "text": [
      "\u001b[34m\u001b[1mwandb\u001b[0m:   1 of 1 files downloaded.  \n"
     ]
    },
    {
     "name": "stdout",
     "output_type": "stream",
     "text": [
      "inducing_points_softgp_keggundirected_512_1024_0.001_6535_30:v4\n"
     ]
    },
    {
     "name": "stderr",
     "output_type": "stream",
     "text": [
      "\u001b[34m\u001b[1mwandb\u001b[0m:   1 of 1 files downloaded.  \n"
     ]
    },
    {
     "name": "stdout",
     "output_type": "stream",
     "text": [
      "K_zz_softgp_keggundirected_512_1024_0.001_6535_30:v4\n"
     ]
    },
    {
     "name": "stderr",
     "output_type": "stream",
     "text": [
      "\u001b[34m\u001b[1mwandb\u001b[0m:   1 of 1 files downloaded.  \n"
     ]
    },
    {
     "name": "stdout",
     "output_type": "stream",
     "text": [
      "inducing_points_softgp_keggundirected_512_1024_0.001_6535_40:v4\n"
     ]
    },
    {
     "name": "stderr",
     "output_type": "stream",
     "text": [
      "\u001b[34m\u001b[1mwandb\u001b[0m:   1 of 1 files downloaded.  \n"
     ]
    },
    {
     "name": "stdout",
     "output_type": "stream",
     "text": [
      "K_zz_softgp_keggundirected_512_1024_0.001_6535_40:v4\n"
     ]
    },
    {
     "name": "stderr",
     "output_type": "stream",
     "text": [
      "\u001b[34m\u001b[1mwandb\u001b[0m:   1 of 1 files downloaded.  \n"
     ]
    },
    {
     "name": "stdout",
     "output_type": "stream",
     "text": [
      "inducing_points_softgp_keggundirected_512_1024_0.001_6535_49:v4\n"
     ]
    },
    {
     "name": "stderr",
     "output_type": "stream",
     "text": [
      "\u001b[34m\u001b[1mwandb\u001b[0m:   1 of 1 files downloaded.  \n"
     ]
    },
    {
     "name": "stdout",
     "output_type": "stream",
     "text": [
      "K_zz_softgp_keggundirected_512_1024_0.001_6535_49:v4\n"
     ]
    },
    {
     "name": "stderr",
     "output_type": "stream",
     "text": [
      "\u001b[34m\u001b[1mwandb\u001b[0m:   1 of 1 files downloaded.  \n"
     ]
    },
    {
     "name": "stdout",
     "output_type": "stream",
     "text": [
      "run-n2yz32fv-history:v0\n"
     ]
    },
    {
     "name": "stderr",
     "output_type": "stream",
     "text": [
      "\u001b[34m\u001b[1mwandb\u001b[0m:   1 of 1 files downloaded.  \n"
     ]
    },
    {
     "name": "stdout",
     "output_type": "stream",
     "text": [
      "inducing_points_softgp_slice_512_1024_0.001_6535_0:v4\n"
     ]
    },
    {
     "name": "stderr",
     "output_type": "stream",
     "text": [
      "\u001b[34m\u001b[1mwandb\u001b[0m:   1 of 1 files downloaded.  \n"
     ]
    },
    {
     "name": "stdout",
     "output_type": "stream",
     "text": [
      "K_zz_softgp_slice_512_1024_0.001_6535_0:v4\n"
     ]
    },
    {
     "name": "stderr",
     "output_type": "stream",
     "text": [
      "\u001b[34m\u001b[1mwandb\u001b[0m:   1 of 1 files downloaded.  \n"
     ]
    },
    {
     "name": "stdout",
     "output_type": "stream",
     "text": [
      "inducing_points_softgp_slice_512_1024_0.001_6535_10:v4\n"
     ]
    },
    {
     "name": "stderr",
     "output_type": "stream",
     "text": [
      "\u001b[34m\u001b[1mwandb\u001b[0m:   1 of 1 files downloaded.  \n"
     ]
    },
    {
     "name": "stdout",
     "output_type": "stream",
     "text": [
      "K_zz_softgp_slice_512_1024_0.001_6535_10:v4\n"
     ]
    },
    {
     "name": "stderr",
     "output_type": "stream",
     "text": [
      "\u001b[34m\u001b[1mwandb\u001b[0m:   1 of 1 files downloaded.  \n"
     ]
    },
    {
     "name": "stdout",
     "output_type": "stream",
     "text": [
      "inducing_points_softgp_slice_512_1024_0.001_6535_20:v4\n"
     ]
    },
    {
     "name": "stderr",
     "output_type": "stream",
     "text": [
      "\u001b[34m\u001b[1mwandb\u001b[0m:   1 of 1 files downloaded.  \n"
     ]
    },
    {
     "name": "stdout",
     "output_type": "stream",
     "text": [
      "K_zz_softgp_slice_512_1024_0.001_6535_20:v4\n"
     ]
    },
    {
     "name": "stderr",
     "output_type": "stream",
     "text": [
      "\u001b[34m\u001b[1mwandb\u001b[0m:   1 of 1 files downloaded.  \n"
     ]
    },
    {
     "name": "stdout",
     "output_type": "stream",
     "text": [
      "inducing_points_softgp_slice_512_1024_0.001_6535_30:v4\n"
     ]
    },
    {
     "name": "stderr",
     "output_type": "stream",
     "text": [
      "\u001b[34m\u001b[1mwandb\u001b[0m:   1 of 1 files downloaded.  \n"
     ]
    },
    {
     "name": "stdout",
     "output_type": "stream",
     "text": [
      "K_zz_softgp_slice_512_1024_0.001_6535_30:v4\n"
     ]
    },
    {
     "name": "stderr",
     "output_type": "stream",
     "text": [
      "\u001b[34m\u001b[1mwandb\u001b[0m:   1 of 1 files downloaded.  \n"
     ]
    },
    {
     "name": "stdout",
     "output_type": "stream",
     "text": [
      "inducing_points_softgp_slice_512_1024_0.001_6535_40:v4\n"
     ]
    },
    {
     "name": "stderr",
     "output_type": "stream",
     "text": [
      "\u001b[34m\u001b[1mwandb\u001b[0m:   1 of 1 files downloaded.  \n"
     ]
    },
    {
     "name": "stdout",
     "output_type": "stream",
     "text": [
      "K_zz_softgp_slice_512_1024_0.001_6535_40:v4\n"
     ]
    },
    {
     "name": "stderr",
     "output_type": "stream",
     "text": [
      "\u001b[34m\u001b[1mwandb\u001b[0m:   1 of 1 files downloaded.  \n"
     ]
    },
    {
     "name": "stdout",
     "output_type": "stream",
     "text": [
      "inducing_points_softgp_slice_512_1024_0.001_6535_49:v4\n"
     ]
    },
    {
     "name": "stderr",
     "output_type": "stream",
     "text": [
      "\u001b[34m\u001b[1mwandb\u001b[0m:   1 of 1 files downloaded.  \n"
     ]
    },
    {
     "name": "stdout",
     "output_type": "stream",
     "text": [
      "K_zz_softgp_slice_512_1024_0.001_6535_49:v4\n"
     ]
    },
    {
     "name": "stderr",
     "output_type": "stream",
     "text": [
      "\u001b[34m\u001b[1mwandb\u001b[0m:   1 of 1 files downloaded.  \n"
     ]
    },
    {
     "name": "stdout",
     "output_type": "stream",
     "text": [
      "run-wnizziec-history:v0\n"
     ]
    },
    {
     "name": "stderr",
     "output_type": "stream",
     "text": [
      "\u001b[34m\u001b[1mwandb\u001b[0m:   1 of 1 files downloaded.  \n"
     ]
    },
    {
     "name": "stdout",
     "output_type": "stream",
     "text": [
      "inducing_points_softgp_keggdirected_512_1024_0.001_6535_0:v4\n"
     ]
    },
    {
     "name": "stderr",
     "output_type": "stream",
     "text": [
      "\u001b[34m\u001b[1mwandb\u001b[0m:   1 of 1 files downloaded.  \n"
     ]
    },
    {
     "name": "stdout",
     "output_type": "stream",
     "text": [
      "K_zz_softgp_keggdirected_512_1024_0.001_6535_0:v4\n"
     ]
    },
    {
     "name": "stderr",
     "output_type": "stream",
     "text": [
      "\u001b[34m\u001b[1mwandb\u001b[0m:   1 of 1 files downloaded.  \n"
     ]
    },
    {
     "name": "stdout",
     "output_type": "stream",
     "text": [
      "inducing_points_softgp_keggdirected_512_1024_0.001_6535_10:v4\n"
     ]
    },
    {
     "name": "stderr",
     "output_type": "stream",
     "text": [
      "\u001b[34m\u001b[1mwandb\u001b[0m:   1 of 1 files downloaded.  \n"
     ]
    },
    {
     "name": "stdout",
     "output_type": "stream",
     "text": [
      "K_zz_softgp_keggdirected_512_1024_0.001_6535_10:v4\n"
     ]
    },
    {
     "name": "stderr",
     "output_type": "stream",
     "text": [
      "\u001b[34m\u001b[1mwandb\u001b[0m:   1 of 1 files downloaded.  \n"
     ]
    },
    {
     "name": "stdout",
     "output_type": "stream",
     "text": [
      "inducing_points_softgp_keggdirected_512_1024_0.001_6535_20:v4\n"
     ]
    },
    {
     "name": "stderr",
     "output_type": "stream",
     "text": [
      "\u001b[34m\u001b[1mwandb\u001b[0m:   1 of 1 files downloaded.  \n"
     ]
    },
    {
     "name": "stdout",
     "output_type": "stream",
     "text": [
      "K_zz_softgp_keggdirected_512_1024_0.001_6535_20:v4\n"
     ]
    },
    {
     "name": "stderr",
     "output_type": "stream",
     "text": [
      "\u001b[34m\u001b[1mwandb\u001b[0m:   1 of 1 files downloaded.  \n"
     ]
    },
    {
     "name": "stdout",
     "output_type": "stream",
     "text": [
      "inducing_points_softgp_keggdirected_512_1024_0.001_6535_30:v4\n"
     ]
    },
    {
     "name": "stderr",
     "output_type": "stream",
     "text": [
      "\u001b[34m\u001b[1mwandb\u001b[0m:   1 of 1 files downloaded.  \n"
     ]
    },
    {
     "name": "stdout",
     "output_type": "stream",
     "text": [
      "K_zz_softgp_keggdirected_512_1024_0.001_6535_30:v4\n"
     ]
    },
    {
     "name": "stderr",
     "output_type": "stream",
     "text": [
      "\u001b[34m\u001b[1mwandb\u001b[0m:   1 of 1 files downloaded.  \n"
     ]
    },
    {
     "name": "stdout",
     "output_type": "stream",
     "text": [
      "inducing_points_softgp_keggdirected_512_1024_0.001_6535_40:v4\n"
     ]
    },
    {
     "name": "stderr",
     "output_type": "stream",
     "text": [
      "\u001b[34m\u001b[1mwandb\u001b[0m:   1 of 1 files downloaded.  \n"
     ]
    },
    {
     "name": "stdout",
     "output_type": "stream",
     "text": [
      "K_zz_softgp_keggdirected_512_1024_0.001_6535_40:v4\n"
     ]
    },
    {
     "name": "stderr",
     "output_type": "stream",
     "text": [
      "\u001b[34m\u001b[1mwandb\u001b[0m:   1 of 1 files downloaded.  \n"
     ]
    },
    {
     "name": "stdout",
     "output_type": "stream",
     "text": [
      "inducing_points_softgp_keggdirected_512_1024_0.001_6535_49:v4\n"
     ]
    },
    {
     "name": "stderr",
     "output_type": "stream",
     "text": [
      "\u001b[34m\u001b[1mwandb\u001b[0m:   1 of 1 files downloaded.  \n"
     ]
    },
    {
     "name": "stdout",
     "output_type": "stream",
     "text": [
      "K_zz_softgp_keggdirected_512_1024_0.001_6535_49:v4\n"
     ]
    },
    {
     "name": "stderr",
     "output_type": "stream",
     "text": [
      "\u001b[34m\u001b[1mwandb\u001b[0m:   1 of 1 files downloaded.  \n"
     ]
    },
    {
     "name": "stdout",
     "output_type": "stream",
     "text": [
      "inducing_points_softgp_protein_512_1024_0.001_6535_0:v4\n"
     ]
    },
    {
     "name": "stderr",
     "output_type": "stream",
     "text": [
      "\u001b[34m\u001b[1mwandb\u001b[0m:   1 of 1 files downloaded.  \n"
     ]
    },
    {
     "name": "stdout",
     "output_type": "stream",
     "text": [
      "K_zz_softgp_protein_512_1024_0.001_6535_0:v4\n"
     ]
    },
    {
     "name": "stderr",
     "output_type": "stream",
     "text": [
      "\u001b[34m\u001b[1mwandb\u001b[0m:   1 of 1 files downloaded.  \n"
     ]
    },
    {
     "name": "stdout",
     "output_type": "stream",
     "text": [
      "inducing_points_softgp_protein_512_1024_0.001_6535_10:v4\n"
     ]
    },
    {
     "name": "stderr",
     "output_type": "stream",
     "text": [
      "\u001b[34m\u001b[1mwandb\u001b[0m:   1 of 1 files downloaded.  \n"
     ]
    },
    {
     "name": "stdout",
     "output_type": "stream",
     "text": [
      "K_zz_softgp_protein_512_1024_0.001_6535_10:v4\n"
     ]
    },
    {
     "name": "stderr",
     "output_type": "stream",
     "text": [
      "\u001b[34m\u001b[1mwandb\u001b[0m:   1 of 1 files downloaded.  \n"
     ]
    },
    {
     "name": "stdout",
     "output_type": "stream",
     "text": [
      "inducing_points_softgp_protein_512_1024_0.001_6535_20:v4\n"
     ]
    },
    {
     "name": "stderr",
     "output_type": "stream",
     "text": [
      "\u001b[34m\u001b[1mwandb\u001b[0m:   1 of 1 files downloaded.  \n"
     ]
    },
    {
     "name": "stdout",
     "output_type": "stream",
     "text": [
      "K_zz_softgp_protein_512_1024_0.001_6535_20:v4\n"
     ]
    },
    {
     "name": "stderr",
     "output_type": "stream",
     "text": [
      "\u001b[34m\u001b[1mwandb\u001b[0m:   1 of 1 files downloaded.  \n"
     ]
    },
    {
     "name": "stdout",
     "output_type": "stream",
     "text": [
      "inducing_points_softgp_protein_512_1024_0.001_6535_30:v4\n"
     ]
    },
    {
     "name": "stderr",
     "output_type": "stream",
     "text": [
      "\u001b[34m\u001b[1mwandb\u001b[0m:   1 of 1 files downloaded.  \n"
     ]
    },
    {
     "name": "stdout",
     "output_type": "stream",
     "text": [
      "K_zz_softgp_protein_512_1024_0.001_6535_30:v4\n"
     ]
    },
    {
     "name": "stderr",
     "output_type": "stream",
     "text": [
      "\u001b[34m\u001b[1mwandb\u001b[0m:   1 of 1 files downloaded.  \n"
     ]
    },
    {
     "name": "stdout",
     "output_type": "stream",
     "text": [
      "inducing_points_softgp_protein_512_1024_0.001_6535_40:v4\n"
     ]
    },
    {
     "name": "stderr",
     "output_type": "stream",
     "text": [
      "\u001b[34m\u001b[1mwandb\u001b[0m:   1 of 1 files downloaded.  \n"
     ]
    },
    {
     "name": "stdout",
     "output_type": "stream",
     "text": [
      "K_zz_softgp_protein_512_1024_0.001_6535_40:v4\n"
     ]
    },
    {
     "name": "stderr",
     "output_type": "stream",
     "text": [
      "\u001b[34m\u001b[1mwandb\u001b[0m:   1 of 1 files downloaded.  \n"
     ]
    },
    {
     "name": "stdout",
     "output_type": "stream",
     "text": [
      "inducing_points_softgp_protein_512_1024_0.001_6535_49:v4\n"
     ]
    },
    {
     "name": "stderr",
     "output_type": "stream",
     "text": [
      "\u001b[34m\u001b[1mwandb\u001b[0m:   1 of 1 files downloaded.  \n"
     ]
    },
    {
     "name": "stdout",
     "output_type": "stream",
     "text": [
      "K_zz_softgp_protein_512_1024_0.001_6535_49:v4\n"
     ]
    },
    {
     "name": "stderr",
     "output_type": "stream",
     "text": [
      "\u001b[34m\u001b[1mwandb\u001b[0m:   1 of 1 files downloaded.  \n"
     ]
    },
    {
     "name": "stdout",
     "output_type": "stream",
     "text": [
      "inducing_points_softgp_kin40k_512_1024_0.001_6535_0:v4\n"
     ]
    },
    {
     "name": "stderr",
     "output_type": "stream",
     "text": [
      "\u001b[34m\u001b[1mwandb\u001b[0m:   1 of 1 files downloaded.  \n"
     ]
    },
    {
     "name": "stdout",
     "output_type": "stream",
     "text": [
      "K_zz_softgp_kin40k_512_1024_0.001_6535_0:v4\n"
     ]
    },
    {
     "name": "stderr",
     "output_type": "stream",
     "text": [
      "\u001b[34m\u001b[1mwandb\u001b[0m:   1 of 1 files downloaded.  \n"
     ]
    },
    {
     "name": "stdout",
     "output_type": "stream",
     "text": [
      "inducing_points_softgp_kin40k_512_1024_0.001_6535_10:v4\n"
     ]
    },
    {
     "name": "stderr",
     "output_type": "stream",
     "text": [
      "\u001b[34m\u001b[1mwandb\u001b[0m:   1 of 1 files downloaded.  \n"
     ]
    },
    {
     "name": "stdout",
     "output_type": "stream",
     "text": [
      "K_zz_softgp_kin40k_512_1024_0.001_6535_10:v4\n"
     ]
    },
    {
     "name": "stderr",
     "output_type": "stream",
     "text": [
      "\u001b[34m\u001b[1mwandb\u001b[0m:   1 of 1 files downloaded.  \n"
     ]
    },
    {
     "name": "stdout",
     "output_type": "stream",
     "text": [
      "inducing_points_softgp_kin40k_512_1024_0.001_6535_20:v4\n"
     ]
    },
    {
     "name": "stderr",
     "output_type": "stream",
     "text": [
      "\u001b[34m\u001b[1mwandb\u001b[0m:   1 of 1 files downloaded.  \n"
     ]
    },
    {
     "name": "stdout",
     "output_type": "stream",
     "text": [
      "K_zz_softgp_kin40k_512_1024_0.001_6535_20:v4\n"
     ]
    },
    {
     "name": "stderr",
     "output_type": "stream",
     "text": [
      "\u001b[34m\u001b[1mwandb\u001b[0m:   1 of 1 files downloaded.  \n"
     ]
    },
    {
     "name": "stdout",
     "output_type": "stream",
     "text": [
      "inducing_points_softgp_kin40k_512_1024_0.001_6535_30:v4\n"
     ]
    },
    {
     "name": "stderr",
     "output_type": "stream",
     "text": [
      "\u001b[34m\u001b[1mwandb\u001b[0m:   1 of 1 files downloaded.  \n"
     ]
    },
    {
     "name": "stdout",
     "output_type": "stream",
     "text": [
      "K_zz_softgp_kin40k_512_1024_0.001_6535_30:v4\n"
     ]
    },
    {
     "name": "stderr",
     "output_type": "stream",
     "text": [
      "\u001b[34m\u001b[1mwandb\u001b[0m:   1 of 1 files downloaded.  \n"
     ]
    },
    {
     "name": "stdout",
     "output_type": "stream",
     "text": [
      "inducing_points_softgp_kin40k_512_1024_0.001_6535_40:v4\n"
     ]
    },
    {
     "name": "stderr",
     "output_type": "stream",
     "text": [
      "\u001b[34m\u001b[1mwandb\u001b[0m:   1 of 1 files downloaded.  \n"
     ]
    },
    {
     "name": "stdout",
     "output_type": "stream",
     "text": [
      "K_zz_softgp_kin40k_512_1024_0.001_6535_40:v4\n"
     ]
    },
    {
     "name": "stderr",
     "output_type": "stream",
     "text": [
      "\u001b[34m\u001b[1mwandb\u001b[0m:   1 of 1 files downloaded.  \n"
     ]
    },
    {
     "name": "stdout",
     "output_type": "stream",
     "text": [
      "inducing_points_softgp_kin40k_512_1024_0.001_6535_49:v4\n"
     ]
    },
    {
     "name": "stderr",
     "output_type": "stream",
     "text": [
      "\u001b[34m\u001b[1mwandb\u001b[0m:   1 of 1 files downloaded.  \n"
     ]
    },
    {
     "name": "stdout",
     "output_type": "stream",
     "text": [
      "K_zz_softgp_kin40k_512_1024_0.001_6535_49:v4\n"
     ]
    },
    {
     "name": "stderr",
     "output_type": "stream",
     "text": [
      "\u001b[34m\u001b[1mwandb\u001b[0m:   1 of 1 files downloaded.  \n"
     ]
    },
    {
     "name": "stdout",
     "output_type": "stream",
     "text": [
      "run-peroeikw-history:v0\n"
     ]
    },
    {
     "name": "stderr",
     "output_type": "stream",
     "text": [
      "\u001b[34m\u001b[1mwandb\u001b[0m:   1 of 1 files downloaded.  \n"
     ]
    },
    {
     "name": "stdout",
     "output_type": "stream",
     "text": [
      "inducing_points_softgp_bike_512_1024_0.001_6535_0:v6\n"
     ]
    },
    {
     "name": "stderr",
     "output_type": "stream",
     "text": [
      "\u001b[34m\u001b[1mwandb\u001b[0m:   1 of 1 files downloaded.  \n"
     ]
    },
    {
     "name": "stdout",
     "output_type": "stream",
     "text": [
      "K_zz_softgp_bike_512_1024_0.001_6535_0:v6\n"
     ]
    },
    {
     "name": "stderr",
     "output_type": "stream",
     "text": [
      "\u001b[34m\u001b[1mwandb\u001b[0m:   1 of 1 files downloaded.  \n"
     ]
    },
    {
     "name": "stdout",
     "output_type": "stream",
     "text": [
      "inducing_points_softgp_bike_512_1024_0.001_6535_10:v6\n"
     ]
    },
    {
     "name": "stderr",
     "output_type": "stream",
     "text": [
      "\u001b[34m\u001b[1mwandb\u001b[0m:   1 of 1 files downloaded.  \n"
     ]
    },
    {
     "name": "stdout",
     "output_type": "stream",
     "text": [
      "K_zz_softgp_bike_512_1024_0.001_6535_10:v6\n"
     ]
    },
    {
     "name": "stderr",
     "output_type": "stream",
     "text": [
      "\u001b[34m\u001b[1mwandb\u001b[0m:   1 of 1 files downloaded.  \n"
     ]
    },
    {
     "name": "stdout",
     "output_type": "stream",
     "text": [
      "inducing_points_softgp_bike_512_1024_0.001_6535_20:v5\n"
     ]
    },
    {
     "name": "stderr",
     "output_type": "stream",
     "text": [
      "\u001b[34m\u001b[1mwandb\u001b[0m:   1 of 1 files downloaded.  \n"
     ]
    },
    {
     "name": "stdout",
     "output_type": "stream",
     "text": [
      "K_zz_softgp_bike_512_1024_0.001_6535_20:v5\n"
     ]
    },
    {
     "name": "stderr",
     "output_type": "stream",
     "text": [
      "\u001b[34m\u001b[1mwandb\u001b[0m:   1 of 1 files downloaded.  \n"
     ]
    },
    {
     "name": "stdout",
     "output_type": "stream",
     "text": [
      "inducing_points_softgp_bike_512_1024_0.001_6535_30:v5\n"
     ]
    },
    {
     "name": "stderr",
     "output_type": "stream",
     "text": [
      "\u001b[34m\u001b[1mwandb\u001b[0m:   1 of 1 files downloaded.  \n"
     ]
    },
    {
     "name": "stdout",
     "output_type": "stream",
     "text": [
      "K_zz_softgp_bike_512_1024_0.001_6535_30:v5\n"
     ]
    },
    {
     "name": "stderr",
     "output_type": "stream",
     "text": [
      "\u001b[34m\u001b[1mwandb\u001b[0m:   1 of 1 files downloaded.  \n"
     ]
    },
    {
     "name": "stdout",
     "output_type": "stream",
     "text": [
      "inducing_points_softgp_bike_512_1024_0.001_6535_40:v5\n"
     ]
    },
    {
     "name": "stderr",
     "output_type": "stream",
     "text": [
      "\u001b[34m\u001b[1mwandb\u001b[0m:   1 of 1 files downloaded.  \n"
     ]
    },
    {
     "name": "stdout",
     "output_type": "stream",
     "text": [
      "K_zz_softgp_bike_512_1024_0.001_6535_40:v5\n"
     ]
    },
    {
     "name": "stderr",
     "output_type": "stream",
     "text": [
      "\u001b[34m\u001b[1mwandb\u001b[0m:   1 of 1 files downloaded.  \n"
     ]
    },
    {
     "name": "stdout",
     "output_type": "stream",
     "text": [
      "inducing_points_softgp_bike_512_1024_0.001_6535_49:v5\n"
     ]
    },
    {
     "name": "stderr",
     "output_type": "stream",
     "text": [
      "\u001b[34m\u001b[1mwandb\u001b[0m:   1 of 1 files downloaded.  \n"
     ]
    },
    {
     "name": "stdout",
     "output_type": "stream",
     "text": [
      "K_zz_softgp_bike_512_1024_0.001_6535_49:v5\n"
     ]
    },
    {
     "name": "stderr",
     "output_type": "stream",
     "text": [
      "\u001b[34m\u001b[1mwandb\u001b[0m:   1 of 1 files downloaded.  \n"
     ]
    },
    {
     "name": "stdout",
     "output_type": "stream",
     "text": [
      "inducing_points_softgp_elevators_512_1024_0.001_6535_0:v6\n"
     ]
    },
    {
     "name": "stderr",
     "output_type": "stream",
     "text": [
      "\u001b[34m\u001b[1mwandb\u001b[0m:   1 of 1 files downloaded.  \n"
     ]
    },
    {
     "name": "stdout",
     "output_type": "stream",
     "text": [
      "K_zz_softgp_elevators_512_1024_0.001_6535_0:v6\n"
     ]
    },
    {
     "name": "stderr",
     "output_type": "stream",
     "text": [
      "\u001b[34m\u001b[1mwandb\u001b[0m:   1 of 1 files downloaded.  \n"
     ]
    },
    {
     "name": "stdout",
     "output_type": "stream",
     "text": [
      "inducing_points_softgp_elevators_512_1024_0.001_6535_10:v6\n"
     ]
    },
    {
     "name": "stderr",
     "output_type": "stream",
     "text": [
      "\u001b[34m\u001b[1mwandb\u001b[0m:   1 of 1 files downloaded.  \n"
     ]
    },
    {
     "name": "stdout",
     "output_type": "stream",
     "text": [
      "K_zz_softgp_elevators_512_1024_0.001_6535_10:v6\n"
     ]
    },
    {
     "name": "stderr",
     "output_type": "stream",
     "text": [
      "\u001b[34m\u001b[1mwandb\u001b[0m:   1 of 1 files downloaded.  \n"
     ]
    },
    {
     "name": "stdout",
     "output_type": "stream",
     "text": [
      "inducing_points_softgp_elevators_512_1024_0.001_6535_20:v6\n"
     ]
    },
    {
     "name": "stderr",
     "output_type": "stream",
     "text": [
      "\u001b[34m\u001b[1mwandb\u001b[0m:   1 of 1 files downloaded.  \n"
     ]
    },
    {
     "name": "stdout",
     "output_type": "stream",
     "text": [
      "K_zz_softgp_elevators_512_1024_0.001_6535_20:v6\n"
     ]
    },
    {
     "name": "stderr",
     "output_type": "stream",
     "text": [
      "\u001b[34m\u001b[1mwandb\u001b[0m:   1 of 1 files downloaded.  \n"
     ]
    },
    {
     "name": "stdout",
     "output_type": "stream",
     "text": [
      "inducing_points_softgp_elevators_512_1024_0.001_6535_30:v6\n"
     ]
    },
    {
     "name": "stderr",
     "output_type": "stream",
     "text": [
      "\u001b[34m\u001b[1mwandb\u001b[0m:   1 of 1 files downloaded.  \n"
     ]
    },
    {
     "name": "stdout",
     "output_type": "stream",
     "text": [
      "K_zz_softgp_elevators_512_1024_0.001_6535_30:v6\n"
     ]
    },
    {
     "name": "stderr",
     "output_type": "stream",
     "text": [
      "\u001b[34m\u001b[1mwandb\u001b[0m:   1 of 1 files downloaded.  \n"
     ]
    },
    {
     "name": "stdout",
     "output_type": "stream",
     "text": [
      "inducing_points_softgp_elevators_512_1024_0.001_6535_40:v6\n"
     ]
    },
    {
     "name": "stderr",
     "output_type": "stream",
     "text": [
      "\u001b[34m\u001b[1mwandb\u001b[0m:   1 of 1 files downloaded.  \n"
     ]
    },
    {
     "name": "stdout",
     "output_type": "stream",
     "text": [
      "K_zz_softgp_elevators_512_1024_0.001_6535_40:v6\n"
     ]
    },
    {
     "name": "stderr",
     "output_type": "stream",
     "text": [
      "\u001b[34m\u001b[1mwandb\u001b[0m:   1 of 1 files downloaded.  \n"
     ]
    },
    {
     "name": "stdout",
     "output_type": "stream",
     "text": [
      "inducing_points_softgp_elevators_512_1024_0.001_6535_49:v6\n"
     ]
    },
    {
     "name": "stderr",
     "output_type": "stream",
     "text": [
      "\u001b[34m\u001b[1mwandb\u001b[0m:   1 of 1 files downloaded.  \n"
     ]
    },
    {
     "name": "stdout",
     "output_type": "stream",
     "text": [
      "K_zz_softgp_elevators_512_1024_0.001_6535_49:v6\n"
     ]
    },
    {
     "name": "stderr",
     "output_type": "stream",
     "text": [
      "\u001b[34m\u001b[1mwandb\u001b[0m:   1 of 1 files downloaded.  \n"
     ]
    },
    {
     "name": "stdout",
     "output_type": "stream",
     "text": [
      "run-7bxo4dz7-history:v0\n"
     ]
    },
    {
     "name": "stderr",
     "output_type": "stream",
     "text": [
      "\u001b[34m\u001b[1mwandb\u001b[0m:   1 of 1 files downloaded.  \n"
     ]
    },
    {
     "name": "stdout",
     "output_type": "stream",
     "text": [
      "inducing_points_softgp_pol_512_1024_0.001_6535_0:v6\n"
     ]
    },
    {
     "name": "stderr",
     "output_type": "stream",
     "text": [
      "\u001b[34m\u001b[1mwandb\u001b[0m:   1 of 1 files downloaded.  \n"
     ]
    },
    {
     "name": "stdout",
     "output_type": "stream",
     "text": [
      "K_zz_softgp_pol_512_1024_0.001_6535_0:v6\n"
     ]
    },
    {
     "name": "stderr",
     "output_type": "stream",
     "text": [
      "\u001b[34m\u001b[1mwandb\u001b[0m:   1 of 1 files downloaded.  \n"
     ]
    },
    {
     "name": "stdout",
     "output_type": "stream",
     "text": [
      "inducing_points_softgp_pol_512_1024_0.001_6535_10:v6\n"
     ]
    },
    {
     "name": "stderr",
     "output_type": "stream",
     "text": [
      "\u001b[34m\u001b[1mwandb\u001b[0m:   1 of 1 files downloaded.  \n"
     ]
    },
    {
     "name": "stdout",
     "output_type": "stream",
     "text": [
      "K_zz_softgp_pol_512_1024_0.001_6535_10:v6\n"
     ]
    },
    {
     "name": "stderr",
     "output_type": "stream",
     "text": [
      "\u001b[34m\u001b[1mwandb\u001b[0m:   1 of 1 files downloaded.  \n"
     ]
    },
    {
     "name": "stdout",
     "output_type": "stream",
     "text": [
      "inducing_points_softgp_pol_512_1024_0.001_6535_20:v6\n"
     ]
    },
    {
     "name": "stderr",
     "output_type": "stream",
     "text": [
      "\u001b[34m\u001b[1mwandb\u001b[0m:   1 of 1 files downloaded.  \n"
     ]
    },
    {
     "name": "stdout",
     "output_type": "stream",
     "text": [
      "K_zz_softgp_pol_512_1024_0.001_6535_20:v6\n"
     ]
    },
    {
     "name": "stderr",
     "output_type": "stream",
     "text": [
      "\u001b[34m\u001b[1mwandb\u001b[0m:   1 of 1 files downloaded.  \n"
     ]
    },
    {
     "name": "stdout",
     "output_type": "stream",
     "text": [
      "inducing_points_softgp_pol_512_1024_0.001_6535_30:v6\n"
     ]
    },
    {
     "name": "stderr",
     "output_type": "stream",
     "text": [
      "\u001b[34m\u001b[1mwandb\u001b[0m:   1 of 1 files downloaded.  \n"
     ]
    },
    {
     "name": "stdout",
     "output_type": "stream",
     "text": [
      "K_zz_softgp_pol_512_1024_0.001_6535_30:v6\n"
     ]
    },
    {
     "name": "stderr",
     "output_type": "stream",
     "text": [
      "\u001b[34m\u001b[1mwandb\u001b[0m:   1 of 1 files downloaded.  \n"
     ]
    },
    {
     "name": "stdout",
     "output_type": "stream",
     "text": [
      "inducing_points_softgp_pol_512_1024_0.001_6535_40:v6\n"
     ]
    },
    {
     "name": "stderr",
     "output_type": "stream",
     "text": [
      "\u001b[34m\u001b[1mwandb\u001b[0m:   1 of 1 files downloaded.  \n"
     ]
    },
    {
     "name": "stdout",
     "output_type": "stream",
     "text": [
      "K_zz_softgp_pol_512_1024_0.001_6535_40:v6\n"
     ]
    },
    {
     "name": "stderr",
     "output_type": "stream",
     "text": [
      "\u001b[34m\u001b[1mwandb\u001b[0m:   1 of 1 files downloaded.  \n"
     ]
    },
    {
     "name": "stdout",
     "output_type": "stream",
     "text": [
      "inducing_points_softgp_pol_512_1024_0.001_6535_49:v6\n"
     ]
    },
    {
     "name": "stderr",
     "output_type": "stream",
     "text": [
      "\u001b[34m\u001b[1mwandb\u001b[0m:   1 of 1 files downloaded.  \n"
     ]
    },
    {
     "name": "stdout",
     "output_type": "stream",
     "text": [
      "K_zz_softgp_pol_512_1024_0.001_6535_49:v6\n"
     ]
    },
    {
     "name": "stderr",
     "output_type": "stream",
     "text": [
      "\u001b[34m\u001b[1mwandb\u001b[0m:   1 of 1 files downloaded.  \n"
     ]
    },
    {
     "name": "stdout",
     "output_type": "stream",
     "text": [
      "run-ve8ckk66-history:v0\n"
     ]
    },
    {
     "name": "stderr",
     "output_type": "stream",
     "text": [
      "\u001b[34m\u001b[1mwandb\u001b[0m:   1 of 1 files downloaded.  \n"
     ]
    }
   ],
   "source": [
    "api = wandb.Api()\n",
    "for exp in tqdm(raw):\n",
    "    run = api.run(f'bogp/soft-gp-2/{exp.run.id}')\n",
    "    if exp.config[\"training.seed\"] == 6535:\n",
    "        for artifact in run.logged_artifacts():\n",
    "            print(artifact.name)\n",
    "            artifact.download(root=f\"mynoise/{artifact.name}/\")"
   ]
  },
  {
   "cell_type": "code",
   "execution_count": 14,
   "metadata": {},
   "outputs": [
    {
     "data": {
      "image/png": "[encoded data removed]",
      "text/plain": [
       "<Figure size 640x480 with 2 Axes>"
      ]
     },
     "metadata": {},
     "output_type": "display_data"
    }
   ],
   "source": [
    "dataset = \"elevators\"\n",
    "epoch = 49\n",
    "K_zz = np.load(f\"mynoise/K_zz_softgp_{dataset}_512_1024_0.001_6535_{epoch}:v6/K_zz.npy\")\n",
    "K_zz = K_zz[0:64,0:64]\n",
    "ax = plt.gca()\n",
    "ax.axis(\"off\")\n",
    "heatmap(K_zz, ax=ax, cmap='coolwarm', cbar=True, vmin=0, vmax=3)\n",
    "plt.savefig(\"elevators_learned_noise.png\", bbox_inches=\"tight\")"
   ]
  },
  {
   "cell_type": "code",
   "execution_count": 15,
   "metadata": {},
   "outputs": [
    {
     "data": {
      "image/png": "[encoded data removed]",
      "text/plain": [
       "<Figure size 640x480 with 2 Axes>"
      ]
     },
     "metadata": {},
     "output_type": "display_data"
    }
   ],
   "source": [
    "dataset = \"elevators\"\n",
    "epoch = 49\n",
    "K_zz = np.load(f\"mynoise-orig/K_zz_softgp_{dataset}_512_1024_0.001_6535_{epoch}:v5/K_zz.npy\")\n",
    "K_zz = K_zz[0:64,0:64]\n",
    "ax = plt.gca()\n",
    "ax.axis(\"off\")\n",
    "heatmap(K_zz, ax=ax, cmap='coolwarm', cbar=True, vmin=0, vmax=3)\n",
    "plt.savefig(\"elevators_fixed_noise.png\", bbox_inches=\"tight\")"
   ]
  },
  {
   "cell_type": "code",
   "execution_count": null,
   "metadata": {},
   "outputs": [],
   "source": [
    "import os\n",
    "api = wandb.Api()\n",
    "\n",
    "# runs2[(dataset, seed, num_inducing, train_frac, model)] = exp.run.id\n",
    "for model in models:\n",
    "    for dataset, _, _, _ in uci_info:\n",
    "        run = api.run(f\"bogp/soft-gp-2/{runs2[(dataset, 6535, 512, 0.9, model)]}\")\n",
    "        files = run.files()\n",
    "        image_files = [file for file in files if file.name.endswith('.png') or file.name.endswith('.jpg')]\n",
    "        for image in image_files:\n",
    "            iowrapper = image.download(replace=True, root=\"noise\")\n",
    "            iteration = int((iowrapper.name.split(\"/\")[-1]).split(\"_\")[2])\n",
    "            new_name = f\"noise/media/images/{model}_{dataset}_{iteration}.png\"\n",
    "            os.rename(iowrapper.name, new_name)\n"
   ]
  },
  {
   "cell_type": "code",
   "execution_count": null,
   "metadata": {},
   "outputs": [],
   "source": [
    "for model in models:\n",
    "    for dataset, _, _, _ in uci_info:\n",
    "        run = api.run(f\"bogp/soft-gp-2/{runs[(dataset, 6535, 512, 0.9, model, True)]}\")\n",
    "        files = run.files()\n",
    "        image_files = [file for file in files if file.name.endswith('.png') or file.name.endswith('.jpg')]\n",
    "        for image in image_files:\n",
    "            iowrapper = image.download(replace=True, root=\"noise\")\n",
    "            iteration = int((iowrapper.name.split(\"/\")[-1]).split(\"_\")[2])\n",
    "            new_name = f\"noise/media/images/{model}_learnnoise_{dataset}_{iteration}.png\"\n",
    "            os.rename(iowrapper.name, new_name)\n"
   ]
  },
  {
   "cell_type": "code",
   "execution_count": null,
   "metadata": {},
   "outputs": [],
   "source": []
  }
 ],
 "metadata": {
  "kernelspec": {
   "display_name": "softgp",
   "language": "python",
   "name": "python3"
  },
  "language_info": {
   "codemirror_mode": {
    "name": "ipython",
    "version": 3
   },
   "file_extension": ".py",
   "mimetype": "text/x-python",
   "name": "python",
   "nbconvert_exporter": "python",
   "pygments_lexer": "ipython3",
   "version": "3.11.9"
  }
 },
 "nbformat": 4,
 "nbformat_minor": 2
}
