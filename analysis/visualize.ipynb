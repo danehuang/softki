{
 "cells": [
  {
   "cell_type": "code",
   "execution_count": 1,
   "metadata": {},
   "outputs": [],
   "source": [
    "import pandas as pd\n",
    "import wandb\n",
    "from tqdm.notebook import tqdm\n",
    "import pickle\n",
    "import torch\n",
    "from os.path import exists\n",
    "import matplotlib\n",
    "import matplotlib.pyplot as plt\n",
    "import numpy as np\n",
    "import math\n",
    "from matplotlib.ticker import MaxNLocator\n",
    "from seaborn import heatmap\n",
    "from gpytorch.kernels import ScaleKernel, RBFKernel\n",
    "from gp.soft_gp.soft_gp import SoftGP\n",
    "\n",
    "from data.get_uci import all_datasets\n",
    "from analysis.util import fetch, init_uci_dict, get_uci_info"
   ]
  },
  {
   "cell_type": "code",
   "execution_count": 2,
   "metadata": {},
   "outputs": [
    {
     "name": "stderr",
     "output_type": "stream",
     "text": [
      "100%|██████████| 38/38 [00:16<00:00,  2.33it/s]\n"
     ]
    }
   ],
   "source": [
    "filters = {\n",
    "    \"group\": \"benchmark7\"\n",
    "}\n",
    "raw = fetch(\"soft-gp-2\", filters)"
   ]
  },
  {
   "cell_type": "code",
   "execution_count": 3,
   "metadata": {},
   "outputs": [],
   "source": [
    "uci_info = get_uci_info()"
   ]
  },
  {
   "cell_type": "code",
   "execution_count": 4,
   "metadata": {},
   "outputs": [
    {
     "name": "stdout",
     "output_type": "stream",
     "text": [
      "dict_keys([('elevators', 6535, 'exact'), ('pol', 6535, 'exact'), ('houseelectric', 92357, 'soft-gp'), ('houseelectric', 8830, 'soft-gp'), ('houseelectric', 6535, 'soft-gp'), ('buzz', 92357, 'soft-gp'), ('buzz', 8830, 'soft-gp'), ('buzz', 6535, 'soft-gp'), ('song', 92357, 'soft-gp'), ('song', 8830, 'soft-gp'), ('song', 6535, 'soft-gp'), ('3droad', 92357, 'soft-gp'), ('3droad', 8830, 'soft-gp'), ('3droad', 6535, 'soft-gp'), ('keggundirected', 92357, 'soft-gp'), ('keggundirected', 8830, 'soft-gp'), ('keggundirected', 6535, 'soft-gp'), ('slice', 92357, 'soft-gp'), ('slice', 8830, 'soft-gp'), ('slice', 6535, 'soft-gp'), ('keggdirected', 92357, 'soft-gp'), ('keggdirected', 8830, 'soft-gp'), ('keggdirected', 6535, 'soft-gp'), ('protein', 92357, 'soft-gp'), ('protein', 8830, 'soft-gp'), ('protein', 6535, 'soft-gp'), ('kin40k', 92357, 'soft-gp'), ('kin40k', 8830, 'soft-gp'), ('kin40k', 6535, 'soft-gp'), ('bike', 92357, 'soft-gp'), ('bike', 8830, 'soft-gp'), ('bike', 6535, 'soft-gp'), ('elevators', 92357, 'soft-gp'), ('elevators', 8830, 'soft-gp'), ('elevators', 6535, 'soft-gp'), ('pol', 92357, 'soft-gp'), ('pol', 8830, 'soft-gp'), ('pol', 6535, 'soft-gp')])\n"
     ]
    }
   ],
   "source": [
    "uci_dict = {}\n",
    "for exp in raw:\n",
    "    model = exp.config[\"model.name\"]\n",
    "    dataset = exp.config[\"dataset.name\"]\n",
    "    dtype = exp.config[\"model.dtype\"]\n",
    "    seed = exp.config[\"training.seed\"]\n",
    "    train_frac = float(exp.config[\"dataset.train_frac\"])\n",
    "    uci_dict[(dataset, seed, model)] = exp.history\n",
    "\n",
    "print(uci_dict.keys())"
   ]
  },
  {
   "cell_type": "code",
   "execution_count": 5,
   "metadata": {},
   "outputs": [
    {
     "data": {
      "text/html": [
       "<div>\n",
       "<style scoped>\n",
       "    .dataframe tbody tr th:only-of-type {\n",
       "        vertical-align: middle;\n",
       "    }\n",
       "\n",
       "    .dataframe tbody tr th {\n",
       "        vertical-align: top;\n",
       "    }\n",
       "\n",
       "    .dataframe thead th {\n",
       "        text-align: right;\n",
       "    }\n",
       "</style>\n",
       "<table border=\"1\" class=\"dataframe\">\n",
       "  <thead>\n",
       "    <tr style=\"text-align: right;\">\n",
       "      <th></th>\n",
       "      <th>N</th>\n",
       "      <th>D</th>\n",
       "      <th>soft-gp-6535</th>\n",
       "      <th>time-soft-gp-6535</th>\n",
       "      <th>soft-gp-8830</th>\n",
       "      <th>time-soft-gp-8830</th>\n",
       "      <th>soft-gp-92357</th>\n",
       "      <th>time-soft-gp-92357</th>\n",
       "    </tr>\n",
       "  </thead>\n",
       "  <tbody>\n",
       "    <tr>\n",
       "      <th>Pol</th>\n",
       "      <td>13500</td>\n",
       "      <td>26</td>\n",
       "      <td>0.189090</td>\n",
       "      <td>0.917688</td>\n",
       "      <td>0.201634</td>\n",
       "      <td>0.949362</td>\n",
       "      <td>0.194142</td>\n",
       "      <td>1.004369</td>\n",
       "    </tr>\n",
       "    <tr>\n",
       "      <th>Elevators</th>\n",
       "      <td>14939</td>\n",
       "      <td>18</td>\n",
       "      <td>0.391163</td>\n",
       "      <td>1.070552</td>\n",
       "      <td>0.397475</td>\n",
       "      <td>1.042269</td>\n",
       "      <td>0.377955</td>\n",
       "      <td>1.003453</td>\n",
       "    </tr>\n",
       "    <tr>\n",
       "      <th>Bike</th>\n",
       "      <td>15641</td>\n",
       "      <td>17</td>\n",
       "      <td>0.207340</td>\n",
       "      <td>1.080615</td>\n",
       "      <td>0.207691</td>\n",
       "      <td>1.057707</td>\n",
       "      <td>0.197687</td>\n",
       "      <td>1.026268</td>\n",
       "    </tr>\n",
       "    <tr>\n",
       "      <th>Kin40k</th>\n",
       "      <td>36000</td>\n",
       "      <td>8</td>\n",
       "      <td>0.242822</td>\n",
       "      <td>2.590711</td>\n",
       "      <td>0.228540</td>\n",
       "      <td>2.540294</td>\n",
       "      <td>0.240351</td>\n",
       "      <td>2.630915</td>\n",
       "    </tr>\n",
       "    <tr>\n",
       "      <th>Protein</th>\n",
       "      <td>41157</td>\n",
       "      <td>9</td>\n",
       "      <td>0.656439</td>\n",
       "      <td>2.685682</td>\n",
       "      <td>0.637273</td>\n",
       "      <td>2.701648</td>\n",
       "      <td>0.652695</td>\n",
       "      <td>2.642476</td>\n",
       "    </tr>\n",
       "    <tr>\n",
       "      <th>Keggdirected</th>\n",
       "      <td>43944</td>\n",
       "      <td>20</td>\n",
       "      <td>0.078730</td>\n",
       "      <td>2.953385</td>\n",
       "      <td>0.077663</td>\n",
       "      <td>3.016233</td>\n",
       "      <td>0.086821</td>\n",
       "      <td>2.957597</td>\n",
       "    </tr>\n",
       "    <tr>\n",
       "      <th>Slice</th>\n",
       "      <td>48150</td>\n",
       "      <td>385</td>\n",
       "      <td>0.050872</td>\n",
       "      <td>3.313494</td>\n",
       "      <td>0.046226</td>\n",
       "      <td>3.369051</td>\n",
       "      <td>0.049981</td>\n",
       "      <td>3.317592</td>\n",
       "    </tr>\n",
       "    <tr>\n",
       "      <th>Keggundirected</th>\n",
       "      <td>57247</td>\n",
       "      <td>27</td>\n",
       "      <td>0.116529</td>\n",
       "      <td>3.694599</td>\n",
       "      <td>0.110729</td>\n",
       "      <td>3.612519</td>\n",
       "      <td>0.118467</td>\n",
       "      <td>3.686946</td>\n",
       "    </tr>\n",
       "    <tr>\n",
       "      <th>3droad</th>\n",
       "      <td>391386</td>\n",
       "      <td>3</td>\n",
       "      <td>0.605115</td>\n",
       "      <td>24.494310</td>\n",
       "      <td>0.600449</td>\n",
       "      <td>24.257876</td>\n",
       "      <td>0.605276</td>\n",
       "      <td>24.377816</td>\n",
       "    </tr>\n",
       "    <tr>\n",
       "      <th>Song</th>\n",
       "      <td>270000</td>\n",
       "      <td>90</td>\n",
       "      <td>0.799294</td>\n",
       "      <td>17.721366</td>\n",
       "      <td>0.789860</td>\n",
       "      <td>17.350316</td>\n",
       "      <td>0.791015</td>\n",
       "      <td>17.461972</td>\n",
       "    </tr>\n",
       "    <tr>\n",
       "      <th>Buzz</th>\n",
       "      <td>524925</td>\n",
       "      <td>77</td>\n",
       "      <td>0.254344</td>\n",
       "      <td>34.518749</td>\n",
       "      <td>0.253844</td>\n",
       "      <td>34.072586</td>\n",
       "      <td>0.252154</td>\n",
       "      <td>33.492719</td>\n",
       "    </tr>\n",
       "    <tr>\n",
       "      <th>Houseelectric</th>\n",
       "      <td>1844352</td>\n",
       "      <td>11</td>\n",
       "      <td>0.064528</td>\n",
       "      <td>119.121440</td>\n",
       "      <td>0.063271</td>\n",
       "      <td>119.029969</td>\n",
       "      <td>0.065559</td>\n",
       "      <td>116.798480</td>\n",
       "    </tr>\n",
       "  </tbody>\n",
       "</table>\n",
       "</div>"
      ],
      "text/plain": [
       "                      N    D  soft-gp-6535  time-soft-gp-6535  soft-gp-8830  \\\n",
       "Pol               13500   26      0.189090           0.917688      0.201634   \n",
       "Elevators         14939   18      0.391163           1.070552      0.397475   \n",
       "Bike              15641   17      0.207340           1.080615      0.207691   \n",
       "Kin40k            36000    8      0.242822           2.590711      0.228540   \n",
       "Protein           41157    9      0.656439           2.685682      0.637273   \n",
       "Keggdirected      43944   20      0.078730           2.953385      0.077663   \n",
       "Slice             48150  385      0.050872           3.313494      0.046226   \n",
       "Keggundirected    57247   27      0.116529           3.694599      0.110729   \n",
       "3droad           391386    3      0.605115          24.494310      0.600449   \n",
       "Song             270000   90      0.799294          17.721366      0.789860   \n",
       "Buzz             524925   77      0.254344          34.518749      0.253844   \n",
       "Houseelectric   1844352   11      0.064528         119.121440      0.063271   \n",
       "\n",
       "                time-soft-gp-8830  soft-gp-92357  time-soft-gp-92357  \n",
       "Pol                      0.949362       0.194142            1.004369  \n",
       "Elevators                1.042269       0.377955            1.003453  \n",
       "Bike                     1.057707       0.197687            1.026268  \n",
       "Kin40k                   2.540294       0.240351            2.630915  \n",
       "Protein                  2.701648       0.652695            2.642476  \n",
       "Keggdirected             3.016233       0.086821            2.957597  \n",
       "Slice                    3.369051       0.049981            3.317592  \n",
       "Keggundirected           3.612519       0.118467            3.686946  \n",
       "3droad                  24.257876       0.605276           24.377816  \n",
       "Song                    17.350316       0.791015           17.461972  \n",
       "Buzz                    34.072586       0.252154           33.492719  \n",
       "Houseelectric          119.029969       0.065559          116.798480  "
      ]
     },
     "execution_count": 5,
     "metadata": {},
     "output_type": "execute_result"
    }
   ],
   "source": [
    "seeds = [6535, 8830, 92357]\n",
    "num_inducings = [512]\n",
    "tmp = {\n",
    "    \"N\": [int(np.floor(N * 0.9)) for _, N, _, _ in uci_info],\n",
    "    \"D\": [D for _, _, D, _ in uci_info],\n",
    "}\n",
    "models = [\"soft-gp\"]\n",
    "\n",
    "for seed in seeds:\n",
    "    for model in models:\n",
    "        xs = []\n",
    "        ts = []\n",
    "        ls = []\n",
    "        for dataset, _, _, _ in uci_info:\n",
    "            try:\n",
    "                xs += [uci_dict[(dataset, seed, model)][\"test_rmse\"][49]]\n",
    "                ts += [np.array(uci_dict[(dataset, seed, model)][\"epoch_time\"][49]).mean()]\n",
    "                ls += [uci_dict[(dataset, seed, model)][\"lengthscale\"][49]]\n",
    "            except Exception as e:\n",
    "                xs += [np.nan]\n",
    "                ts += [np.nan]\n",
    "                ls += [np.nan]\n",
    "                print(\"Exception\", e, model, dataset)\n",
    "\n",
    "        tmp[f\"{model}-{seed}\"] = xs\n",
    "        tmp[f\"time-{model}-{seed}\"] = ts\n",
    "        tmp[f\"time-{model}-{seed}\"] = ts\n",
    "df = pd.DataFrame(data=tmp)\n",
    "df.index = [name.capitalize().replace(\"_\", \"-\") for name, _, _, _ in uci_info]\n",
    "df"
   ]
  },
  {
   "cell_type": "code",
   "execution_count": 6,
   "metadata": {},
   "outputs": [
    {
     "data": {
      "application/vnd.jupyter.widget-view+json": {
       "model_id": "77aef7de7be0404b97f4170669283ffb",
       "version_major": 2,
       "version_minor": 0
      },
      "text/plain": [
       "  0%|          | 0/38 [00:00<?, ?it/s]"
      ]
     },
     "metadata": {},
     "output_type": "display_data"
    },
    {
     "name": "stdout",
     "output_type": "stream",
     "text": [
      "run-cnfrhb96-history:v0\n"
     ]
    },
    {
     "name": "stderr",
     "output_type": "stream",
     "text": [
      "\u001b[34m\u001b[1mwandb\u001b[0m:   1 of 1 files downloaded.  \n"
     ]
    },
    {
     "name": "stdout",
     "output_type": "stream",
     "text": [
      "run-fyqdmbkx-history:v0\n"
     ]
    },
    {
     "name": "stderr",
     "output_type": "stream",
     "text": [
      "\u001b[34m\u001b[1mwandb\u001b[0m:   1 of 1 files downloaded.  \n"
     ]
    },
    {
     "name": "stdout",
     "output_type": "stream",
     "text": [
      "inducing_points_softgp_houseelectric_512_1024_0.001_6535_0:v0\n"
     ]
    },
    {
     "name": "stderr",
     "output_type": "stream",
     "text": [
      "\u001b[34m\u001b[1mwandb\u001b[0m:   1 of 1 files downloaded.  \n"
     ]
    },
    {
     "name": "stdout",
     "output_type": "stream",
     "text": [
      "K_zz_softgp_houseelectric_512_1024_0.001_6535_0:v0\n"
     ]
    },
    {
     "name": "stderr",
     "output_type": "stream",
     "text": [
      "\u001b[34m\u001b[1mwandb\u001b[0m:   1 of 1 files downloaded.  \n"
     ]
    },
    {
     "name": "stdout",
     "output_type": "stream",
     "text": [
      "inducing_points_softgp_houseelectric_512_1024_0.001_6535_10:v0\n"
     ]
    },
    {
     "name": "stderr",
     "output_type": "stream",
     "text": [
      "\u001b[34m\u001b[1mwandb\u001b[0m:   1 of 1 files downloaded.  \n"
     ]
    },
    {
     "name": "stdout",
     "output_type": "stream",
     "text": [
      "K_zz_softgp_houseelectric_512_1024_0.001_6535_10:v0\n"
     ]
    },
    {
     "name": "stderr",
     "output_type": "stream",
     "text": [
      "\u001b[34m\u001b[1mwandb\u001b[0m:   1 of 1 files downloaded.  \n"
     ]
    },
    {
     "name": "stdout",
     "output_type": "stream",
     "text": [
      "inducing_points_softgp_houseelectric_512_1024_0.001_6535_20:v0\n"
     ]
    },
    {
     "name": "stderr",
     "output_type": "stream",
     "text": [
      "\u001b[34m\u001b[1mwandb\u001b[0m:   1 of 1 files downloaded.  \n"
     ]
    },
    {
     "name": "stdout",
     "output_type": "stream",
     "text": [
      "K_zz_softgp_houseelectric_512_1024_0.001_6535_20:v0\n"
     ]
    },
    {
     "name": "stderr",
     "output_type": "stream",
     "text": [
      "\u001b[34m\u001b[1mwandb\u001b[0m:   1 of 1 files downloaded.  \n"
     ]
    },
    {
     "name": "stdout",
     "output_type": "stream",
     "text": [
      "inducing_points_softgp_houseelectric_512_1024_0.001_6535_30:v0\n"
     ]
    },
    {
     "name": "stderr",
     "output_type": "stream",
     "text": [
      "\u001b[34m\u001b[1mwandb\u001b[0m:   1 of 1 files downloaded.  \n"
     ]
    },
    {
     "name": "stdout",
     "output_type": "stream",
     "text": [
      "K_zz_softgp_houseelectric_512_1024_0.001_6535_30:v0\n"
     ]
    },
    {
     "name": "stderr",
     "output_type": "stream",
     "text": [
      "\u001b[34m\u001b[1mwandb\u001b[0m:   1 of 1 files downloaded.  \n"
     ]
    },
    {
     "name": "stdout",
     "output_type": "stream",
     "text": [
      "inducing_points_softgp_houseelectric_512_1024_0.001_6535_40:v0\n"
     ]
    },
    {
     "name": "stderr",
     "output_type": "stream",
     "text": [
      "\u001b[34m\u001b[1mwandb\u001b[0m:   1 of 1 files downloaded.  \n"
     ]
    },
    {
     "name": "stdout",
     "output_type": "stream",
     "text": [
      "K_zz_softgp_houseelectric_512_1024_0.001_6535_40:v0\n"
     ]
    },
    {
     "name": "stderr",
     "output_type": "stream",
     "text": [
      "\u001b[34m\u001b[1mwandb\u001b[0m:   1 of 1 files downloaded.  \n"
     ]
    },
    {
     "name": "stdout",
     "output_type": "stream",
     "text": [
      "inducing_points_softgp_houseelectric_512_1024_0.001_6535_49:v0\n"
     ]
    },
    {
     "name": "stderr",
     "output_type": "stream",
     "text": [
      "\u001b[34m\u001b[1mwandb\u001b[0m:   1 of 1 files downloaded.  \n"
     ]
    },
    {
     "name": "stdout",
     "output_type": "stream",
     "text": [
      "K_zz_softgp_houseelectric_512_1024_0.001_6535_49:v0\n"
     ]
    },
    {
     "name": "stderr",
     "output_type": "stream",
     "text": [
      "\u001b[34m\u001b[1mwandb\u001b[0m:   1 of 1 files downloaded.  \n"
     ]
    },
    {
     "name": "stdout",
     "output_type": "stream",
     "text": [
      "run-74db646q-history:v0\n"
     ]
    },
    {
     "name": "stderr",
     "output_type": "stream",
     "text": [
      "\u001b[34m\u001b[1mwandb\u001b[0m:   1 of 1 files downloaded.  \n"
     ]
    },
    {
     "name": "stdout",
     "output_type": "stream",
     "text": [
      "inducing_points_softgp_buzz_512_1024_0.001_6535_0:v0\n"
     ]
    },
    {
     "name": "stderr",
     "output_type": "stream",
     "text": [
      "\u001b[34m\u001b[1mwandb\u001b[0m:   1 of 1 files downloaded.  \n"
     ]
    },
    {
     "name": "stdout",
     "output_type": "stream",
     "text": [
      "K_zz_softgp_buzz_512_1024_0.001_6535_0:v0\n"
     ]
    },
    {
     "name": "stderr",
     "output_type": "stream",
     "text": [
      "\u001b[34m\u001b[1mwandb\u001b[0m:   1 of 1 files downloaded.  \n"
     ]
    },
    {
     "name": "stdout",
     "output_type": "stream",
     "text": [
      "inducing_points_softgp_buzz_512_1024_0.001_6535_10:v0\n"
     ]
    },
    {
     "name": "stderr",
     "output_type": "stream",
     "text": [
      "\u001b[34m\u001b[1mwandb\u001b[0m:   1 of 1 files downloaded.  \n"
     ]
    },
    {
     "name": "stdout",
     "output_type": "stream",
     "text": [
      "K_zz_softgp_buzz_512_1024_0.001_6535_10:v0\n"
     ]
    },
    {
     "name": "stderr",
     "output_type": "stream",
     "text": [
      "\u001b[34m\u001b[1mwandb\u001b[0m:   1 of 1 files downloaded.  \n"
     ]
    },
    {
     "name": "stdout",
     "output_type": "stream",
     "text": [
      "inducing_points_softgp_buzz_512_1024_0.001_6535_20:v0\n"
     ]
    },
    {
     "name": "stderr",
     "output_type": "stream",
     "text": [
      "\u001b[34m\u001b[1mwandb\u001b[0m:   1 of 1 files downloaded.  \n"
     ]
    },
    {
     "name": "stdout",
     "output_type": "stream",
     "text": [
      "K_zz_softgp_buzz_512_1024_0.001_6535_20:v0\n"
     ]
    },
    {
     "name": "stderr",
     "output_type": "stream",
     "text": [
      "\u001b[34m\u001b[1mwandb\u001b[0m:   1 of 1 files downloaded.  \n"
     ]
    },
    {
     "name": "stdout",
     "output_type": "stream",
     "text": [
      "inducing_points_softgp_buzz_512_1024_0.001_6535_30:v0\n"
     ]
    },
    {
     "name": "stderr",
     "output_type": "stream",
     "text": [
      "\u001b[34m\u001b[1mwandb\u001b[0m:   1 of 1 files downloaded.  \n"
     ]
    },
    {
     "name": "stdout",
     "output_type": "stream",
     "text": [
      "K_zz_softgp_buzz_512_1024_0.001_6535_30:v0\n"
     ]
    },
    {
     "name": "stderr",
     "output_type": "stream",
     "text": [
      "\u001b[34m\u001b[1mwandb\u001b[0m:   1 of 1 files downloaded.  \n"
     ]
    },
    {
     "name": "stdout",
     "output_type": "stream",
     "text": [
      "inducing_points_softgp_buzz_512_1024_0.001_6535_40:v0\n"
     ]
    },
    {
     "name": "stderr",
     "output_type": "stream",
     "text": [
      "\u001b[34m\u001b[1mwandb\u001b[0m:   1 of 1 files downloaded.  \n"
     ]
    },
    {
     "name": "stdout",
     "output_type": "stream",
     "text": [
      "K_zz_softgp_buzz_512_1024_0.001_6535_40:v0\n"
     ]
    },
    {
     "name": "stderr",
     "output_type": "stream",
     "text": [
      "\u001b[34m\u001b[1mwandb\u001b[0m:   1 of 1 files downloaded.  \n"
     ]
    },
    {
     "name": "stdout",
     "output_type": "stream",
     "text": [
      "inducing_points_softgp_buzz_512_1024_0.001_6535_49:v0\n"
     ]
    },
    {
     "name": "stderr",
     "output_type": "stream",
     "text": [
      "\u001b[34m\u001b[1mwandb\u001b[0m:   1 of 1 files downloaded.  \n"
     ]
    },
    {
     "name": "stdout",
     "output_type": "stream",
     "text": [
      "K_zz_softgp_buzz_512_1024_0.001_6535_49:v0\n"
     ]
    },
    {
     "name": "stderr",
     "output_type": "stream",
     "text": [
      "\u001b[34m\u001b[1mwandb\u001b[0m:   1 of 1 files downloaded.  \n"
     ]
    },
    {
     "name": "stdout",
     "output_type": "stream",
     "text": [
      "run-kx5m73hs-history:v0\n"
     ]
    },
    {
     "name": "stderr",
     "output_type": "stream",
     "text": [
      "\u001b[34m\u001b[1mwandb\u001b[0m:   1 of 1 files downloaded.  \n"
     ]
    },
    {
     "name": "stdout",
     "output_type": "stream",
     "text": [
      "inducing_points_softgp_song_512_1024_0.001_6535_0:v0\n"
     ]
    },
    {
     "name": "stderr",
     "output_type": "stream",
     "text": [
      "\u001b[34m\u001b[1mwandb\u001b[0m:   1 of 1 files downloaded.  \n"
     ]
    },
    {
     "name": "stdout",
     "output_type": "stream",
     "text": [
      "K_zz_softgp_song_512_1024_0.001_6535_0:v0\n"
     ]
    },
    {
     "name": "stderr",
     "output_type": "stream",
     "text": [
      "\u001b[34m\u001b[1mwandb\u001b[0m:   1 of 1 files downloaded.  \n"
     ]
    },
    {
     "name": "stdout",
     "output_type": "stream",
     "text": [
      "inducing_points_softgp_song_512_1024_0.001_6535_10:v0\n"
     ]
    },
    {
     "name": "stderr",
     "output_type": "stream",
     "text": [
      "\u001b[34m\u001b[1mwandb\u001b[0m:   1 of 1 files downloaded.  \n"
     ]
    },
    {
     "name": "stdout",
     "output_type": "stream",
     "text": [
      "K_zz_softgp_song_512_1024_0.001_6535_10:v0\n"
     ]
    },
    {
     "name": "stderr",
     "output_type": "stream",
     "text": [
      "\u001b[34m\u001b[1mwandb\u001b[0m:   1 of 1 files downloaded.  \n"
     ]
    },
    {
     "name": "stdout",
     "output_type": "stream",
     "text": [
      "inducing_points_softgp_song_512_1024_0.001_6535_20:v0\n"
     ]
    },
    {
     "name": "stderr",
     "output_type": "stream",
     "text": [
      "\u001b[34m\u001b[1mwandb\u001b[0m:   1 of 1 files downloaded.  \n"
     ]
    },
    {
     "name": "stdout",
     "output_type": "stream",
     "text": [
      "K_zz_softgp_song_512_1024_0.001_6535_20:v0\n"
     ]
    },
    {
     "name": "stderr",
     "output_type": "stream",
     "text": [
      "\u001b[34m\u001b[1mwandb\u001b[0m:   1 of 1 files downloaded.  \n"
     ]
    },
    {
     "name": "stdout",
     "output_type": "stream",
     "text": [
      "inducing_points_softgp_song_512_1024_0.001_6535_30:v0\n"
     ]
    },
    {
     "name": "stderr",
     "output_type": "stream",
     "text": [
      "\u001b[34m\u001b[1mwandb\u001b[0m:   1 of 1 files downloaded.  \n"
     ]
    },
    {
     "name": "stdout",
     "output_type": "stream",
     "text": [
      "K_zz_softgp_song_512_1024_0.001_6535_30:v0\n"
     ]
    },
    {
     "name": "stderr",
     "output_type": "stream",
     "text": [
      "\u001b[34m\u001b[1mwandb\u001b[0m:   1 of 1 files downloaded.  \n"
     ]
    },
    {
     "name": "stdout",
     "output_type": "stream",
     "text": [
      "inducing_points_softgp_song_512_1024_0.001_6535_40:v0\n"
     ]
    },
    {
     "name": "stderr",
     "output_type": "stream",
     "text": [
      "\u001b[34m\u001b[1mwandb\u001b[0m:   1 of 1 files downloaded.  \n"
     ]
    },
    {
     "name": "stdout",
     "output_type": "stream",
     "text": [
      "K_zz_softgp_song_512_1024_0.001_6535_40:v0\n"
     ]
    },
    {
     "name": "stderr",
     "output_type": "stream",
     "text": [
      "\u001b[34m\u001b[1mwandb\u001b[0m:   1 of 1 files downloaded.  \n"
     ]
    },
    {
     "name": "stdout",
     "output_type": "stream",
     "text": [
      "inducing_points_softgp_song_512_1024_0.001_6535_49:v0\n"
     ]
    },
    {
     "name": "stderr",
     "output_type": "stream",
     "text": [
      "\u001b[34m\u001b[1mwandb\u001b[0m:   1 of 1 files downloaded.  \n"
     ]
    },
    {
     "name": "stdout",
     "output_type": "stream",
     "text": [
      "K_zz_softgp_song_512_1024_0.001_6535_49:v0\n"
     ]
    },
    {
     "name": "stderr",
     "output_type": "stream",
     "text": [
      "\u001b[34m\u001b[1mwandb\u001b[0m:   1 of 1 files downloaded.  \n"
     ]
    },
    {
     "name": "stdout",
     "output_type": "stream",
     "text": [
      "run-v22l4p14-history:v0\n"
     ]
    },
    {
     "name": "stderr",
     "output_type": "stream",
     "text": [
      "\u001b[34m\u001b[1mwandb\u001b[0m:   1 of 1 files downloaded.  \n"
     ]
    },
    {
     "name": "stdout",
     "output_type": "stream",
     "text": [
      "inducing_points_softgp_3droad_512_1024_0.001_6535_0:v0\n"
     ]
    },
    {
     "name": "stderr",
     "output_type": "stream",
     "text": [
      "\u001b[34m\u001b[1mwandb\u001b[0m:   1 of 1 files downloaded.  \n"
     ]
    },
    {
     "name": "stdout",
     "output_type": "stream",
     "text": [
      "K_zz_softgp_3droad_512_1024_0.001_6535_0:v0\n"
     ]
    },
    {
     "name": "stderr",
     "output_type": "stream",
     "text": [
      "\u001b[34m\u001b[1mwandb\u001b[0m:   1 of 1 files downloaded.  \n"
     ]
    },
    {
     "name": "stdout",
     "output_type": "stream",
     "text": [
      "inducing_points_softgp_3droad_512_1024_0.001_6535_10:v0\n"
     ]
    },
    {
     "name": "stderr",
     "output_type": "stream",
     "text": [
      "\u001b[34m\u001b[1mwandb\u001b[0m:   1 of 1 files downloaded.  \n"
     ]
    },
    {
     "name": "stdout",
     "output_type": "stream",
     "text": [
      "K_zz_softgp_3droad_512_1024_0.001_6535_10:v0\n"
     ]
    },
    {
     "name": "stderr",
     "output_type": "stream",
     "text": [
      "\u001b[34m\u001b[1mwandb\u001b[0m:   1 of 1 files downloaded.  \n"
     ]
    },
    {
     "name": "stdout",
     "output_type": "stream",
     "text": [
      "inducing_points_softgp_3droad_512_1024_0.001_6535_20:v0\n"
     ]
    },
    {
     "name": "stderr",
     "output_type": "stream",
     "text": [
      "\u001b[34m\u001b[1mwandb\u001b[0m:   1 of 1 files downloaded.  \n"
     ]
    },
    {
     "name": "stdout",
     "output_type": "stream",
     "text": [
      "K_zz_softgp_3droad_512_1024_0.001_6535_20:v0\n"
     ]
    },
    {
     "name": "stderr",
     "output_type": "stream",
     "text": [
      "\u001b[34m\u001b[1mwandb\u001b[0m:   1 of 1 files downloaded.  \n"
     ]
    },
    {
     "name": "stdout",
     "output_type": "stream",
     "text": [
      "inducing_points_softgp_3droad_512_1024_0.001_6535_30:v0\n"
     ]
    },
    {
     "name": "stderr",
     "output_type": "stream",
     "text": [
      "\u001b[34m\u001b[1mwandb\u001b[0m:   1 of 1 files downloaded.  \n"
     ]
    },
    {
     "name": "stdout",
     "output_type": "stream",
     "text": [
      "K_zz_softgp_3droad_512_1024_0.001_6535_30:v0\n"
     ]
    },
    {
     "name": "stderr",
     "output_type": "stream",
     "text": [
      "\u001b[34m\u001b[1mwandb\u001b[0m:   1 of 1 files downloaded.  \n"
     ]
    },
    {
     "name": "stdout",
     "output_type": "stream",
     "text": [
      "inducing_points_softgp_3droad_512_1024_0.001_6535_40:v0\n"
     ]
    },
    {
     "name": "stderr",
     "output_type": "stream",
     "text": [
      "\u001b[34m\u001b[1mwandb\u001b[0m:   1 of 1 files downloaded.  \n"
     ]
    },
    {
     "name": "stdout",
     "output_type": "stream",
     "text": [
      "K_zz_softgp_3droad_512_1024_0.001_6535_40:v0\n"
     ]
    },
    {
     "name": "stderr",
     "output_type": "stream",
     "text": [
      "\u001b[34m\u001b[1mwandb\u001b[0m:   1 of 1 files downloaded.  \n"
     ]
    },
    {
     "name": "stdout",
     "output_type": "stream",
     "text": [
      "inducing_points_softgp_3droad_512_1024_0.001_6535_49:v0\n"
     ]
    },
    {
     "name": "stderr",
     "output_type": "stream",
     "text": [
      "\u001b[34m\u001b[1mwandb\u001b[0m:   1 of 1 files downloaded.  \n"
     ]
    },
    {
     "name": "stdout",
     "output_type": "stream",
     "text": [
      "K_zz_softgp_3droad_512_1024_0.001_6535_49:v0\n"
     ]
    },
    {
     "name": "stderr",
     "output_type": "stream",
     "text": [
      "\u001b[34m\u001b[1mwandb\u001b[0m:   1 of 1 files downloaded.  \n"
     ]
    },
    {
     "name": "stdout",
     "output_type": "stream",
     "text": [
      "run-uo923rn7-history:v0\n"
     ]
    },
    {
     "name": "stderr",
     "output_type": "stream",
     "text": [
      "\u001b[34m\u001b[1mwandb\u001b[0m:   1 of 1 files downloaded.  \n"
     ]
    },
    {
     "name": "stdout",
     "output_type": "stream",
     "text": [
      "inducing_points_softgp_keggundirected_512_1024_0.001_6535_0:v0\n"
     ]
    },
    {
     "name": "stderr",
     "output_type": "stream",
     "text": [
      "\u001b[34m\u001b[1mwandb\u001b[0m:   1 of 1 files downloaded.  \n"
     ]
    },
    {
     "name": "stdout",
     "output_type": "stream",
     "text": [
      "W_xz_softgp_keggundirected_512_1024_0.001_6535_0:v0\n"
     ]
    },
    {
     "name": "stderr",
     "output_type": "stream",
     "text": [
      "\u001b[34m\u001b[1mwandb\u001b[0m: Downloading large artifact W_xz_softgp_keggundirected_512_1024_0.001_6535_0:v0, 111.81MB. 1 files... \n",
      "\u001b[34m\u001b[1mwandb\u001b[0m:   1 of 1 files downloaded.  \n",
      "Done. 0:0:0.3\n"
     ]
    },
    {
     "name": "stdout",
     "output_type": "stream",
     "text": [
      "K_zz_softgp_keggundirected_512_1024_0.001_6535_0:v0\n"
     ]
    },
    {
     "name": "stderr",
     "output_type": "stream",
     "text": [
      "\u001b[34m\u001b[1mwandb\u001b[0m:   1 of 1 files downloaded.  \n"
     ]
    },
    {
     "name": "stdout",
     "output_type": "stream",
     "text": [
      "inducing_points_softgp_keggundirected_512_1024_0.001_6535_10:v0\n"
     ]
    },
    {
     "name": "stderr",
     "output_type": "stream",
     "text": [
      "\u001b[34m\u001b[1mwandb\u001b[0m:   1 of 1 files downloaded.  \n"
     ]
    },
    {
     "name": "stdout",
     "output_type": "stream",
     "text": [
      "W_xz_softgp_keggundirected_512_1024_0.001_6535_10:v0\n"
     ]
    },
    {
     "name": "stderr",
     "output_type": "stream",
     "text": [
      "\u001b[34m\u001b[1mwandb\u001b[0m: Downloading large artifact W_xz_softgp_keggundirected_512_1024_0.001_6535_10:v0, 111.81MB. 1 files... \n",
      "\u001b[34m\u001b[1mwandb\u001b[0m:   1 of 1 files downloaded.  \n",
      "Done. 0:0:0.3\n"
     ]
    },
    {
     "name": "stdout",
     "output_type": "stream",
     "text": [
      "K_zz_softgp_keggundirected_512_1024_0.001_6535_10:v0\n"
     ]
    },
    {
     "name": "stderr",
     "output_type": "stream",
     "text": [
      "\u001b[34m\u001b[1mwandb\u001b[0m:   1 of 1 files downloaded.  \n"
     ]
    },
    {
     "name": "stdout",
     "output_type": "stream",
     "text": [
      "inducing_points_softgp_keggundirected_512_1024_0.001_6535_20:v0\n"
     ]
    },
    {
     "name": "stderr",
     "output_type": "stream",
     "text": [
      "\u001b[34m\u001b[1mwandb\u001b[0m:   1 of 1 files downloaded.  \n"
     ]
    },
    {
     "name": "stdout",
     "output_type": "stream",
     "text": [
      "W_xz_softgp_keggundirected_512_1024_0.001_6535_20:v0\n"
     ]
    },
    {
     "name": "stderr",
     "output_type": "stream",
     "text": [
      "\u001b[34m\u001b[1mwandb\u001b[0m: Downloading large artifact W_xz_softgp_keggundirected_512_1024_0.001_6535_20:v0, 111.81MB. 1 files... \n",
      "\u001b[34m\u001b[1mwandb\u001b[0m:   1 of 1 files downloaded.  \n",
      "Done. 0:0:0.3\n"
     ]
    },
    {
     "name": "stdout",
     "output_type": "stream",
     "text": [
      "K_zz_softgp_keggundirected_512_1024_0.001_6535_20:v0\n"
     ]
    },
    {
     "name": "stderr",
     "output_type": "stream",
     "text": [
      "\u001b[34m\u001b[1mwandb\u001b[0m:   1 of 1 files downloaded.  \n"
     ]
    },
    {
     "name": "stdout",
     "output_type": "stream",
     "text": [
      "inducing_points_softgp_keggundirected_512_1024_0.001_6535_30:v0\n"
     ]
    },
    {
     "name": "stderr",
     "output_type": "stream",
     "text": [
      "\u001b[34m\u001b[1mwandb\u001b[0m:   1 of 1 files downloaded.  \n"
     ]
    },
    {
     "name": "stdout",
     "output_type": "stream",
     "text": [
      "K_zz_softgp_keggundirected_512_1024_0.001_6535_30:v0\n"
     ]
    },
    {
     "name": "stderr",
     "output_type": "stream",
     "text": [
      "\u001b[34m\u001b[1mwandb\u001b[0m:   1 of 1 files downloaded.  \n"
     ]
    },
    {
     "name": "stdout",
     "output_type": "stream",
     "text": [
      "inducing_points_softgp_keggundirected_512_1024_0.001_6535_40:v0\n"
     ]
    },
    {
     "name": "stderr",
     "output_type": "stream",
     "text": [
      "\u001b[34m\u001b[1mwandb\u001b[0m:   1 of 1 files downloaded.  \n"
     ]
    },
    {
     "name": "stdout",
     "output_type": "stream",
     "text": [
      "K_zz_softgp_keggundirected_512_1024_0.001_6535_40:v0\n"
     ]
    },
    {
     "name": "stderr",
     "output_type": "stream",
     "text": [
      "\u001b[34m\u001b[1mwandb\u001b[0m:   1 of 1 files downloaded.  \n"
     ]
    },
    {
     "name": "stdout",
     "output_type": "stream",
     "text": [
      "inducing_points_softgp_keggundirected_512_1024_0.001_6535_49:v0\n"
     ]
    },
    {
     "name": "stderr",
     "output_type": "stream",
     "text": [
      "\u001b[34m\u001b[1mwandb\u001b[0m:   1 of 1 files downloaded.  \n"
     ]
    },
    {
     "name": "stdout",
     "output_type": "stream",
     "text": [
      "K_zz_softgp_keggundirected_512_1024_0.001_6535_49:v0\n"
     ]
    },
    {
     "name": "stderr",
     "output_type": "stream",
     "text": [
      "\u001b[34m\u001b[1mwandb\u001b[0m:   1 of 1 files downloaded.  \n"
     ]
    },
    {
     "name": "stdout",
     "output_type": "stream",
     "text": [
      "run-ocd8omxi-history:v0\n"
     ]
    },
    {
     "name": "stderr",
     "output_type": "stream",
     "text": [
      "\u001b[34m\u001b[1mwandb\u001b[0m:   1 of 1 files downloaded.  \n"
     ]
    },
    {
     "name": "stdout",
     "output_type": "stream",
     "text": [
      "inducing_points_softgp_slice_512_1024_0.001_6535_0:v0\n"
     ]
    },
    {
     "name": "stderr",
     "output_type": "stream",
     "text": [
      "\u001b[34m\u001b[1mwandb\u001b[0m:   1 of 1 files downloaded.  \n"
     ]
    },
    {
     "name": "stdout",
     "output_type": "stream",
     "text": [
      "K_zz_softgp_slice_512_1024_0.001_6535_0:v0\n"
     ]
    },
    {
     "name": "stderr",
     "output_type": "stream",
     "text": [
      "\u001b[34m\u001b[1mwandb\u001b[0m:   1 of 1 files downloaded.  \n"
     ]
    },
    {
     "name": "stdout",
     "output_type": "stream",
     "text": [
      "inducing_points_softgp_slice_512_1024_0.001_6535_10:v0\n"
     ]
    },
    {
     "name": "stderr",
     "output_type": "stream",
     "text": [
      "\u001b[34m\u001b[1mwandb\u001b[0m:   1 of 1 files downloaded.  \n"
     ]
    },
    {
     "name": "stdout",
     "output_type": "stream",
     "text": [
      "K_zz_softgp_slice_512_1024_0.001_6535_10:v0\n"
     ]
    },
    {
     "name": "stderr",
     "output_type": "stream",
     "text": [
      "\u001b[34m\u001b[1mwandb\u001b[0m:   1 of 1 files downloaded.  \n"
     ]
    },
    {
     "name": "stdout",
     "output_type": "stream",
     "text": [
      "inducing_points_softgp_slice_512_1024_0.001_6535_20:v0\n"
     ]
    },
    {
     "name": "stderr",
     "output_type": "stream",
     "text": [
      "\u001b[34m\u001b[1mwandb\u001b[0m:   1 of 1 files downloaded.  \n"
     ]
    },
    {
     "name": "stdout",
     "output_type": "stream",
     "text": [
      "K_zz_softgp_slice_512_1024_0.001_6535_20:v0\n"
     ]
    },
    {
     "name": "stderr",
     "output_type": "stream",
     "text": [
      "\u001b[34m\u001b[1mwandb\u001b[0m:   1 of 1 files downloaded.  \n"
     ]
    },
    {
     "name": "stdout",
     "output_type": "stream",
     "text": [
      "inducing_points_softgp_slice_512_1024_0.001_6535_30:v0\n"
     ]
    },
    {
     "name": "stderr",
     "output_type": "stream",
     "text": [
      "\u001b[34m\u001b[1mwandb\u001b[0m:   1 of 1 files downloaded.  \n"
     ]
    },
    {
     "name": "stdout",
     "output_type": "stream",
     "text": [
      "K_zz_softgp_slice_512_1024_0.001_6535_30:v0\n"
     ]
    },
    {
     "name": "stderr",
     "output_type": "stream",
     "text": [
      "\u001b[34m\u001b[1mwandb\u001b[0m:   1 of 1 files downloaded.  \n"
     ]
    },
    {
     "name": "stdout",
     "output_type": "stream",
     "text": [
      "inducing_points_softgp_slice_512_1024_0.001_6535_40:v0\n"
     ]
    },
    {
     "name": "stderr",
     "output_type": "stream",
     "text": [
      "\u001b[34m\u001b[1mwandb\u001b[0m:   1 of 1 files downloaded.  \n"
     ]
    },
    {
     "name": "stdout",
     "output_type": "stream",
     "text": [
      "K_zz_softgp_slice_512_1024_0.001_6535_40:v0\n"
     ]
    },
    {
     "name": "stderr",
     "output_type": "stream",
     "text": [
      "\u001b[34m\u001b[1mwandb\u001b[0m:   1 of 1 files downloaded.  \n"
     ]
    },
    {
     "name": "stdout",
     "output_type": "stream",
     "text": [
      "inducing_points_softgp_slice_512_1024_0.001_6535_49:v0\n"
     ]
    },
    {
     "name": "stderr",
     "output_type": "stream",
     "text": [
      "\u001b[34m\u001b[1mwandb\u001b[0m:   1 of 1 files downloaded.  \n"
     ]
    },
    {
     "name": "stdout",
     "output_type": "stream",
     "text": [
      "K_zz_softgp_slice_512_1024_0.001_6535_49:v0\n"
     ]
    },
    {
     "name": "stderr",
     "output_type": "stream",
     "text": [
      "\u001b[34m\u001b[1mwandb\u001b[0m:   1 of 1 files downloaded.  \n"
     ]
    },
    {
     "name": "stdout",
     "output_type": "stream",
     "text": [
      "run-58hfpvc8-history:v0\n"
     ]
    },
    {
     "name": "stderr",
     "output_type": "stream",
     "text": [
      "\u001b[34m\u001b[1mwandb\u001b[0m:   1 of 1 files downloaded.  \n"
     ]
    },
    {
     "name": "stdout",
     "output_type": "stream",
     "text": [
      "inducing_points_softgp_keggdirected_512_1024_0.001_6535_0:v0\n"
     ]
    },
    {
     "name": "stderr",
     "output_type": "stream",
     "text": [
      "\u001b[34m\u001b[1mwandb\u001b[0m:   1 of 1 files downloaded.  \n"
     ]
    },
    {
     "name": "stdout",
     "output_type": "stream",
     "text": [
      "W_xz_softgp_keggdirected_512_1024_0.001_6535_0:v0\n"
     ]
    },
    {
     "name": "stderr",
     "output_type": "stream",
     "text": [
      "\u001b[34m\u001b[1mwandb\u001b[0m: Downloading large artifact W_xz_softgp_keggdirected_512_1024_0.001_6535_0:v0, 85.83MB. 1 files... \n",
      "\u001b[34m\u001b[1mwandb\u001b[0m:   1 of 1 files downloaded.  \n",
      "Done. 0:0:0.3\n"
     ]
    },
    {
     "name": "stdout",
     "output_type": "stream",
     "text": [
      "K_zz_softgp_keggdirected_512_1024_0.001_6535_0:v0\n"
     ]
    },
    {
     "name": "stderr",
     "output_type": "stream",
     "text": [
      "\u001b[34m\u001b[1mwandb\u001b[0m:   1 of 1 files downloaded.  \n"
     ]
    },
    {
     "name": "stdout",
     "output_type": "stream",
     "text": [
      "inducing_points_softgp_keggdirected_512_1024_0.001_6535_10:v0\n"
     ]
    },
    {
     "name": "stderr",
     "output_type": "stream",
     "text": [
      "\u001b[34m\u001b[1mwandb\u001b[0m:   1 of 1 files downloaded.  \n"
     ]
    },
    {
     "name": "stdout",
     "output_type": "stream",
     "text": [
      "W_xz_softgp_keggdirected_512_1024_0.001_6535_10:v0\n"
     ]
    },
    {
     "name": "stderr",
     "output_type": "stream",
     "text": [
      "\u001b[34m\u001b[1mwandb\u001b[0m: Downloading large artifact W_xz_softgp_keggdirected_512_1024_0.001_6535_10:v0, 85.83MB. 1 files... \n",
      "\u001b[34m\u001b[1mwandb\u001b[0m:   1 of 1 files downloaded.  \n",
      "Done. 0:0:0.3\n"
     ]
    },
    {
     "name": "stdout",
     "output_type": "stream",
     "text": [
      "K_zz_softgp_keggdirected_512_1024_0.001_6535_10:v0\n"
     ]
    },
    {
     "name": "stderr",
     "output_type": "stream",
     "text": [
      "\u001b[34m\u001b[1mwandb\u001b[0m:   1 of 1 files downloaded.  \n"
     ]
    },
    {
     "name": "stdout",
     "output_type": "stream",
     "text": [
      "inducing_points_softgp_keggdirected_512_1024_0.001_6535_20:v0\n"
     ]
    },
    {
     "name": "stderr",
     "output_type": "stream",
     "text": [
      "\u001b[34m\u001b[1mwandb\u001b[0m:   1 of 1 files downloaded.  \n"
     ]
    },
    {
     "name": "stdout",
     "output_type": "stream",
     "text": [
      "W_xz_softgp_keggdirected_512_1024_0.001_6535_20:v0\n"
     ]
    },
    {
     "name": "stderr",
     "output_type": "stream",
     "text": [
      "\u001b[34m\u001b[1mwandb\u001b[0m: Downloading large artifact W_xz_softgp_keggdirected_512_1024_0.001_6535_20:v0, 85.83MB. 1 files... \n",
      "\u001b[34m\u001b[1mwandb\u001b[0m:   1 of 1 files downloaded.  \n",
      "Done. 0:0:0.3\n"
     ]
    },
    {
     "name": "stdout",
     "output_type": "stream",
     "text": [
      "K_zz_softgp_keggdirected_512_1024_0.001_6535_20:v0\n"
     ]
    },
    {
     "name": "stderr",
     "output_type": "stream",
     "text": [
      "\u001b[34m\u001b[1mwandb\u001b[0m:   1 of 1 files downloaded.  \n"
     ]
    },
    {
     "name": "stdout",
     "output_type": "stream",
     "text": [
      "inducing_points_softgp_keggdirected_512_1024_0.001_6535_30:v0\n"
     ]
    },
    {
     "name": "stderr",
     "output_type": "stream",
     "text": [
      "\u001b[34m\u001b[1mwandb\u001b[0m:   1 of 1 files downloaded.  \n"
     ]
    },
    {
     "name": "stdout",
     "output_type": "stream",
     "text": [
      "W_xz_softgp_keggdirected_512_1024_0.001_6535_30:v0\n"
     ]
    },
    {
     "name": "stderr",
     "output_type": "stream",
     "text": [
      "\u001b[34m\u001b[1mwandb\u001b[0m: Downloading large artifact W_xz_softgp_keggdirected_512_1024_0.001_6535_30:v0, 85.83MB. 1 files... \n",
      "\u001b[34m\u001b[1mwandb\u001b[0m:   1 of 1 files downloaded.  \n",
      "Done. 0:0:0.3\n"
     ]
    },
    {
     "name": "stdout",
     "output_type": "stream",
     "text": [
      "K_zz_softgp_keggdirected_512_1024_0.001_6535_30:v0\n"
     ]
    },
    {
     "name": "stderr",
     "output_type": "stream",
     "text": [
      "\u001b[34m\u001b[1mwandb\u001b[0m:   1 of 1 files downloaded.  \n"
     ]
    },
    {
     "name": "stdout",
     "output_type": "stream",
     "text": [
      "inducing_points_softgp_keggdirected_512_1024_0.001_6535_40:v0\n"
     ]
    },
    {
     "name": "stderr",
     "output_type": "stream",
     "text": [
      "\u001b[34m\u001b[1mwandb\u001b[0m:   1 of 1 files downloaded.  \n"
     ]
    },
    {
     "name": "stdout",
     "output_type": "stream",
     "text": [
      "W_xz_softgp_keggdirected_512_1024_0.001_6535_40:v0\n"
     ]
    },
    {
     "name": "stderr",
     "output_type": "stream",
     "text": [
      "\u001b[34m\u001b[1mwandb\u001b[0m: Downloading large artifact W_xz_softgp_keggdirected_512_1024_0.001_6535_40:v0, 85.83MB. 1 files... \n",
      "\u001b[34m\u001b[1mwandb\u001b[0m:   1 of 1 files downloaded.  \n",
      "Done. 0:0:0.3\n"
     ]
    },
    {
     "name": "stdout",
     "output_type": "stream",
     "text": [
      "K_zz_softgp_keggdirected_512_1024_0.001_6535_40:v0\n"
     ]
    },
    {
     "name": "stderr",
     "output_type": "stream",
     "text": [
      "\u001b[34m\u001b[1mwandb\u001b[0m:   1 of 1 files downloaded.  \n"
     ]
    },
    {
     "name": "stdout",
     "output_type": "stream",
     "text": [
      "inducing_points_softgp_keggdirected_512_1024_0.001_6535_49:v0\n"
     ]
    },
    {
     "name": "stderr",
     "output_type": "stream",
     "text": [
      "\u001b[34m\u001b[1mwandb\u001b[0m:   1 of 1 files downloaded.  \n"
     ]
    },
    {
     "name": "stdout",
     "output_type": "stream",
     "text": [
      "W_xz_softgp_keggdirected_512_1024_0.001_6535_49:v0\n"
     ]
    },
    {
     "name": "stderr",
     "output_type": "stream",
     "text": [
      "\u001b[34m\u001b[1mwandb\u001b[0m: Downloading large artifact W_xz_softgp_keggdirected_512_1024_0.001_6535_49:v0, 85.83MB. 1 files... \n",
      "\u001b[34m\u001b[1mwandb\u001b[0m:   1 of 1 files downloaded.  \n",
      "Done. 0:0:0.3\n"
     ]
    },
    {
     "name": "stdout",
     "output_type": "stream",
     "text": [
      "K_zz_softgp_keggdirected_512_1024_0.001_6535_49:v0\n"
     ]
    },
    {
     "name": "stderr",
     "output_type": "stream",
     "text": [
      "\u001b[34m\u001b[1mwandb\u001b[0m:   1 of 1 files downloaded.  \n"
     ]
    },
    {
     "name": "stdout",
     "output_type": "stream",
     "text": [
      "run-scdsi2f5-history:v0\n"
     ]
    },
    {
     "name": "stderr",
     "output_type": "stream",
     "text": [
      "\u001b[34m\u001b[1mwandb\u001b[0m:   1 of 1 files downloaded.  \n"
     ]
    },
    {
     "name": "stdout",
     "output_type": "stream",
     "text": [
      "inducing_points_softgp_protein_512_1024_0.001_6535_0:v0\n"
     ]
    },
    {
     "name": "stderr",
     "output_type": "stream",
     "text": [
      "\u001b[34m\u001b[1mwandb\u001b[0m:   1 of 1 files downloaded.  \n"
     ]
    },
    {
     "name": "stdout",
     "output_type": "stream",
     "text": [
      "W_xz_softgp_protein_512_1024_0.001_6535_0:v0\n"
     ]
    },
    {
     "name": "stderr",
     "output_type": "stream",
     "text": [
      "\u001b[34m\u001b[1mwandb\u001b[0m: Downloading large artifact W_xz_softgp_protein_512_1024_0.001_6535_0:v0, 80.38MB. 1 files... \n",
      "\u001b[34m\u001b[1mwandb\u001b[0m:   1 of 1 files downloaded.  \n",
      "Done. 0:0:0.3\n"
     ]
    },
    {
     "name": "stdout",
     "output_type": "stream",
     "text": [
      "K_zz_softgp_protein_512_1024_0.001_6535_0:v0\n"
     ]
    },
    {
     "name": "stderr",
     "output_type": "stream",
     "text": [
      "\u001b[34m\u001b[1mwandb\u001b[0m:   1 of 1 files downloaded.  \n"
     ]
    },
    {
     "name": "stdout",
     "output_type": "stream",
     "text": [
      "inducing_points_softgp_protein_512_1024_0.001_6535_10:v0\n"
     ]
    },
    {
     "name": "stderr",
     "output_type": "stream",
     "text": [
      "\u001b[34m\u001b[1mwandb\u001b[0m:   1 of 1 files downloaded.  \n"
     ]
    },
    {
     "name": "stdout",
     "output_type": "stream",
     "text": [
      "W_xz_softgp_protein_512_1024_0.001_6535_10:v0\n"
     ]
    },
    {
     "name": "stderr",
     "output_type": "stream",
     "text": [
      "\u001b[34m\u001b[1mwandb\u001b[0m: Downloading large artifact W_xz_softgp_protein_512_1024_0.001_6535_10:v0, 80.38MB. 1 files... \n",
      "\u001b[34m\u001b[1mwandb\u001b[0m:   1 of 1 files downloaded.  \n",
      "Done. 0:0:0.3\n"
     ]
    },
    {
     "name": "stdout",
     "output_type": "stream",
     "text": [
      "K_zz_softgp_protein_512_1024_0.001_6535_10:v0\n"
     ]
    },
    {
     "name": "stderr",
     "output_type": "stream",
     "text": [
      "\u001b[34m\u001b[1mwandb\u001b[0m:   1 of 1 files downloaded.  \n"
     ]
    },
    {
     "name": "stdout",
     "output_type": "stream",
     "text": [
      "inducing_points_softgp_protein_512_1024_0.001_6535_20:v0\n"
     ]
    },
    {
     "name": "stderr",
     "output_type": "stream",
     "text": [
      "\u001b[34m\u001b[1mwandb\u001b[0m:   1 of 1 files downloaded.  \n"
     ]
    },
    {
     "name": "stdout",
     "output_type": "stream",
     "text": [
      "W_xz_softgp_protein_512_1024_0.001_6535_20:v0\n"
     ]
    },
    {
     "name": "stderr",
     "output_type": "stream",
     "text": [
      "\u001b[34m\u001b[1mwandb\u001b[0m: Downloading large artifact W_xz_softgp_protein_512_1024_0.001_6535_20:v0, 80.38MB. 1 files... \n",
      "\u001b[34m\u001b[1mwandb\u001b[0m:   1 of 1 files downloaded.  \n",
      "Done. 0:0:0.3\n"
     ]
    },
    {
     "name": "stdout",
     "output_type": "stream",
     "text": [
      "K_zz_softgp_protein_512_1024_0.001_6535_20:v0\n"
     ]
    },
    {
     "name": "stderr",
     "output_type": "stream",
     "text": [
      "\u001b[34m\u001b[1mwandb\u001b[0m:   1 of 1 files downloaded.  \n"
     ]
    },
    {
     "name": "stdout",
     "output_type": "stream",
     "text": [
      "inducing_points_softgp_protein_512_1024_0.001_6535_30:v0\n"
     ]
    },
    {
     "name": "stderr",
     "output_type": "stream",
     "text": [
      "\u001b[34m\u001b[1mwandb\u001b[0m:   1 of 1 files downloaded.  \n"
     ]
    },
    {
     "name": "stdout",
     "output_type": "stream",
     "text": [
      "W_xz_softgp_protein_512_1024_0.001_6535_30:v0\n"
     ]
    },
    {
     "name": "stderr",
     "output_type": "stream",
     "text": [
      "\u001b[34m\u001b[1mwandb\u001b[0m: Downloading large artifact W_xz_softgp_protein_512_1024_0.001_6535_30:v0, 80.38MB. 1 files... \n",
      "\u001b[34m\u001b[1mwandb\u001b[0m:   1 of 1 files downloaded.  \n",
      "Done. 0:0:0.3\n"
     ]
    },
    {
     "name": "stdout",
     "output_type": "stream",
     "text": [
      "K_zz_softgp_protein_512_1024_0.001_6535_30:v0\n"
     ]
    },
    {
     "name": "stderr",
     "output_type": "stream",
     "text": [
      "\u001b[34m\u001b[1mwandb\u001b[0m:   1 of 1 files downloaded.  \n"
     ]
    },
    {
     "name": "stdout",
     "output_type": "stream",
     "text": [
      "inducing_points_softgp_protein_512_1024_0.001_6535_40:v0\n"
     ]
    },
    {
     "name": "stderr",
     "output_type": "stream",
     "text": [
      "\u001b[34m\u001b[1mwandb\u001b[0m:   1 of 1 files downloaded.  \n"
     ]
    },
    {
     "name": "stdout",
     "output_type": "stream",
     "text": [
      "W_xz_softgp_protein_512_1024_0.001_6535_40:v0\n"
     ]
    },
    {
     "name": "stderr",
     "output_type": "stream",
     "text": [
      "\u001b[34m\u001b[1mwandb\u001b[0m: Downloading large artifact W_xz_softgp_protein_512_1024_0.001_6535_40:v0, 80.38MB. 1 files... \n",
      "\u001b[34m\u001b[1mwandb\u001b[0m:   1 of 1 files downloaded.  \n",
      "Done. 0:0:0.3\n"
     ]
    },
    {
     "name": "stdout",
     "output_type": "stream",
     "text": [
      "K_zz_softgp_protein_512_1024_0.001_6535_40:v0\n"
     ]
    },
    {
     "name": "stderr",
     "output_type": "stream",
     "text": [
      "\u001b[34m\u001b[1mwandb\u001b[0m:   1 of 1 files downloaded.  \n"
     ]
    },
    {
     "name": "stdout",
     "output_type": "stream",
     "text": [
      "inducing_points_softgp_protein_512_1024_0.001_6535_49:v0\n"
     ]
    },
    {
     "name": "stderr",
     "output_type": "stream",
     "text": [
      "\u001b[34m\u001b[1mwandb\u001b[0m:   1 of 1 files downloaded.  \n"
     ]
    },
    {
     "name": "stdout",
     "output_type": "stream",
     "text": [
      "W_xz_softgp_protein_512_1024_0.001_6535_49:v0\n"
     ]
    },
    {
     "name": "stderr",
     "output_type": "stream",
     "text": [
      "\u001b[34m\u001b[1mwandb\u001b[0m: Downloading large artifact W_xz_softgp_protein_512_1024_0.001_6535_49:v0, 80.38MB. 1 files... \n",
      "\u001b[34m\u001b[1mwandb\u001b[0m:   1 of 1 files downloaded.  \n",
      "Done. 0:0:0.3\n"
     ]
    },
    {
     "name": "stdout",
     "output_type": "stream",
     "text": [
      "K_zz_softgp_protein_512_1024_0.001_6535_49:v0\n"
     ]
    },
    {
     "name": "stderr",
     "output_type": "stream",
     "text": [
      "\u001b[34m\u001b[1mwandb\u001b[0m:   1 of 1 files downloaded.  \n"
     ]
    },
    {
     "name": "stdout",
     "output_type": "stream",
     "text": [
      "run-c9n2l80t-history:v0\n"
     ]
    },
    {
     "name": "stderr",
     "output_type": "stream",
     "text": [
      "\u001b[34m\u001b[1mwandb\u001b[0m:   1 of 1 files downloaded.  \n"
     ]
    },
    {
     "name": "stdout",
     "output_type": "stream",
     "text": [
      "inducing_points_softgp_kin40k_512_1024_0.001_6535_0:v0\n"
     ]
    },
    {
     "name": "stderr",
     "output_type": "stream",
     "text": [
      "\u001b[34m\u001b[1mwandb\u001b[0m:   1 of 1 files downloaded.  \n"
     ]
    },
    {
     "name": "stdout",
     "output_type": "stream",
     "text": [
      "W_xz_softgp_kin40k_512_1024_0.001_6535_0:v0\n"
     ]
    },
    {
     "name": "stderr",
     "output_type": "stream",
     "text": [
      "\u001b[34m\u001b[1mwandb\u001b[0m: Downloading large artifact W_xz_softgp_kin40k_512_1024_0.001_6535_0:v0, 70.31MB. 1 files... \n",
      "\u001b[34m\u001b[1mwandb\u001b[0m:   1 of 1 files downloaded.  \n",
      "Done. 0:0:0.3\n"
     ]
    },
    {
     "name": "stdout",
     "output_type": "stream",
     "text": [
      "K_zz_softgp_kin40k_512_1024_0.001_6535_0:v0\n"
     ]
    },
    {
     "name": "stderr",
     "output_type": "stream",
     "text": [
      "\u001b[34m\u001b[1mwandb\u001b[0m:   1 of 1 files downloaded.  \n"
     ]
    },
    {
     "name": "stdout",
     "output_type": "stream",
     "text": [
      "inducing_points_softgp_kin40k_512_1024_0.001_6535_10:v0\n"
     ]
    },
    {
     "name": "stderr",
     "output_type": "stream",
     "text": [
      "\u001b[34m\u001b[1mwandb\u001b[0m:   1 of 1 files downloaded.  \n"
     ]
    },
    {
     "name": "stdout",
     "output_type": "stream",
     "text": [
      "W_xz_softgp_kin40k_512_1024_0.001_6535_10:v0\n"
     ]
    },
    {
     "name": "stderr",
     "output_type": "stream",
     "text": [
      "\u001b[34m\u001b[1mwandb\u001b[0m: Downloading large artifact W_xz_softgp_kin40k_512_1024_0.001_6535_10:v0, 70.31MB. 1 files... \n",
      "\u001b[34m\u001b[1mwandb\u001b[0m:   1 of 1 files downloaded.  \n",
      "Done. 0:0:0.3\n"
     ]
    },
    {
     "name": "stdout",
     "output_type": "stream",
     "text": [
      "K_zz_softgp_kin40k_512_1024_0.001_6535_10:v0\n"
     ]
    },
    {
     "name": "stderr",
     "output_type": "stream",
     "text": [
      "\u001b[34m\u001b[1mwandb\u001b[0m:   1 of 1 files downloaded.  \n"
     ]
    },
    {
     "name": "stdout",
     "output_type": "stream",
     "text": [
      "inducing_points_softgp_kin40k_512_1024_0.001_6535_20:v0\n"
     ]
    },
    {
     "name": "stderr",
     "output_type": "stream",
     "text": [
      "\u001b[34m\u001b[1mwandb\u001b[0m:   1 of 1 files downloaded.  \n"
     ]
    },
    {
     "name": "stdout",
     "output_type": "stream",
     "text": [
      "W_xz_softgp_kin40k_512_1024_0.001_6535_20:v0\n"
     ]
    },
    {
     "name": "stderr",
     "output_type": "stream",
     "text": [
      "\u001b[34m\u001b[1mwandb\u001b[0m: Downloading large artifact W_xz_softgp_kin40k_512_1024_0.001_6535_20:v0, 70.31MB. 1 files... \n",
      "\u001b[34m\u001b[1mwandb\u001b[0m:   1 of 1 files downloaded.  \n",
      "Done. 0:0:0.3\n"
     ]
    },
    {
     "name": "stdout",
     "output_type": "stream",
     "text": [
      "K_zz_softgp_kin40k_512_1024_0.001_6535_20:v0\n"
     ]
    },
    {
     "name": "stderr",
     "output_type": "stream",
     "text": [
      "\u001b[34m\u001b[1mwandb\u001b[0m:   1 of 1 files downloaded.  \n"
     ]
    },
    {
     "name": "stdout",
     "output_type": "stream",
     "text": [
      "inducing_points_softgp_kin40k_512_1024_0.001_6535_30:v0\n"
     ]
    },
    {
     "name": "stderr",
     "output_type": "stream",
     "text": [
      "\u001b[34m\u001b[1mwandb\u001b[0m:   1 of 1 files downloaded.  \n"
     ]
    },
    {
     "name": "stdout",
     "output_type": "stream",
     "text": [
      "W_xz_softgp_kin40k_512_1024_0.001_6535_30:v0\n"
     ]
    },
    {
     "name": "stderr",
     "output_type": "stream",
     "text": [
      "\u001b[34m\u001b[1mwandb\u001b[0m: Downloading large artifact W_xz_softgp_kin40k_512_1024_0.001_6535_30:v0, 70.31MB. 1 files... \n",
      "\u001b[34m\u001b[1mwandb\u001b[0m:   1 of 1 files downloaded.  \n",
      "Done. 0:0:0.2\n"
     ]
    },
    {
     "name": "stdout",
     "output_type": "stream",
     "text": [
      "K_zz_softgp_kin40k_512_1024_0.001_6535_30:v0\n"
     ]
    },
    {
     "name": "stderr",
     "output_type": "stream",
     "text": [
      "\u001b[34m\u001b[1mwandb\u001b[0m:   1 of 1 files downloaded.  \n"
     ]
    },
    {
     "name": "stdout",
     "output_type": "stream",
     "text": [
      "inducing_points_softgp_kin40k_512_1024_0.001_6535_40:v0\n"
     ]
    },
    {
     "name": "stderr",
     "output_type": "stream",
     "text": [
      "\u001b[34m\u001b[1mwandb\u001b[0m:   1 of 1 files downloaded.  \n"
     ]
    },
    {
     "name": "stdout",
     "output_type": "stream",
     "text": [
      "W_xz_softgp_kin40k_512_1024_0.001_6535_40:v0\n"
     ]
    },
    {
     "name": "stderr",
     "output_type": "stream",
     "text": [
      "\u001b[34m\u001b[1mwandb\u001b[0m: Downloading large artifact W_xz_softgp_kin40k_512_1024_0.001_6535_40:v0, 70.31MB. 1 files... \n",
      "\u001b[34m\u001b[1mwandb\u001b[0m:   1 of 1 files downloaded.  \n",
      "Done. 0:0:0.3\n"
     ]
    },
    {
     "name": "stdout",
     "output_type": "stream",
     "text": [
      "K_zz_softgp_kin40k_512_1024_0.001_6535_40:v0\n"
     ]
    },
    {
     "name": "stderr",
     "output_type": "stream",
     "text": [
      "\u001b[34m\u001b[1mwandb\u001b[0m:   1 of 1 files downloaded.  \n"
     ]
    },
    {
     "name": "stdout",
     "output_type": "stream",
     "text": [
      "inducing_points_softgp_kin40k_512_1024_0.001_6535_49:v0\n"
     ]
    },
    {
     "name": "stderr",
     "output_type": "stream",
     "text": [
      "\u001b[34m\u001b[1mwandb\u001b[0m:   1 of 1 files downloaded.  \n"
     ]
    },
    {
     "name": "stdout",
     "output_type": "stream",
     "text": [
      "W_xz_softgp_kin40k_512_1024_0.001_6535_49:v0\n"
     ]
    },
    {
     "name": "stderr",
     "output_type": "stream",
     "text": [
      "\u001b[34m\u001b[1mwandb\u001b[0m: Downloading large artifact W_xz_softgp_kin40k_512_1024_0.001_6535_49:v0, 70.31MB. 1 files... \n",
      "\u001b[34m\u001b[1mwandb\u001b[0m:   1 of 1 files downloaded.  \n",
      "Done. 0:0:0.3\n"
     ]
    },
    {
     "name": "stdout",
     "output_type": "stream",
     "text": [
      "K_zz_softgp_kin40k_512_1024_0.001_6535_49:v0\n"
     ]
    },
    {
     "name": "stderr",
     "output_type": "stream",
     "text": [
      "\u001b[34m\u001b[1mwandb\u001b[0m:   1 of 1 files downloaded.  \n"
     ]
    },
    {
     "name": "stdout",
     "output_type": "stream",
     "text": [
      "run-k01a8lqy-history:v0\n"
     ]
    },
    {
     "name": "stderr",
     "output_type": "stream",
     "text": [
      "\u001b[34m\u001b[1mwandb\u001b[0m:   1 of 1 files downloaded.  \n"
     ]
    },
    {
     "name": "stdout",
     "output_type": "stream",
     "text": [
      "inducing_points_softgp_bike_512_1024_0.001_6535_0:v0\n"
     ]
    },
    {
     "name": "stderr",
     "output_type": "stream",
     "text": [
      "\u001b[34m\u001b[1mwandb\u001b[0m:   1 of 1 files downloaded.  \n"
     ]
    },
    {
     "name": "stdout",
     "output_type": "stream",
     "text": [
      "W_xz_softgp_bike_512_1024_0.001_6535_0:v0\n"
     ]
    },
    {
     "name": "stderr",
     "output_type": "stream",
     "text": [
      "\u001b[34m\u001b[1mwandb\u001b[0m:   1 of 1 files downloaded.  \n"
     ]
    },
    {
     "name": "stdout",
     "output_type": "stream",
     "text": [
      "K_zz_softgp_bike_512_1024_0.001_6535_0:v0\n"
     ]
    },
    {
     "name": "stderr",
     "output_type": "stream",
     "text": [
      "\u001b[34m\u001b[1mwandb\u001b[0m:   1 of 1 files downloaded.  \n"
     ]
    },
    {
     "name": "stdout",
     "output_type": "stream",
     "text": [
      "inducing_points_softgp_bike_512_1024_0.001_6535_10:v0\n"
     ]
    },
    {
     "name": "stderr",
     "output_type": "stream",
     "text": [
      "\u001b[34m\u001b[1mwandb\u001b[0m:   1 of 1 files downloaded.  \n"
     ]
    },
    {
     "name": "stdout",
     "output_type": "stream",
     "text": [
      "W_xz_softgp_bike_512_1024_0.001_6535_10:v0\n"
     ]
    },
    {
     "name": "stderr",
     "output_type": "stream",
     "text": [
      "\u001b[34m\u001b[1mwandb\u001b[0m:   1 of 1 files downloaded.  \n"
     ]
    },
    {
     "name": "stdout",
     "output_type": "stream",
     "text": [
      "K_zz_softgp_bike_512_1024_0.001_6535_10:v0\n"
     ]
    },
    {
     "name": "stderr",
     "output_type": "stream",
     "text": [
      "\u001b[34m\u001b[1mwandb\u001b[0m:   1 of 1 files downloaded.  \n"
     ]
    },
    {
     "name": "stdout",
     "output_type": "stream",
     "text": [
      "inducing_points_softgp_bike_512_1024_0.001_6535_20:v0\n"
     ]
    },
    {
     "name": "stderr",
     "output_type": "stream",
     "text": [
      "\u001b[34m\u001b[1mwandb\u001b[0m:   1 of 1 files downloaded.  \n"
     ]
    },
    {
     "name": "stdout",
     "output_type": "stream",
     "text": [
      "W_xz_softgp_bike_512_1024_0.001_6535_20:v0\n"
     ]
    },
    {
     "name": "stderr",
     "output_type": "stream",
     "text": [
      "\u001b[34m\u001b[1mwandb\u001b[0m:   1 of 1 files downloaded.  \n"
     ]
    },
    {
     "name": "stdout",
     "output_type": "stream",
     "text": [
      "K_zz_softgp_bike_512_1024_0.001_6535_20:v0\n"
     ]
    },
    {
     "name": "stderr",
     "output_type": "stream",
     "text": [
      "\u001b[34m\u001b[1mwandb\u001b[0m:   1 of 1 files downloaded.  \n"
     ]
    },
    {
     "name": "stdout",
     "output_type": "stream",
     "text": [
      "inducing_points_softgp_bike_512_1024_0.001_6535_30:v0\n"
     ]
    },
    {
     "name": "stderr",
     "output_type": "stream",
     "text": [
      "\u001b[34m\u001b[1mwandb\u001b[0m:   1 of 1 files downloaded.  \n"
     ]
    },
    {
     "name": "stdout",
     "output_type": "stream",
     "text": [
      "W_xz_softgp_bike_512_1024_0.001_6535_30:v0\n"
     ]
    },
    {
     "name": "stderr",
     "output_type": "stream",
     "text": [
      "\u001b[34m\u001b[1mwandb\u001b[0m:   1 of 1 files downloaded.  \n"
     ]
    },
    {
     "name": "stdout",
     "output_type": "stream",
     "text": [
      "K_zz_softgp_bike_512_1024_0.001_6535_30:v0\n"
     ]
    },
    {
     "name": "stderr",
     "output_type": "stream",
     "text": [
      "\u001b[34m\u001b[1mwandb\u001b[0m:   1 of 1 files downloaded.  \n"
     ]
    },
    {
     "name": "stdout",
     "output_type": "stream",
     "text": [
      "inducing_points_softgp_bike_512_1024_0.001_6535_40:v0\n"
     ]
    },
    {
     "name": "stderr",
     "output_type": "stream",
     "text": [
      "\u001b[34m\u001b[1mwandb\u001b[0m:   1 of 1 files downloaded.  \n"
     ]
    },
    {
     "name": "stdout",
     "output_type": "stream",
     "text": [
      "W_xz_softgp_bike_512_1024_0.001_6535_40:v0\n"
     ]
    },
    {
     "name": "stderr",
     "output_type": "stream",
     "text": [
      "\u001b[34m\u001b[1mwandb\u001b[0m:   1 of 1 files downloaded.  \n"
     ]
    },
    {
     "name": "stdout",
     "output_type": "stream",
     "text": [
      "K_zz_softgp_bike_512_1024_0.001_6535_40:v0\n"
     ]
    },
    {
     "name": "stderr",
     "output_type": "stream",
     "text": [
      "\u001b[34m\u001b[1mwandb\u001b[0m:   1 of 1 files downloaded.  \n"
     ]
    },
    {
     "name": "stdout",
     "output_type": "stream",
     "text": [
      "inducing_points_softgp_bike_512_1024_0.001_6535_49:v0\n"
     ]
    },
    {
     "name": "stderr",
     "output_type": "stream",
     "text": [
      "\u001b[34m\u001b[1mwandb\u001b[0m:   1 of 1 files downloaded.  \n"
     ]
    },
    {
     "name": "stdout",
     "output_type": "stream",
     "text": [
      "W_xz_softgp_bike_512_1024_0.001_6535_49:v0\n"
     ]
    },
    {
     "name": "stderr",
     "output_type": "stream",
     "text": [
      "\u001b[34m\u001b[1mwandb\u001b[0m:   1 of 1 files downloaded.  \n"
     ]
    },
    {
     "name": "stdout",
     "output_type": "stream",
     "text": [
      "K_zz_softgp_bike_512_1024_0.001_6535_49:v0\n"
     ]
    },
    {
     "name": "stderr",
     "output_type": "stream",
     "text": [
      "\u001b[34m\u001b[1mwandb\u001b[0m:   1 of 1 files downloaded.  \n"
     ]
    },
    {
     "name": "stdout",
     "output_type": "stream",
     "text": [
      "run-ydmsvvrw-history:v0\n"
     ]
    },
    {
     "name": "stderr",
     "output_type": "stream",
     "text": [
      "\u001b[34m\u001b[1mwandb\u001b[0m:   1 of 1 files downloaded.  \n"
     ]
    },
    {
     "name": "stdout",
     "output_type": "stream",
     "text": [
      "inducing_points_softgp_elevators_512_1024_0.001_6535_0:v0\n"
     ]
    },
    {
     "name": "stderr",
     "output_type": "stream",
     "text": [
      "\u001b[34m\u001b[1mwandb\u001b[0m:   1 of 1 files downloaded.  \n"
     ]
    },
    {
     "name": "stdout",
     "output_type": "stream",
     "text": [
      "W_xz_softgp_elevators_512_1024_0.001_6535_0:v0\n"
     ]
    },
    {
     "name": "stderr",
     "output_type": "stream",
     "text": [
      "\u001b[34m\u001b[1mwandb\u001b[0m:   1 of 1 files downloaded.  \n"
     ]
    },
    {
     "name": "stdout",
     "output_type": "stream",
     "text": [
      "K_zz_softgp_elevators_512_1024_0.001_6535_0:v0\n"
     ]
    },
    {
     "name": "stderr",
     "output_type": "stream",
     "text": [
      "\u001b[34m\u001b[1mwandb\u001b[0m:   1 of 1 files downloaded.  \n"
     ]
    },
    {
     "name": "stdout",
     "output_type": "stream",
     "text": [
      "inducing_points_softgp_elevators_512_1024_0.001_6535_10:v0\n"
     ]
    },
    {
     "name": "stderr",
     "output_type": "stream",
     "text": [
      "\u001b[34m\u001b[1mwandb\u001b[0m:   1 of 1 files downloaded.  \n"
     ]
    },
    {
     "name": "stdout",
     "output_type": "stream",
     "text": [
      "W_xz_softgp_elevators_512_1024_0.001_6535_10:v0\n"
     ]
    },
    {
     "name": "stderr",
     "output_type": "stream",
     "text": [
      "\u001b[34m\u001b[1mwandb\u001b[0m:   1 of 1 files downloaded.  \n"
     ]
    },
    {
     "name": "stdout",
     "output_type": "stream",
     "text": [
      "K_zz_softgp_elevators_512_1024_0.001_6535_10:v0\n"
     ]
    },
    {
     "name": "stderr",
     "output_type": "stream",
     "text": [
      "\u001b[34m\u001b[1mwandb\u001b[0m:   1 of 1 files downloaded.  \n"
     ]
    },
    {
     "name": "stdout",
     "output_type": "stream",
     "text": [
      "inducing_points_softgp_elevators_512_1024_0.001_6535_20:v0\n"
     ]
    },
    {
     "name": "stderr",
     "output_type": "stream",
     "text": [
      "\u001b[34m\u001b[1mwandb\u001b[0m:   1 of 1 files downloaded.  \n"
     ]
    },
    {
     "name": "stdout",
     "output_type": "stream",
     "text": [
      "W_xz_softgp_elevators_512_1024_0.001_6535_20:v0\n"
     ]
    },
    {
     "name": "stderr",
     "output_type": "stream",
     "text": [
      "\u001b[34m\u001b[1mwandb\u001b[0m:   1 of 1 files downloaded.  \n"
     ]
    },
    {
     "name": "stdout",
     "output_type": "stream",
     "text": [
      "K_zz_softgp_elevators_512_1024_0.001_6535_20:v0\n"
     ]
    },
    {
     "name": "stderr",
     "output_type": "stream",
     "text": [
      "\u001b[34m\u001b[1mwandb\u001b[0m:   1 of 1 files downloaded.  \n"
     ]
    },
    {
     "name": "stdout",
     "output_type": "stream",
     "text": [
      "inducing_points_softgp_elevators_512_1024_0.001_6535_30:v0\n"
     ]
    },
    {
     "name": "stderr",
     "output_type": "stream",
     "text": [
      "\u001b[34m\u001b[1mwandb\u001b[0m:   1 of 1 files downloaded.  \n"
     ]
    },
    {
     "name": "stdout",
     "output_type": "stream",
     "text": [
      "W_xz_softgp_elevators_512_1024_0.001_6535_30:v0\n"
     ]
    },
    {
     "name": "stderr",
     "output_type": "stream",
     "text": [
      "\u001b[34m\u001b[1mwandb\u001b[0m:   1 of 1 files downloaded.  \n"
     ]
    },
    {
     "name": "stdout",
     "output_type": "stream",
     "text": [
      "K_zz_softgp_elevators_512_1024_0.001_6535_30:v0\n"
     ]
    },
    {
     "name": "stderr",
     "output_type": "stream",
     "text": [
      "\u001b[34m\u001b[1mwandb\u001b[0m:   1 of 1 files downloaded.  \n"
     ]
    },
    {
     "name": "stdout",
     "output_type": "stream",
     "text": [
      "inducing_points_softgp_elevators_512_1024_0.001_6535_40:v0\n"
     ]
    },
    {
     "name": "stderr",
     "output_type": "stream",
     "text": [
      "\u001b[34m\u001b[1mwandb\u001b[0m:   1 of 1 files downloaded.  \n"
     ]
    },
    {
     "name": "stdout",
     "output_type": "stream",
     "text": [
      "W_xz_softgp_elevators_512_1024_0.001_6535_40:v0\n"
     ]
    },
    {
     "name": "stderr",
     "output_type": "stream",
     "text": [
      "\u001b[34m\u001b[1mwandb\u001b[0m:   1 of 1 files downloaded.  \n"
     ]
    },
    {
     "name": "stdout",
     "output_type": "stream",
     "text": [
      "K_zz_softgp_elevators_512_1024_0.001_6535_40:v0\n"
     ]
    },
    {
     "name": "stderr",
     "output_type": "stream",
     "text": [
      "\u001b[34m\u001b[1mwandb\u001b[0m:   1 of 1 files downloaded.  \n"
     ]
    },
    {
     "name": "stdout",
     "output_type": "stream",
     "text": [
      "inducing_points_softgp_elevators_512_1024_0.001_6535_49:v0\n"
     ]
    },
    {
     "name": "stderr",
     "output_type": "stream",
     "text": [
      "\u001b[34m\u001b[1mwandb\u001b[0m:   1 of 1 files downloaded.  \n"
     ]
    },
    {
     "name": "stdout",
     "output_type": "stream",
     "text": [
      "W_xz_softgp_elevators_512_1024_0.001_6535_49:v0\n"
     ]
    },
    {
     "name": "stderr",
     "output_type": "stream",
     "text": [
      "\u001b[34m\u001b[1mwandb\u001b[0m:   1 of 1 files downloaded.  \n"
     ]
    },
    {
     "name": "stdout",
     "output_type": "stream",
     "text": [
      "K_zz_softgp_elevators_512_1024_0.001_6535_49:v0\n"
     ]
    },
    {
     "name": "stderr",
     "output_type": "stream",
     "text": [
      "\u001b[34m\u001b[1mwandb\u001b[0m:   1 of 1 files downloaded.  \n"
     ]
    },
    {
     "name": "stdout",
     "output_type": "stream",
     "text": [
      "run-wc5gmtg8-history:v0\n"
     ]
    },
    {
     "name": "stderr",
     "output_type": "stream",
     "text": [
      "\u001b[34m\u001b[1mwandb\u001b[0m:   1 of 1 files downloaded.  \n"
     ]
    },
    {
     "name": "stdout",
     "output_type": "stream",
     "text": [
      "inducing_points_softgp_pol_512_1024_0.001_6535_0:v0\n"
     ]
    },
    {
     "name": "stderr",
     "output_type": "stream",
     "text": [
      "\u001b[34m\u001b[1mwandb\u001b[0m:   1 of 1 files downloaded.  \n"
     ]
    },
    {
     "name": "stdout",
     "output_type": "stream",
     "text": [
      "W_xz_softgp_pol_512_1024_0.001_6535_0:v0\n"
     ]
    },
    {
     "name": "stderr",
     "output_type": "stream",
     "text": [
      "\u001b[34m\u001b[1mwandb\u001b[0m:   1 of 1 files downloaded.  \n"
     ]
    },
    {
     "name": "stdout",
     "output_type": "stream",
     "text": [
      "K_zz_softgp_pol_512_1024_0.001_6535_0:v0\n"
     ]
    },
    {
     "name": "stderr",
     "output_type": "stream",
     "text": [
      "\u001b[34m\u001b[1mwandb\u001b[0m:   1 of 1 files downloaded.  \n"
     ]
    },
    {
     "name": "stdout",
     "output_type": "stream",
     "text": [
      "inducing_points_softgp_pol_512_1024_0.001_6535_10:v0\n"
     ]
    },
    {
     "name": "stderr",
     "output_type": "stream",
     "text": [
      "\u001b[34m\u001b[1mwandb\u001b[0m:   1 of 1 files downloaded.  \n"
     ]
    },
    {
     "name": "stdout",
     "output_type": "stream",
     "text": [
      "W_xz_softgp_pol_512_1024_0.001_6535_10:v0\n"
     ]
    },
    {
     "name": "stderr",
     "output_type": "stream",
     "text": [
      "\u001b[34m\u001b[1mwandb\u001b[0m:   1 of 1 files downloaded.  \n"
     ]
    },
    {
     "name": "stdout",
     "output_type": "stream",
     "text": [
      "K_zz_softgp_pol_512_1024_0.001_6535_10:v0\n"
     ]
    },
    {
     "name": "stderr",
     "output_type": "stream",
     "text": [
      "\u001b[34m\u001b[1mwandb\u001b[0m:   1 of 1 files downloaded.  \n"
     ]
    },
    {
     "name": "stdout",
     "output_type": "stream",
     "text": [
      "inducing_points_softgp_pol_512_1024_0.001_6535_20:v0\n"
     ]
    },
    {
     "name": "stderr",
     "output_type": "stream",
     "text": [
      "\u001b[34m\u001b[1mwandb\u001b[0m:   1 of 1 files downloaded.  \n"
     ]
    },
    {
     "name": "stdout",
     "output_type": "stream",
     "text": [
      "W_xz_softgp_pol_512_1024_0.001_6535_20:v0\n"
     ]
    },
    {
     "name": "stderr",
     "output_type": "stream",
     "text": [
      "\u001b[34m\u001b[1mwandb\u001b[0m:   1 of 1 files downloaded.  \n"
     ]
    },
    {
     "name": "stdout",
     "output_type": "stream",
     "text": [
      "K_zz_softgp_pol_512_1024_0.001_6535_20:v0\n"
     ]
    },
    {
     "name": "stderr",
     "output_type": "stream",
     "text": [
      "\u001b[34m\u001b[1mwandb\u001b[0m:   1 of 1 files downloaded.  \n"
     ]
    },
    {
     "name": "stdout",
     "output_type": "stream",
     "text": [
      "inducing_points_softgp_pol_512_1024_0.001_6535_30:v0\n"
     ]
    },
    {
     "name": "stderr",
     "output_type": "stream",
     "text": [
      "\u001b[34m\u001b[1mwandb\u001b[0m:   1 of 1 files downloaded.  \n"
     ]
    },
    {
     "name": "stdout",
     "output_type": "stream",
     "text": [
      "W_xz_softgp_pol_512_1024_0.001_6535_30:v0\n"
     ]
    },
    {
     "name": "stderr",
     "output_type": "stream",
     "text": [
      "\u001b[34m\u001b[1mwandb\u001b[0m:   1 of 1 files downloaded.  \n"
     ]
    },
    {
     "name": "stdout",
     "output_type": "stream",
     "text": [
      "K_zz_softgp_pol_512_1024_0.001_6535_30:v0\n"
     ]
    },
    {
     "name": "stderr",
     "output_type": "stream",
     "text": [
      "\u001b[34m\u001b[1mwandb\u001b[0m:   1 of 1 files downloaded.  \n"
     ]
    },
    {
     "name": "stdout",
     "output_type": "stream",
     "text": [
      "inducing_points_softgp_pol_512_1024_0.001_6535_40:v0\n"
     ]
    },
    {
     "name": "stderr",
     "output_type": "stream",
     "text": [
      "\u001b[34m\u001b[1mwandb\u001b[0m:   1 of 1 files downloaded.  \n"
     ]
    },
    {
     "name": "stdout",
     "output_type": "stream",
     "text": [
      "W_xz_softgp_pol_512_1024_0.001_6535_40:v0\n"
     ]
    },
    {
     "name": "stderr",
     "output_type": "stream",
     "text": [
      "\u001b[34m\u001b[1mwandb\u001b[0m:   1 of 1 files downloaded.  \n"
     ]
    },
    {
     "name": "stdout",
     "output_type": "stream",
     "text": [
      "K_zz_softgp_pol_512_1024_0.001_6535_40:v0\n"
     ]
    },
    {
     "name": "stderr",
     "output_type": "stream",
     "text": [
      "\u001b[34m\u001b[1mwandb\u001b[0m:   1 of 1 files downloaded.  \n"
     ]
    },
    {
     "name": "stdout",
     "output_type": "stream",
     "text": [
      "inducing_points_softgp_pol_512_1024_0.001_6535_49:v0\n"
     ]
    },
    {
     "name": "stderr",
     "output_type": "stream",
     "text": [
      "\u001b[34m\u001b[1mwandb\u001b[0m:   1 of 1 files downloaded.  \n"
     ]
    },
    {
     "name": "stdout",
     "output_type": "stream",
     "text": [
      "W_xz_softgp_pol_512_1024_0.001_6535_49:v0\n"
     ]
    },
    {
     "name": "stderr",
     "output_type": "stream",
     "text": [
      "\u001b[34m\u001b[1mwandb\u001b[0m:   1 of 1 files downloaded.  \n"
     ]
    },
    {
     "name": "stdout",
     "output_type": "stream",
     "text": [
      "K_zz_softgp_pol_512_1024_0.001_6535_49:v0\n"
     ]
    },
    {
     "name": "stderr",
     "output_type": "stream",
     "text": [
      "\u001b[34m\u001b[1mwandb\u001b[0m:   1 of 1 files downloaded.  \n"
     ]
    },
    {
     "name": "stdout",
     "output_type": "stream",
     "text": [
      "run-bmn83zqo-history:v0\n"
     ]
    },
    {
     "name": "stderr",
     "output_type": "stream",
     "text": [
      "\u001b[34m\u001b[1mwandb\u001b[0m:   1 of 1 files downloaded.  \n"
     ]
    }
   ],
   "source": [
    "api = wandb.Api()\n",
    "for exp in tqdm(raw):\n",
    "    run = api.run(f'bogp/soft-gp-2/{exp.run.id}')\n",
    "    if exp.config[\"training.seed\"] == 6535:\n",
    "        for artifact in run.logged_artifacts():\n",
    "            print(artifact.name)\n",
    "            artifact.download()\n"
   ]
  },
  {
   "cell_type": "code",
   "execution_count": null,
   "metadata": {},
   "outputs": [],
   "source": []
  },
  {
   "cell_type": "code",
   "execution_count": 7,
   "metadata": {},
   "outputs": [
    {
     "name": "stderr",
     "output_type": "stream",
     "text": [
      "/tmp/ipykernel_2786727/824547403.py:17: UserWarning: To copy construct from a tensor, it is recommended to use sourceTensor.clone().detach() or sourceTensor.clone().detach().requires_grad_(True), rather than torch.tensor(sourceTensor).\n",
      "  softgp = SoftGP(skernel, inducing_points=torch.tensor(z), use_scale=True)\n"
     ]
    },
    {
     "name": "stdout",
     "output_type": "stream",
     "text": [
      "torch.Size([512, 18])\n",
      "l 0.6262181401252747 s 0.771547794342041\n",
      "l 0.7184596657752991 s 0.6684596538543701\n",
      "(512, 512) torch.Size([512, 18])\n",
      "torch.Size([512, 18])\n",
      "l 1.3131461143493652 s 1.354708194732666\n",
      "l 1.0097516775131226 s 0.4586727023124695\n",
      "(512, 512) torch.Size([512, 18])\n",
      "torch.Size([512, 18])\n",
      "l 1.4765994548797607 s 1.8209608793258667\n",
      "l 1.3657019138336182 s 0.31939077377319336\n",
      "(512, 512) torch.Size([512, 18])\n",
      "torch.Size([512, 18])\n",
      "l 1.5258351564407349 s 2.292977809906006\n",
      "l 1.7466990947723389 s 0.24201951920986176\n",
      "(512, 512) torch.Size([512, 18])\n",
      "torch.Size([512, 18])\n",
      "l 1.5408706665039062 s 2.7679412364959717\n",
      "l 2.105574131011963 s 0.20781636238098145\n",
      "(512, 512) torch.Size([512, 18])\n",
      "torch.Size([512, 18])\n",
      "l 1.5422393083572388 s 3.1895813941955566\n",
      "l 2.4169366359710693 s 0.22961321473121643\n",
      "(512, 512) torch.Size([512, 18])\n"
     ]
    },
    {
     "name": "stderr",
     "output_type": "stream",
     "text": [
      "/tmp/ipykernel_2786727/824547403.py:17: UserWarning: To copy construct from a tensor, it is recommended to use sourceTensor.clone().detach() or sourceTensor.clone().detach().requires_grad_(True), rather than torch.tensor(sourceTensor).\n",
      "  softgp = SoftGP(skernel, inducing_points=torch.tensor(z), use_scale=True)\n"
     ]
    }
   ],
   "source": [
    "def load(dataset):\n",
    "    kernels = []\n",
    "    softgps = []\n",
    "    K_zzs = []\n",
    "    epochs = [0, 10, 20, 30, 40, 50]\n",
    "    # epochs = [0, 20, 40, 60, 80, 99]\n",
    "    for epoch, epoch_exact in zip([0, 10, 20, 30, 40, 49], epochs):\n",
    "        K_zz = np.load(f\"artifacts/K_zz_softgp_{dataset}_512_1024_0.001_6535_{epoch}:v0/K_zz.npy\")\n",
    "        # W_xz = np.load(f\"artifacts/W_xz_softgp_{dataset}_512_1024_0.001_6535_{epoch}:v0/W_xz.npy\")\n",
    "        z = torch.tensor(np.load(f\"artifacts/inducing_points_softgp_{dataset}_512_1024_0.001_6535_{epoch}:v0/array.npy\"), dtype=torch.float32)\n",
    "        print(z.shape)\n",
    "        l = uci_dict[(dataset, 6535, \"soft-gp\")][\"lengthscale\"][epoch]\n",
    "        s = uci_dict[(dataset, 6535, \"soft-gp\")][\"outputscale\"][epoch]\n",
    "        print(\"l\", l, \"s\", s)\n",
    "        skernel = RBFKernel()\n",
    "        skernel.lengthscale = l\n",
    "        softgp = SoftGP(skernel, inducing_points=torch.tensor(z), use_scale=True)\n",
    "        softgp.kernel.base_kernel.outputscale = s\n",
    "\n",
    "        kernel = ScaleKernel(RBFKernel())\n",
    "        l = uci_dict[(dataset, 6535, \"exact\")][\"lengthscale\"][epoch_exact]\n",
    "        s = uci_dict[(dataset, 6535, \"exact\")][\"outputscale\"][epoch_exact]\n",
    "        kernel.base_kernel.lengthscale = l\n",
    "        kernel.outputscale = s\n",
    "        print(\"l\", l, \"s\", s)\n",
    "        print(K_zz.shape, z.shape)\n",
    "        kernels += [kernel]\n",
    "        softgps += [softgp]\n",
    "        K_zzs += [K_zz]\n",
    "\n",
    "    return kernels, softgps, K_zzs\n",
    "\n",
    "kernels, softgps, K_zzs = load(\"elevators\")"
   ]
  },
  {
   "cell_type": "code",
   "execution_count": 8,
   "metadata": {},
   "outputs": [
    {
     "data": {
      "text/plain": [
       "<torch._C.Generator at 0x7fa8f0204d50>"
      ]
     },
     "execution_count": 8,
     "metadata": {},
     "output_type": "execute_result"
    }
   ],
   "source": [
    "from data.get_uci import (\n",
    "        PoleteleDataset,\n",
    "        ElevatorsDataset,\n",
    "        BikeDataset,\n",
    "        Kin40KDataset,\n",
    "        ProteinDataset,\n",
    "        KeggDirectedDataset,\n",
    "        CTSlicesDataset,\n",
    "        KeggUndirectedDataset,\n",
    "        RoadDataset,\n",
    "        SongDataset,\n",
    "        BuzzDataset,\n",
    "        HouseElectricDataset,\n",
    "    )\n",
    "from gp.util import flatten_dataset, split_dataset\n",
    "np.random.seed(6535)\n",
    "torch.manual_seed(6535)"
   ]
  },
  {
   "cell_type": "code",
   "execution_count": 15,
   "metadata": {},
   "outputs": [
    {
     "name": "stdout",
     "output_type": "stream",
     "text": [
      "torch.Size([512, 18])\n",
      "l 0.6262181401252747 s 0.771547794342041\n",
      "l 0.7184596657752991 s 0.6684596538543701\n",
      "(512, 512) torch.Size([512, 18])\n",
      "torch.Size([512, 18])\n",
      "l 1.3131461143493652 s 1.354708194732666\n",
      "l 1.0097516775131226 s 0.4586727023124695\n",
      "(512, 512) torch.Size([512, 18])\n",
      "torch.Size([512, 18])\n",
      "l 1.4765994548797607 s 1.8209608793258667\n",
      "l 1.3657019138336182 s 0.31939077377319336\n",
      "(512, 512) torch.Size([512, 18])\n",
      "torch.Size([512, 18])\n",
      "l 1.5258351564407349 s 2.292977809906006\n",
      "l 1.7466990947723389 s 0.24201951920986176\n",
      "(512, 512) torch.Size([512, 18])\n",
      "torch.Size([512, 18])\n",
      "l 1.5408706665039062 s 2.7679412364959717\n",
      "l 2.105574131011963 s 0.20781636238098145\n",
      "(512, 512) torch.Size([512, 18])\n",
      "torch.Size([512, 18])\n",
      "l 1.5422393083572388 s 3.1895813941955566\n",
      "l 2.4169366359710693 s 0.22961321473121643\n",
      "(512, 512) torch.Size([512, 18])\n",
      "SIZE (16599, 19)\n"
     ]
    },
    {
     "name": "stderr",
     "output_type": "stream",
     "text": [
      "/tmp/ipykernel_2786727/824547403.py:17: UserWarning: To copy construct from a tensor, it is recommended to use sourceTensor.clone().detach() or sourceTensor.clone().detach().requires_grad_(True), rather than torch.tensor(sourceTensor).\n",
      "  softgp = SoftGP(skernel, inducing_points=torch.tensor(z), use_scale=True)\n"
     ]
    },
    {
     "data": {
      "application/vnd.jupyter.widget-view+json": {
       "model_id": "607d02f0b2e84ad58738153acbe38fa1",
       "version_major": 2,
       "version_minor": 0
      },
      "text/plain": [
       "  0%|          | 0/1 [00:00<?, ?it/s]"
      ]
     },
     "metadata": {},
     "output_type": "display_data"
    }
   ],
   "source": [
    "kernels, softgps, K_zzs = load(\"elevators\")\n",
    "\n",
    "my_dataset = ElevatorsDataset(f\"../data/uci_datasets/uci_datasets/elevators/data.csv\")\n",
    "# Generate splits\n",
    "train_dataset, val_dataset, test_dataset = split_dataset(\n",
    "    my_dataset,\n",
    "    train_frac=0.9,\n",
    "    val_frac=0.0\n",
    ")\n",
    "test_features, test_labels = flatten_dataset(test_dataset)\n",
    "xs = test_features[0:128,:]\n",
    "\n",
    "norms = []\n",
    "with torch.no_grad():\n",
    "    for idx, (kernel, softgp, K_zz) in enumerate(zip(kernels, softgps, K_zzs)):\n",
    "        W_xz = softgp._interp(xs)\n",
    "        Q_xx = W_xz @ K_zz @ W_xz.T\n",
    "        K_xx = kernel(xs, xs).evaluate()\n",
    "        norms += [torch.linalg.matrix_norm(K_xx - Q_xx, ord='fro') / torch.linalg.matrix_norm(K_xx, ord='fro')]"
   ]
  },
  {
   "cell_type": "code",
   "execution_count": 20,
   "metadata": {},
   "outputs": [
    {
     "data": {
      "image/png": "[encoded data removed]",
      "text/plain": [
       "<Figure size 600x600 with 2 Axes>"
      ]
     },
     "metadata": {},
     "output_type": "display_data"
    }
   ],
   "source": [
    "fig, axes = plt.subplots(1, 1, figsize=(6, 6))\n",
    "axes.set_title(r\"$K_{xx}$\")\n",
    "heatmap(K_xx, ax=axes, cmap='coolwarm', cbar=True, vmin=0.0, vmax=1)\n",
    "plt.savefig(\"elevators_kxx.png\")"
   ]
  },
  {
   "cell_type": "code",
   "execution_count": 21,
   "metadata": {},
   "outputs": [
    {
     "name": "stdout",
     "output_type": "stream",
     "text": [
      "[tensor(0.9882), tensor(1.0322), tensor(1.0990), tensor(0.9626), tensor(0.7565), tensor(0.4795)]\n"
     ]
    },
    {
     "data": {
      "image/png": "[encoded data removed]",
      "text/plain": [
       "<Figure size 600x600 with 2 Axes>"
      ]
     },
     "metadata": {},
     "output_type": "display_data"
    }
   ],
   "source": [
    "print(norms)\n",
    "fig, axes = plt.subplots(1, 1, figsize=(6, 6))\n",
    "axes.set_title(r\"$\\tilde{Q}_{xx}^z$\")\n",
    "heatmap(Q_xx, ax=axes, cmap='coolwarm', cbar=True, vmin=0.0, vmax=1)\n",
    "plt.savefig(\"elevators_qxx.png\")"
   ]
  },
  {
   "cell_type": "code",
   "execution_count": 22,
   "metadata": {},
   "outputs": [
    {
     "data": {
      "image/png": "[encoded data removed]",
      "text/plain": [
       "<Figure size 600x600 with 1 Axes>"
      ]
     },
     "metadata": {},
     "output_type": "display_data"
    }
   ],
   "source": [
    "fig, axes = plt.subplots(1, 1, figsize=(6, 6))\n",
    "plt.plot([0, 10, 20, 30, 40, 49], norms, marker=\"x\")\n",
    "plt.title(\"Elevators\")\n",
    "plt.xlabel(\"Epoch\")\n",
    "plt.ylabel(r\"$\\|K_{xx} - \\tilde{Q}_{xx}^z\\| / \\|K_{xx}\\|$\");\n",
    "plt.savefig(\"elevators_kxx_qxx_norm.png\")"
   ]
  },
  {
   "cell_type": "code",
   "execution_count": 29,
   "metadata": {},
   "outputs": [
    {
     "name": "stdout",
     "output_type": "stream",
     "text": [
      "torch.Size([512, 26])\n",
      "l 0.6326248049736023 s 0.7651041746139526\n",
      "l 0.7184596657752991 s 0.6684596538543701\n",
      "(512, 512) torch.Size([512, 26])\n",
      "torch.Size([512, 26])\n",
      "l 0.7479104995727539 s 1.518255352973938\n",
      "l 1.0037484169006348 s 0.45737671852111816\n",
      "(512, 512) torch.Size([512, 26])\n",
      "torch.Size([512, 26])\n",
      "l 0.6321961283683777 s 2.2726922035217285\n",
      "l 1.3284575939178467 s 0.3105637729167938\n",
      "(512, 512) torch.Size([512, 26])\n",
      "torch.Size([512, 26])\n",
      "l 0.5387281179428101 s 2.9679741859436035\n",
      "l 1.6460185050964355 s 0.21769559383392334\n",
      "(512, 512) torch.Size([512, 26])\n",
      "torch.Size([512, 26])\n",
      "l 0.4574849605560303 s 3.6189818382263184\n",
      "l 1.91181480884552 s 0.16271916031837463\n",
      "(512, 512) torch.Size([512, 26])\n",
      "torch.Size([512, 26])\n",
      "l 0.39682096242904663 s 4.162954330444336\n",
      "l 2.1031441688537598 s 0.131681889295578\n",
      "(512, 512) torch.Size([512, 26])\n",
      "SIZE (15000, 27)\n"
     ]
    },
    {
     "name": "stderr",
     "output_type": "stream",
     "text": [
      "/tmp/ipykernel_2786727/824547403.py:17: UserWarning: To copy construct from a tensor, it is recommended to use sourceTensor.clone().detach() or sourceTensor.clone().detach().requires_grad_(True), rather than torch.tensor(sourceTensor).\n",
      "  softgp = SoftGP(skernel, inducing_points=torch.tensor(z), use_scale=True)\n"
     ]
    },
    {
     "data": {
      "application/vnd.jupyter.widget-view+json": {
       "model_id": "3a97e9346b1b4ffb9f26011889aecd7e",
       "version_major": 2,
       "version_minor": 0
      },
      "text/plain": [
       "  0%|          | 0/1 [00:00<?, ?it/s]"
      ]
     },
     "metadata": {},
     "output_type": "display_data"
    }
   ],
   "source": [
    "kernels, softgps, K_zzs = load(\"pol\")\n",
    "\n",
    "my_dataset = PoleteleDataset(f\"../data/uci_datasets/uci_datasets/pol/data.csv\")\n",
    "# Generate splits\n",
    "train_dataset, val_dataset, test_dataset = split_dataset(\n",
    "    my_dataset,\n",
    "    train_frac=0.9,\n",
    "    val_frac=0.0\n",
    ")\n",
    "test_features, test_labels = flatten_dataset(test_dataset)\n",
    "xs = test_features[0:128,:]\n",
    "\n",
    "norms = []\n",
    "with torch.no_grad():\n",
    "    for idx, (kernel, softgp, K_zz) in enumerate(zip(kernels, softgps, K_zzs)):\n",
    "        W_xz = softgp._interp(xs)\n",
    "        Q_xx = W_xz @ K_zz @ W_xz.T\n",
    "        K_xx = kernel(xs, xs).evaluate()\n",
    "        norms += [torch.linalg.matrix_norm(K_xx - Q_xx, ord='fro') / torch.linalg.matrix_norm(K_xx, ord='fro')]"
   ]
  },
  {
   "cell_type": "code",
   "execution_count": 30,
   "metadata": {},
   "outputs": [
    {
     "name": "stdout",
     "output_type": "stream",
     "text": [
      "[tensor(0.9317), tensor(0.8817), tensor(0.9220), tensor(1.0945), tensor(1.3582), tensor(1.6816)]\n"
     ]
    },
    {
     "data": {
      "image/png": "[encoded data removed]",
      "text/plain": [
       "<Figure size 600x600 with 2 Axes>"
      ]
     },
     "metadata": {},
     "output_type": "display_data"
    }
   ],
   "source": [
    "print(norms)\n",
    "fig, axes = plt.subplots(1, 1, figsize=(6, 6))\n",
    "axes.set_title(r\"$K_{xx}$\")\n",
    "heatmap(K_xx, ax=axes, cmap='coolwarm', cbar=True, vmin=0.0, vmax=1)\n",
    "plt.savefig(\"pol_kxx.png\")"
   ]
  },
  {
   "cell_type": "code",
   "execution_count": 31,
   "metadata": {},
   "outputs": [
    {
     "data": {
      "image/png": "[encoded data removed]",
      "text/plain": [
       "<Figure size 600x600 with 2 Axes>"
      ]
     },
     "metadata": {},
     "output_type": "display_data"
    }
   ],
   "source": [
    "fig, axes = plt.subplots(1, 1, figsize=(6, 6))\n",
    "axes.set_title(r\"$\\tilde{Q}_{xx}^z$\")\n",
    "heatmap(Q_xx, ax=axes, cmap='coolwarm', cbar=True, vmin=0.0, vmax=1)\n",
    "plt.savefig(\"pol_qxx.png\")"
   ]
  },
  {
   "cell_type": "code",
   "execution_count": 32,
   "metadata": {},
   "outputs": [
    {
     "data": {
      "image/png": "[encoded data removed]",
      "text/plain": [
       "<Figure size 600x600 with 1 Axes>"
      ]
     },
     "metadata": {},
     "output_type": "display_data"
    }
   ],
   "source": [
    "fig, axes = plt.subplots(1, 1, figsize=(6, 6))\n",
    "plt.plot([0, 10, 20, 30, 40, 49], norms, marker=\"x\")\n",
    "plt.title(\"Pol\")\n",
    "plt.xlabel(\"Epoch\")\n",
    "plt.ylabel(r\"$\\|K_{xx} - \\tilde{Q}_{xx}^z\\| / \\|K_{xx}\\|$\");\n",
    "plt.savefig(\"pol_kxx_qxx_norm.png\")"
   ]
  },
  {
   "cell_type": "code",
   "execution_count": 13,
   "metadata": {},
   "outputs": [
    {
     "data": {
      "text/plain": [
       "0     0.718460\n",
       "1     0.744393\n",
       "2     0.770940\n",
       "3     0.798093\n",
       "4     0.825840\n",
       "        ...   \n",
       "95    2.401776\n",
       "96    2.399261\n",
       "97    2.396346\n",
       "98    2.392959\n",
       "99    2.389384\n",
       "Name: lengthscale, Length: 100, dtype: float64"
      ]
     },
     "execution_count": 13,
     "metadata": {},
     "output_type": "execute_result"
    }
   ],
   "source": [
    "uci_dict[(\"pol\", 6535, \"exact\")][\"lengthscale\"]"
   ]
  },
  {
   "cell_type": "code",
   "execution_count": null,
   "metadata": {},
   "outputs": [],
   "source": []
  }
 ],
 "metadata": {
  "kernelspec": {
   "display_name": "softgp",
   "language": "python",
   "name": "python3"
  },
  "language_info": {
   "codemirror_mode": {
    "name": "ipython",
    "version": 3
   },
   "file_extension": ".py",
   "mimetype": "text/x-python",
   "name": "python",
   "nbconvert_exporter": "python",
   "pygments_lexer": "ipython3",
   "version": "3.11.9"
  }
 },
 "nbformat": 4,
 "nbformat_minor": 2
}
