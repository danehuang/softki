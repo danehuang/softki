{
 "cells": [
  {
   "cell_type": "code",
   "execution_count": 1,
   "metadata": {},
   "outputs": [],
   "source": [
    "import numpy as np\n",
    "import torch\n",
    "import matplotlib.pyplot as plt\n",
    "from gpytorch.kernels import MaternKernel\n",
    "np.random.seed(42)\n",
    "torch.manual_seed(42)\n",
    "global_dtype = torch.float64\n",
    "device ='cpu'"
   ]
  },
  {
   "cell_type": "code",
   "execution_count": null,
   "metadata": {},
   "outputs": [],
   "source": []
  },
  {
   "cell_type": "markdown",
   "metadata": {},
   "source": [
    "### 1. Introduction\n",
    "\n",
    "---\n",
    "\n",
    "There are multiple natural questions one may have about these two methods for example:\n",
    "- What is the main difference between GPR and KRR?\n",
    "- When are these two methods equal if ever?\n",
    "- When should I use one method over the other?\n",
    "- What is the operational cost of each method? \n",
    "\n",
    "*As always when reading this notebook it is recommended to collapse all code cells and explore as needed.*"
   ]
  },
  {
   "cell_type": "code",
   "execution_count": null,
   "metadata": {},
   "outputs": [],
   "source": []
  }
 ],
 "metadata": {
  "kernelspec": {
   "display_name": "softgp",
   "language": "python",
   "name": "python3"
  },
  "language_info": {
   "codemirror_mode": {
    "name": "ipython",
    "version": 3
   },
   "file_extension": ".py",
   "mimetype": "text/x-python",
   "name": "python",
   "nbconvert_exporter": "python",
   "pygments_lexer": "ipython3",
   "version": "3.12.4"
  }
 },
 "nbformat": 4,
 "nbformat_minor": 2
}
